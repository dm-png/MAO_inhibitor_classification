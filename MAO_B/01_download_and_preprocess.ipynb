{
 "cells": [
  {
   "cell_type": "markdown",
   "id": "c180e2f1-5fcd-4ef3-baf6-a544fb1683a1",
   "metadata": {},
   "source": [
    "## **1. Required Libraries**"
   ]
  },
  {
   "cell_type": "markdown",
   "id": "2fb13be2-df1f-4b3a-89a1-b75e0b278955",
   "metadata": {},
   "source": [
    "**RDkit:** Provides extensive cheminformatics functionality for working with chemical structures, including fingerprint calculation.  \n",
    "**Pandas:** Offers robust tools for data manipulation, analysis, and the creation of tabular data structures (DataFrames).  \n",
    "**ChEMBL web resource client:** Facilitates interaction with the ChEMBL database, allowing you to access and retrieve chemical data programmatically.  \n",
    "**Scikit-learn:** A versatile machine learning library with a wide range of algorithms for classification, regression, clustering, and more.  \n",
    "**XGBoost:** Provides a powerful implementation of gradient boosting decision trees, often used for achieving state-of-the-art results on structured data.  \n",
    "**TensorFlow:** A platform for large-scale numerical computation and machine learning, particularly well-suited for deep learning.  \n",
    "**Pycaret:** A low-code, lightweight package for quick building and evaluation of ML models."
   ]
  },
  {
   "cell_type": "markdown",
   "id": "734563e6-ca78-4b63-bb98-231d6def062a",
   "metadata": {},
   "source": [
    "### **Import libraries**"
   ]
  },
  {
   "cell_type": "code",
   "execution_count": 2,
   "id": "b9d4aa59-7e22-4a31-b3c6-038ddc5d907d",
   "metadata": {
    "tags": []
   },
   "outputs": [],
   "source": [
    "import pandas as pd\n",
    "import numpy as np\n",
    "from chembl_webresource_client.new_client import new_client"
   ]
  },
  {
   "cell_type": "markdown",
   "id": "0b1fc439-bf4b-4f7b-998d-43496497dfac",
   "metadata": {},
   "source": [
    "**Target search monoamine oxidase B (MAO-B)**"
   ]
  },
  {
   "cell_type": "code",
   "execution_count": 3,
   "id": "93f260b0-4f30-4415-bcda-6680e7370834",
   "metadata": {
    "tags": []
   },
   "outputs": [
    {
     "data": {
      "text/html": [
       "<div>\n",
       "<style scoped>\n",
       "    .dataframe tbody tr th:only-of-type {\n",
       "        vertical-align: middle;\n",
       "    }\n",
       "\n",
       "    .dataframe tbody tr th {\n",
       "        vertical-align: top;\n",
       "    }\n",
       "\n",
       "    .dataframe thead th {\n",
       "        text-align: right;\n",
       "    }\n",
       "</style>\n",
       "<table border=\"1\" class=\"dataframe\">\n",
       "  <thead>\n",
       "    <tr style=\"text-align: right;\">\n",
       "      <th></th>\n",
       "      <th>cross_references</th>\n",
       "      <th>organism</th>\n",
       "      <th>pref_name</th>\n",
       "      <th>score</th>\n",
       "      <th>species_group_flag</th>\n",
       "      <th>target_chembl_id</th>\n",
       "      <th>target_components</th>\n",
       "      <th>target_type</th>\n",
       "      <th>tax_id</th>\n",
       "    </tr>\n",
       "  </thead>\n",
       "  <tbody>\n",
       "    <tr>\n",
       "      <th>0</th>\n",
       "      <td>[]</td>\n",
       "      <td>Rattus norvegicus</td>\n",
       "      <td>Monoamine oxidase</td>\n",
       "      <td>32.0</td>\n",
       "      <td>False</td>\n",
       "      <td>CHEMBL2095196</td>\n",
       "      <td>[{'accession': 'P19643', 'component_descriptio...</td>\n",
       "      <td>PROTEIN FAMILY</td>\n",
       "      <td>10116.0</td>\n",
       "    </tr>\n",
       "    <tr>\n",
       "      <th>1</th>\n",
       "      <td>[]</td>\n",
       "      <td>Homo sapiens</td>\n",
       "      <td>Monoamine oxidase</td>\n",
       "      <td>32.0</td>\n",
       "      <td>False</td>\n",
       "      <td>CHEMBL2095205</td>\n",
       "      <td>[{'accession': 'P21397', 'component_descriptio...</td>\n",
       "      <td>PROTEIN FAMILY</td>\n",
       "      <td>9606.0</td>\n",
       "    </tr>\n",
       "    <tr>\n",
       "      <th>2</th>\n",
       "      <td>[]</td>\n",
       "      <td>Mus musculus</td>\n",
       "      <td>Monoamine oxidase</td>\n",
       "      <td>32.0</td>\n",
       "      <td>False</td>\n",
       "      <td>CHEMBL2111442</td>\n",
       "      <td>[{'accession': 'Q8BW75', 'component_descriptio...</td>\n",
       "      <td>PROTEIN FAMILY</td>\n",
       "      <td>10090.0</td>\n",
       "    </tr>\n",
       "    <tr>\n",
       "      <th>3</th>\n",
       "      <td>[]</td>\n",
       "      <td>Bos taurus</td>\n",
       "      <td>Monoamine oxidase</td>\n",
       "      <td>32.0</td>\n",
       "      <td>False</td>\n",
       "      <td>CHEMBL2111399</td>\n",
       "      <td>[{'accession': 'P56560', 'component_descriptio...</td>\n",
       "      <td>PROTEIN FAMILY</td>\n",
       "      <td>9913.0</td>\n",
       "    </tr>\n",
       "    <tr>\n",
       "      <th>4</th>\n",
       "      <td>[]</td>\n",
       "      <td>Homo sapiens</td>\n",
       "      <td>Monoamine oxidase B</td>\n",
       "      <td>31.0</td>\n",
       "      <td>False</td>\n",
       "      <td>CHEMBL2039</td>\n",
       "      <td>[{'accession': 'P27338', 'component_descriptio...</td>\n",
       "      <td>SINGLE PROTEIN</td>\n",
       "      <td>9606.0</td>\n",
       "    </tr>\n",
       "    <tr>\n",
       "      <th>...</th>\n",
       "      <td>...</td>\n",
       "      <td>...</td>\n",
       "      <td>...</td>\n",
       "      <td>...</td>\n",
       "      <td>...</td>\n",
       "      <td>...</td>\n",
       "      <td>...</td>\n",
       "      <td>...</td>\n",
       "      <td>...</td>\n",
       "    </tr>\n",
       "    <tr>\n",
       "      <th>1837</th>\n",
       "      <td>[]</td>\n",
       "      <td>Staphylococcus aureus</td>\n",
       "      <td>70S ribosome</td>\n",
       "      <td>0.0</td>\n",
       "      <td>False</td>\n",
       "      <td>CHEMBL2364096</td>\n",
       "      <td>[{'accession': None, 'component_description': ...</td>\n",
       "      <td>PROTEIN NUCLEIC-ACID COMPLEX</td>\n",
       "      <td>1280.0</td>\n",
       "    </tr>\n",
       "    <tr>\n",
       "      <th>1838</th>\n",
       "      <td>[]</td>\n",
       "      <td>Streptococcus pyogenes</td>\n",
       "      <td>70S ribosome</td>\n",
       "      <td>0.0</td>\n",
       "      <td>False</td>\n",
       "      <td>CHEMBL2364103</td>\n",
       "      <td>[{'accession': None, 'component_description': ...</td>\n",
       "      <td>PROTEIN NUCLEIC-ACID COMPLEX</td>\n",
       "      <td>1314.0</td>\n",
       "    </tr>\n",
       "    <tr>\n",
       "      <th>1839</th>\n",
       "      <td>[]</td>\n",
       "      <td>Homo sapiens</td>\n",
       "      <td>Ribosomal protein S6 kinase</td>\n",
       "      <td>0.0</td>\n",
       "      <td>False</td>\n",
       "      <td>CHEMBL3832633</td>\n",
       "      <td>[{'accession': 'P51812', 'component_descriptio...</td>\n",
       "      <td>PROTEIN FAMILY</td>\n",
       "      <td>9606.0</td>\n",
       "    </tr>\n",
       "    <tr>\n",
       "      <th>1840</th>\n",
       "      <td>[]</td>\n",
       "      <td>Homo sapiens</td>\n",
       "      <td>80S Ribosome</td>\n",
       "      <td>0.0</td>\n",
       "      <td>False</td>\n",
       "      <td>CHEMBL3987582</td>\n",
       "      <td>[{'accession': 'P08865', 'component_descriptio...</td>\n",
       "      <td>PROTEIN NUCLEIC-ACID COMPLEX</td>\n",
       "      <td>9606.0</td>\n",
       "    </tr>\n",
       "    <tr>\n",
       "      <th>1841</th>\n",
       "      <td>[]</td>\n",
       "      <td>Rattus norvegicus</td>\n",
       "      <td>Glutamate (NMDA/AMPA/Kainate)</td>\n",
       "      <td>0.0</td>\n",
       "      <td>False</td>\n",
       "      <td>CHEMBL4524129</td>\n",
       "      <td>[{'accession': 'P35439', 'component_descriptio...</td>\n",
       "      <td>PROTEIN COMPLEX GROUP</td>\n",
       "      <td>10116.0</td>\n",
       "    </tr>\n",
       "  </tbody>\n",
       "</table>\n",
       "<p>1842 rows × 9 columns</p>\n",
       "</div>"
      ],
      "text/plain": [
       "     cross_references                organism                      pref_name  \\\n",
       "0                  []       Rattus norvegicus              Monoamine oxidase   \n",
       "1                  []            Homo sapiens              Monoamine oxidase   \n",
       "2                  []            Mus musculus              Monoamine oxidase   \n",
       "3                  []              Bos taurus              Monoamine oxidase   \n",
       "4                  []            Homo sapiens            Monoamine oxidase B   \n",
       "...               ...                     ...                            ...   \n",
       "1837               []   Staphylococcus aureus                   70S ribosome   \n",
       "1838               []  Streptococcus pyogenes                   70S ribosome   \n",
       "1839               []            Homo sapiens    Ribosomal protein S6 kinase   \n",
       "1840               []            Homo sapiens                   80S Ribosome   \n",
       "1841               []       Rattus norvegicus  Glutamate (NMDA/AMPA/Kainate)   \n",
       "\n",
       "      score  species_group_flag target_chembl_id  \\\n",
       "0      32.0               False    CHEMBL2095196   \n",
       "1      32.0               False    CHEMBL2095205   \n",
       "2      32.0               False    CHEMBL2111442   \n",
       "3      32.0               False    CHEMBL2111399   \n",
       "4      31.0               False       CHEMBL2039   \n",
       "...     ...                 ...              ...   \n",
       "1837    0.0               False    CHEMBL2364096   \n",
       "1838    0.0               False    CHEMBL2364103   \n",
       "1839    0.0               False    CHEMBL3832633   \n",
       "1840    0.0               False    CHEMBL3987582   \n",
       "1841    0.0               False    CHEMBL4524129   \n",
       "\n",
       "                                      target_components  \\\n",
       "0     [{'accession': 'P19643', 'component_descriptio...   \n",
       "1     [{'accession': 'P21397', 'component_descriptio...   \n",
       "2     [{'accession': 'Q8BW75', 'component_descriptio...   \n",
       "3     [{'accession': 'P56560', 'component_descriptio...   \n",
       "4     [{'accession': 'P27338', 'component_descriptio...   \n",
       "...                                                 ...   \n",
       "1837  [{'accession': None, 'component_description': ...   \n",
       "1838  [{'accession': None, 'component_description': ...   \n",
       "1839  [{'accession': 'P51812', 'component_descriptio...   \n",
       "1840  [{'accession': 'P08865', 'component_descriptio...   \n",
       "1841  [{'accession': 'P35439', 'component_descriptio...   \n",
       "\n",
       "                       target_type   tax_id  \n",
       "0                   PROTEIN FAMILY  10116.0  \n",
       "1                   PROTEIN FAMILY   9606.0  \n",
       "2                   PROTEIN FAMILY  10090.0  \n",
       "3                   PROTEIN FAMILY   9913.0  \n",
       "4                   SINGLE PROTEIN   9606.0  \n",
       "...                            ...      ...  \n",
       "1837  PROTEIN NUCLEIC-ACID COMPLEX   1280.0  \n",
       "1838  PROTEIN NUCLEIC-ACID COMPLEX   1314.0  \n",
       "1839                PROTEIN FAMILY   9606.0  \n",
       "1840  PROTEIN NUCLEIC-ACID COMPLEX   9606.0  \n",
       "1841         PROTEIN COMPLEX GROUP  10116.0  \n",
       "\n",
       "[1842 rows x 9 columns]"
      ]
     },
     "execution_count": 3,
     "metadata": {},
     "output_type": "execute_result"
    }
   ],
   "source": [
    "target = new_client.target\n",
    "target_query = target.search('monoamine oxidase B')\n",
    "targets = pd.DataFrame.from_dict(target_query)\n",
    "targets"
   ]
  },
  {
   "cell_type": "markdown",
   "id": "f09b88a5-c44f-4d30-87eb-49f3310ae5a7",
   "metadata": {},
   "source": [
    "**Target selection**"
   ]
  },
  {
   "cell_type": "code",
   "execution_count": 4,
   "id": "4a9bcd55-5e75-444c-b1cb-fc9549070f7f",
   "metadata": {
    "tags": []
   },
   "outputs": [
    {
     "data": {
      "text/plain": [
       "'CHEMBL2039'"
      ]
     },
     "execution_count": 4,
     "metadata": {},
     "output_type": "execute_result"
    }
   ],
   "source": [
    "selected_target = targets.target_chembl_id[4]\n",
    "selected_target"
   ]
  },
  {
   "cell_type": "code",
   "execution_count": 6,
   "id": "4f8d6d8e-b49e-4fd5-b8a4-5f807d54b854",
   "metadata": {
    "tags": []
   },
   "outputs": [
    {
     "data": {
      "text/html": [
       "<div>\n",
       "<style scoped>\n",
       "    .dataframe tbody tr th:only-of-type {\n",
       "        vertical-align: middle;\n",
       "    }\n",
       "\n",
       "    .dataframe tbody tr th {\n",
       "        vertical-align: top;\n",
       "    }\n",
       "\n",
       "    .dataframe thead th {\n",
       "        text-align: right;\n",
       "    }\n",
       "</style>\n",
       "<table border=\"1\" class=\"dataframe\">\n",
       "  <thead>\n",
       "    <tr style=\"text-align: right;\">\n",
       "      <th></th>\n",
       "      <th>action_type</th>\n",
       "      <th>activity_comment</th>\n",
       "      <th>activity_id</th>\n",
       "      <th>activity_properties</th>\n",
       "      <th>assay_chembl_id</th>\n",
       "      <th>assay_description</th>\n",
       "      <th>assay_type</th>\n",
       "      <th>assay_variant_accession</th>\n",
       "      <th>assay_variant_mutation</th>\n",
       "      <th>bao_endpoint</th>\n",
       "      <th>...</th>\n",
       "      <th>target_organism</th>\n",
       "      <th>target_pref_name</th>\n",
       "      <th>target_tax_id</th>\n",
       "      <th>text_value</th>\n",
       "      <th>toid</th>\n",
       "      <th>type</th>\n",
       "      <th>units</th>\n",
       "      <th>uo_units</th>\n",
       "      <th>upper_value</th>\n",
       "      <th>value</th>\n",
       "    </tr>\n",
       "  </thead>\n",
       "  <tbody>\n",
       "    <tr>\n",
       "      <th>0</th>\n",
       "      <td>None</td>\n",
       "      <td>None</td>\n",
       "      <td>184069</td>\n",
       "      <td>[]</td>\n",
       "      <td>CHEMBL706869</td>\n",
       "      <td>Compound was tested for inhibition of monoamin...</td>\n",
       "      <td>B</td>\n",
       "      <td>None</td>\n",
       "      <td>None</td>\n",
       "      <td>BAO_0000190</td>\n",
       "      <td>...</td>\n",
       "      <td>Homo sapiens</td>\n",
       "      <td>Monoamine oxidase B</td>\n",
       "      <td>9606</td>\n",
       "      <td>None</td>\n",
       "      <td>None</td>\n",
       "      <td>IC50</td>\n",
       "      <td>uM</td>\n",
       "      <td>UO_0000065</td>\n",
       "      <td>None</td>\n",
       "      <td>1000.0</td>\n",
       "    </tr>\n",
       "    <tr>\n",
       "      <th>1</th>\n",
       "      <td>None</td>\n",
       "      <td>None</td>\n",
       "      <td>185443</td>\n",
       "      <td>[]</td>\n",
       "      <td>CHEMBL706869</td>\n",
       "      <td>Compound was tested for inhibition of monoamin...</td>\n",
       "      <td>B</td>\n",
       "      <td>None</td>\n",
       "      <td>None</td>\n",
       "      <td>BAO_0000190</td>\n",
       "      <td>...</td>\n",
       "      <td>Homo sapiens</td>\n",
       "      <td>Monoamine oxidase B</td>\n",
       "      <td>9606</td>\n",
       "      <td>None</td>\n",
       "      <td>None</td>\n",
       "      <td>IC50</td>\n",
       "      <td>uM</td>\n",
       "      <td>UO_0000065</td>\n",
       "      <td>None</td>\n",
       "      <td>1000.0</td>\n",
       "    </tr>\n",
       "    <tr>\n",
       "      <th>2</th>\n",
       "      <td>None</td>\n",
       "      <td>None</td>\n",
       "      <td>185700</td>\n",
       "      <td>[]</td>\n",
       "      <td>CHEMBL734179</td>\n",
       "      <td>Inhibitory concentration against Monoamine oxi...</td>\n",
       "      <td>B</td>\n",
       "      <td>None</td>\n",
       "      <td>None</td>\n",
       "      <td>BAO_0000190</td>\n",
       "      <td>...</td>\n",
       "      <td>Homo sapiens</td>\n",
       "      <td>Monoamine oxidase B</td>\n",
       "      <td>9606</td>\n",
       "      <td>None</td>\n",
       "      <td>None</td>\n",
       "      <td>IC50</td>\n",
       "      <td>nM</td>\n",
       "      <td>UO_0000065</td>\n",
       "      <td>None</td>\n",
       "      <td>18.0</td>\n",
       "    </tr>\n",
       "    <tr>\n",
       "      <th>3</th>\n",
       "      <td>None</td>\n",
       "      <td>None</td>\n",
       "      <td>187020</td>\n",
       "      <td>[]</td>\n",
       "      <td>CHEMBL734178</td>\n",
       "      <td>Inhibitory concentration against Monoamine oxi...</td>\n",
       "      <td>B</td>\n",
       "      <td>None</td>\n",
       "      <td>None</td>\n",
       "      <td>BAO_0000190</td>\n",
       "      <td>...</td>\n",
       "      <td>Homo sapiens</td>\n",
       "      <td>Monoamine oxidase B</td>\n",
       "      <td>9606</td>\n",
       "      <td>None</td>\n",
       "      <td>None</td>\n",
       "      <td>IC50</td>\n",
       "      <td>nM</td>\n",
       "      <td>UO_0000065</td>\n",
       "      <td>None</td>\n",
       "      <td>9.0</td>\n",
       "    </tr>\n",
       "    <tr>\n",
       "      <th>4</th>\n",
       "      <td>None</td>\n",
       "      <td>None</td>\n",
       "      <td>188355</td>\n",
       "      <td>[]</td>\n",
       "      <td>CHEMBL734179</td>\n",
       "      <td>Inhibitory concentration against Monoamine oxi...</td>\n",
       "      <td>B</td>\n",
       "      <td>None</td>\n",
       "      <td>None</td>\n",
       "      <td>BAO_0000190</td>\n",
       "      <td>...</td>\n",
       "      <td>Homo sapiens</td>\n",
       "      <td>Monoamine oxidase B</td>\n",
       "      <td>9606</td>\n",
       "      <td>None</td>\n",
       "      <td>None</td>\n",
       "      <td>IC50</td>\n",
       "      <td>nM</td>\n",
       "      <td>UO_0000065</td>\n",
       "      <td>None</td>\n",
       "      <td>4.4</td>\n",
       "    </tr>\n",
       "    <tr>\n",
       "      <th>...</th>\n",
       "      <td>...</td>\n",
       "      <td>...</td>\n",
       "      <td>...</td>\n",
       "      <td>...</td>\n",
       "      <td>...</td>\n",
       "      <td>...</td>\n",
       "      <td>...</td>\n",
       "      <td>...</td>\n",
       "      <td>...</td>\n",
       "      <td>...</td>\n",
       "      <td>...</td>\n",
       "      <td>...</td>\n",
       "      <td>...</td>\n",
       "      <td>...</td>\n",
       "      <td>...</td>\n",
       "      <td>...</td>\n",
       "      <td>...</td>\n",
       "      <td>...</td>\n",
       "      <td>...</td>\n",
       "      <td>...</td>\n",
       "      <td>...</td>\n",
       "    </tr>\n",
       "    <tr>\n",
       "      <th>6023</th>\n",
       "      <td>{'action_type': 'INHIBITOR', 'description': 'N...</td>\n",
       "      <td>None</td>\n",
       "      <td>25721959</td>\n",
       "      <td>[]</td>\n",
       "      <td>CHEMBL5391082</td>\n",
       "      <td>Inhibition of MAO-B (unknown origin)</td>\n",
       "      <td>B</td>\n",
       "      <td>None</td>\n",
       "      <td>None</td>\n",
       "      <td>BAO_0000190</td>\n",
       "      <td>...</td>\n",
       "      <td>Homo sapiens</td>\n",
       "      <td>Monoamine oxidase B</td>\n",
       "      <td>9606</td>\n",
       "      <td>None</td>\n",
       "      <td>None</td>\n",
       "      <td>IC50</td>\n",
       "      <td>ug ml-1</td>\n",
       "      <td>UO_0000274</td>\n",
       "      <td>None</td>\n",
       "      <td>12.3</td>\n",
       "    </tr>\n",
       "    <tr>\n",
       "      <th>6024</th>\n",
       "      <td>{'action_type': 'INHIBITOR', 'description': 'N...</td>\n",
       "      <td>None</td>\n",
       "      <td>25731053</td>\n",
       "      <td>[]</td>\n",
       "      <td>CHEMBL5393271</td>\n",
       "      <td>Inhibition of recombinant MAO-B (unknown origi...</td>\n",
       "      <td>T</td>\n",
       "      <td>None</td>\n",
       "      <td>None</td>\n",
       "      <td>BAO_0000190</td>\n",
       "      <td>...</td>\n",
       "      <td>Homo sapiens</td>\n",
       "      <td>Monoamine oxidase B</td>\n",
       "      <td>9606</td>\n",
       "      <td>None</td>\n",
       "      <td>None</td>\n",
       "      <td>IC50</td>\n",
       "      <td>uM</td>\n",
       "      <td>UO_0000065</td>\n",
       "      <td>None</td>\n",
       "      <td>13.151</td>\n",
       "    </tr>\n",
       "    <tr>\n",
       "      <th>6025</th>\n",
       "      <td>{'action_type': 'INHIBITOR', 'description': 'N...</td>\n",
       "      <td>None</td>\n",
       "      <td>25731054</td>\n",
       "      <td>[]</td>\n",
       "      <td>CHEMBL5393271</td>\n",
       "      <td>Inhibition of recombinant MAO-B (unknown origi...</td>\n",
       "      <td>T</td>\n",
       "      <td>None</td>\n",
       "      <td>None</td>\n",
       "      <td>BAO_0000190</td>\n",
       "      <td>...</td>\n",
       "      <td>Homo sapiens</td>\n",
       "      <td>Monoamine oxidase B</td>\n",
       "      <td>9606</td>\n",
       "      <td>None</td>\n",
       "      <td>None</td>\n",
       "      <td>IC50</td>\n",
       "      <td>uM</td>\n",
       "      <td>UO_0000065</td>\n",
       "      <td>None</td>\n",
       "      <td>31.172</td>\n",
       "    </tr>\n",
       "    <tr>\n",
       "      <th>6026</th>\n",
       "      <td>{'action_type': 'INHIBITOR', 'description': 'N...</td>\n",
       "      <td>None</td>\n",
       "      <td>25731055</td>\n",
       "      <td>[]</td>\n",
       "      <td>CHEMBL5393271</td>\n",
       "      <td>Inhibition of recombinant MAO-B (unknown origi...</td>\n",
       "      <td>T</td>\n",
       "      <td>None</td>\n",
       "      <td>None</td>\n",
       "      <td>BAO_0000190</td>\n",
       "      <td>...</td>\n",
       "      <td>Homo sapiens</td>\n",
       "      <td>Monoamine oxidase B</td>\n",
       "      <td>9606</td>\n",
       "      <td>None</td>\n",
       "      <td>None</td>\n",
       "      <td>IC50</td>\n",
       "      <td>uM</td>\n",
       "      <td>UO_0000065</td>\n",
       "      <td>None</td>\n",
       "      <td>0.619</td>\n",
       "    </tr>\n",
       "    <tr>\n",
       "      <th>6027</th>\n",
       "      <td>None</td>\n",
       "      <td>None</td>\n",
       "      <td>25778439</td>\n",
       "      <td>[{'comments': None, 'relation': '=', 'result_f...</td>\n",
       "      <td>CHEMBL5465598</td>\n",
       "      <td>Selectivity interaction (BET inhibitor selecti...</td>\n",
       "      <td>B</td>\n",
       "      <td>None</td>\n",
       "      <td>None</td>\n",
       "      <td>BAO_0000190</td>\n",
       "      <td>...</td>\n",
       "      <td>Homo sapiens</td>\n",
       "      <td>Monoamine oxidase B</td>\n",
       "      <td>9606</td>\n",
       "      <td>None</td>\n",
       "      <td>None</td>\n",
       "      <td>IC50</td>\n",
       "      <td>uM</td>\n",
       "      <td>UO_0000065</td>\n",
       "      <td>None</td>\n",
       "      <td>50.0</td>\n",
       "    </tr>\n",
       "  </tbody>\n",
       "</table>\n",
       "<p>6028 rows × 46 columns</p>\n",
       "</div>"
      ],
      "text/plain": [
       "                                            action_type activity_comment  \\\n",
       "0                                                  None             None   \n",
       "1                                                  None             None   \n",
       "2                                                  None             None   \n",
       "3                                                  None             None   \n",
       "4                                                  None             None   \n",
       "...                                                 ...              ...   \n",
       "6023  {'action_type': 'INHIBITOR', 'description': 'N...             None   \n",
       "6024  {'action_type': 'INHIBITOR', 'description': 'N...             None   \n",
       "6025  {'action_type': 'INHIBITOR', 'description': 'N...             None   \n",
       "6026  {'action_type': 'INHIBITOR', 'description': 'N...             None   \n",
       "6027                                               None             None   \n",
       "\n",
       "      activity_id                                activity_properties  \\\n",
       "0          184069                                                 []   \n",
       "1          185443                                                 []   \n",
       "2          185700                                                 []   \n",
       "3          187020                                                 []   \n",
       "4          188355                                                 []   \n",
       "...           ...                                                ...   \n",
       "6023     25721959                                                 []   \n",
       "6024     25731053                                                 []   \n",
       "6025     25731054                                                 []   \n",
       "6026     25731055                                                 []   \n",
       "6027     25778439  [{'comments': None, 'relation': '=', 'result_f...   \n",
       "\n",
       "     assay_chembl_id                                  assay_description  \\\n",
       "0       CHEMBL706869  Compound was tested for inhibition of monoamin...   \n",
       "1       CHEMBL706869  Compound was tested for inhibition of monoamin...   \n",
       "2       CHEMBL734179  Inhibitory concentration against Monoamine oxi...   \n",
       "3       CHEMBL734178  Inhibitory concentration against Monoamine oxi...   \n",
       "4       CHEMBL734179  Inhibitory concentration against Monoamine oxi...   \n",
       "...              ...                                                ...   \n",
       "6023   CHEMBL5391082               Inhibition of MAO-B (unknown origin)   \n",
       "6024   CHEMBL5393271  Inhibition of recombinant MAO-B (unknown origi...   \n",
       "6025   CHEMBL5393271  Inhibition of recombinant MAO-B (unknown origi...   \n",
       "6026   CHEMBL5393271  Inhibition of recombinant MAO-B (unknown origi...   \n",
       "6027   CHEMBL5465598  Selectivity interaction (BET inhibitor selecti...   \n",
       "\n",
       "     assay_type assay_variant_accession assay_variant_mutation bao_endpoint  \\\n",
       "0             B                    None                   None  BAO_0000190   \n",
       "1             B                    None                   None  BAO_0000190   \n",
       "2             B                    None                   None  BAO_0000190   \n",
       "3             B                    None                   None  BAO_0000190   \n",
       "4             B                    None                   None  BAO_0000190   \n",
       "...         ...                     ...                    ...          ...   \n",
       "6023          B                    None                   None  BAO_0000190   \n",
       "6024          T                    None                   None  BAO_0000190   \n",
       "6025          T                    None                   None  BAO_0000190   \n",
       "6026          T                    None                   None  BAO_0000190   \n",
       "6027          B                    None                   None  BAO_0000190   \n",
       "\n",
       "      ... target_organism     target_pref_name target_tax_id text_value  toid  \\\n",
       "0     ...    Homo sapiens  Monoamine oxidase B          9606       None  None   \n",
       "1     ...    Homo sapiens  Monoamine oxidase B          9606       None  None   \n",
       "2     ...    Homo sapiens  Monoamine oxidase B          9606       None  None   \n",
       "3     ...    Homo sapiens  Monoamine oxidase B          9606       None  None   \n",
       "4     ...    Homo sapiens  Monoamine oxidase B          9606       None  None   \n",
       "...   ...             ...                  ...           ...        ...   ...   \n",
       "6023  ...    Homo sapiens  Monoamine oxidase B          9606       None  None   \n",
       "6024  ...    Homo sapiens  Monoamine oxidase B          9606       None  None   \n",
       "6025  ...    Homo sapiens  Monoamine oxidase B          9606       None  None   \n",
       "6026  ...    Homo sapiens  Monoamine oxidase B          9606       None  None   \n",
       "6027  ...    Homo sapiens  Monoamine oxidase B          9606       None  None   \n",
       "\n",
       "      type    units    uo_units upper_value   value  \n",
       "0     IC50       uM  UO_0000065        None  1000.0  \n",
       "1     IC50       uM  UO_0000065        None  1000.0  \n",
       "2     IC50       nM  UO_0000065        None    18.0  \n",
       "3     IC50       nM  UO_0000065        None     9.0  \n",
       "4     IC50       nM  UO_0000065        None     4.4  \n",
       "...    ...      ...         ...         ...     ...  \n",
       "6023  IC50  ug ml-1  UO_0000274        None    12.3  \n",
       "6024  IC50       uM  UO_0000065        None  13.151  \n",
       "6025  IC50       uM  UO_0000065        None  31.172  \n",
       "6026  IC50       uM  UO_0000065        None   0.619  \n",
       "6027  IC50       uM  UO_0000065        None    50.0  \n",
       "\n",
       "[6028 rows x 46 columns]"
      ]
     },
     "execution_count": 6,
     "metadata": {},
     "output_type": "execute_result"
    }
   ],
   "source": [
    "#Bioactivity data as IC50\n",
    "activity = new_client.activity\n",
    "res = activity.filter(target_chembl_id=selected_target).filter(standard_type = \"IC50\")\n",
    "df = pd.DataFrame.from_dict(res)\n",
    "df"
   ]
  },
  {
   "cell_type": "code",
   "execution_count": 7,
   "id": "1900e232-91ef-4af1-9d3e-3ca760db338d",
   "metadata": {
    "tags": []
   },
   "outputs": [],
   "source": [
    "# Save the bioactivity data in Pandas dataframe for processing\n",
    "df = pd.DataFrame(res, columns=['molecule_chembl_id', 'canonical_smiles', 'standard_type', 'standard_relation','standard_value', 'standard_units'])"
   ]
  },
  {
   "cell_type": "code",
   "execution_count": 8,
   "id": "962d78f1-af40-48b7-8814-3a34d545d233",
   "metadata": {
    "tags": []
   },
   "outputs": [
    {
     "data": {
      "text/html": [
       "<div>\n",
       "<style scoped>\n",
       "    .dataframe tbody tr th:only-of-type {\n",
       "        vertical-align: middle;\n",
       "    }\n",
       "\n",
       "    .dataframe tbody tr th {\n",
       "        vertical-align: top;\n",
       "    }\n",
       "\n",
       "    .dataframe thead th {\n",
       "        text-align: right;\n",
       "    }\n",
       "</style>\n",
       "<table border=\"1\" class=\"dataframe\">\n",
       "  <thead>\n",
       "    <tr style=\"text-align: right;\">\n",
       "      <th></th>\n",
       "      <th>molecule_chembl_id</th>\n",
       "      <th>canonical_smiles</th>\n",
       "      <th>standard_type</th>\n",
       "      <th>standard_relation</th>\n",
       "      <th>standard_value</th>\n",
       "      <th>standard_units</th>\n",
       "    </tr>\n",
       "  </thead>\n",
       "  <tbody>\n",
       "    <tr>\n",
       "      <th>0</th>\n",
       "      <td>CHEMBL156630</td>\n",
       "      <td>C/N=C1/CCc2c1n(C)c1ccc(OC(=O)NCc3ccccc3)c(Br)c21</td>\n",
       "      <td>IC50</td>\n",
       "      <td>&gt;</td>\n",
       "      <td>1000000.0</td>\n",
       "      <td>nM</td>\n",
       "    </tr>\n",
       "    <tr>\n",
       "      <th>1</th>\n",
       "      <td>CHEMBL155754</td>\n",
       "      <td>C/N=C1/CCc2c1n(C)c1ccc(OC(=O)NC)c(Cl)c21</td>\n",
       "      <td>IC50</td>\n",
       "      <td>&gt;</td>\n",
       "      <td>1000000.0</td>\n",
       "      <td>nM</td>\n",
       "    </tr>\n",
       "    <tr>\n",
       "      <th>2</th>\n",
       "      <td>CHEMBL350093</td>\n",
       "      <td>N#CCCN1CC(=O)OC(c2ccc(OCc3ccccc3)cc2)=N1</td>\n",
       "      <td>IC50</td>\n",
       "      <td>=</td>\n",
       "      <td>18.0</td>\n",
       "      <td>nM</td>\n",
       "    </tr>\n",
       "    <tr>\n",
       "      <th>3</th>\n",
       "      <td>CHEMBL161907</td>\n",
       "      <td>O=c1c(=O)c2ccc(OCCCC(F)(F)F)cc2c1=O</td>\n",
       "      <td>IC50</td>\n",
       "      <td>=</td>\n",
       "      <td>9.0</td>\n",
       "      <td>nM</td>\n",
       "    </tr>\n",
       "    <tr>\n",
       "      <th>4</th>\n",
       "      <td>CHEMBL17079</td>\n",
       "      <td>N#CCCn1nc(-c2ccc(OCc3ccccc3)cc2)oc1=S</td>\n",
       "      <td>IC50</td>\n",
       "      <td>=</td>\n",
       "      <td>4.4</td>\n",
       "      <td>nM</td>\n",
       "    </tr>\n",
       "  </tbody>\n",
       "</table>\n",
       "</div>"
      ],
      "text/plain": [
       "  molecule_chembl_id                                  canonical_smiles  \\\n",
       "0       CHEMBL156630  C/N=C1/CCc2c1n(C)c1ccc(OC(=O)NCc3ccccc3)c(Br)c21   \n",
       "1       CHEMBL155754          C/N=C1/CCc2c1n(C)c1ccc(OC(=O)NC)c(Cl)c21   \n",
       "2       CHEMBL350093          N#CCCN1CC(=O)OC(c2ccc(OCc3ccccc3)cc2)=N1   \n",
       "3       CHEMBL161907               O=c1c(=O)c2ccc(OCCCC(F)(F)F)cc2c1=O   \n",
       "4        CHEMBL17079             N#CCCn1nc(-c2ccc(OCc3ccccc3)cc2)oc1=S   \n",
       "\n",
       "  standard_type standard_relation standard_value standard_units  \n",
       "0          IC50                 >      1000000.0             nM  \n",
       "1          IC50                 >      1000000.0             nM  \n",
       "2          IC50                 =           18.0             nM  \n",
       "3          IC50                 =            9.0             nM  \n",
       "4          IC50                 =            4.4             nM  "
      ]
     },
     "execution_count": 8,
     "metadata": {},
     "output_type": "execute_result"
    }
   ],
   "source": [
    "df.head()"
   ]
  },
  {
   "cell_type": "code",
   "execution_count": 9,
   "id": "e8d12920-9fe2-4aa2-a11f-bfb10632d66e",
   "metadata": {
    "tags": []
   },
   "outputs": [
    {
     "name": "stdout",
     "output_type": "stream",
     "text": [
      "=     5048\n",
      ">      789\n",
      "<       21\n",
      ">=       4\n",
      "Name: standard_relation, dtype: int64\n"
     ]
    }
   ],
   "source": [
    "#Inspect standard_relation columns\n",
    "relation_counts = df['standard_relation'].value_counts()\n",
    "\n",
    "print(relation_counts)"
   ]
  },
  {
   "cell_type": "code",
   "execution_count": 10,
   "id": "a92904fb-3c43-4446-af32-3614bd9c0c4d",
   "metadata": {
    "tags": []
   },
   "outputs": [],
   "source": [
    "#Save raw dataset as CSV\n",
    "df.to_csv('data/00_mao_b_bioactivity_data_raw.csv', index=False)"
   ]
  },
  {
   "cell_type": "markdown",
   "id": "1364f9ef-56fb-47ee-9a04-6a64a04509ad",
   "metadata": {},
   "source": [
    "### **Data curation and labelling of active and inactive compounds**"
   ]
  },
  {
   "cell_type": "markdown",
   "id": "e4f6a5b9-7d84-46e6-bbe4-759e6b9aa7ca",
   "metadata": {},
   "source": [
    "In this section data will be preprocessed. We will remove duplicates, empty rows and classify compounds as active or inactive based on their bioactivity (e.g. IC50) values."
   ]
  },
  {
   "cell_type": "code",
   "execution_count": 11,
   "id": "89e88bb7-5ecb-42d9-945b-e94f6d529841",
   "metadata": {
    "tags": []
   },
   "outputs": [
    {
     "data": {
      "text/plain": [
       "(6028, 6)"
      ]
     },
     "execution_count": 11,
     "metadata": {},
     "output_type": "execute_result"
    }
   ],
   "source": [
    "df = pd.read_csv(\"data/00_mao_b_bioactivity_data_raw.csv\")\n",
    "df.shape"
   ]
  },
  {
   "cell_type": "markdown",
   "id": "b774089e-0b45-48c2-9907-3c8e2bb37378",
   "metadata": {},
   "source": [
    "**Robust Standardization**  \n",
    "First we will standardize the SMILES for further preprocessing"
   ]
  },
  {
   "cell_type": "code",
   "execution_count": null,
   "id": "2324bef8-8f57-41bc-ae64-3a99c2badf83",
   "metadata": {
    "tags": []
   },
   "outputs": [],
   "source": [
    "import pandas as pd\n",
    "from rdkit import Chem\n",
    "from rdkit.Chem.MolStandardize import rdMolStandardize\n",
    "\n",
    "# Initialize standardizers\n",
    "normalizer = rdMolStandardize.Normalizer()\n",
    "fragment_remover = rdMolStandardize.LargestFragmentChooser()\n",
    "uncharger = rdMolStandardize.Uncharger()\n",
    "tautomer_enumerator = rdMolStandardize.TautomerEnumerator()\n",
    "\n",
    "# Robust standardization function (1 SMILES in → 1 SMILES out)\n",
    "def standardize_smiles(smiles):\n",
    "    try:\n",
    "        if not smiles:\n",
    "            return None\n",
    "        mol = Chem.MolFromSmiles(smiles)\n",
    "        if mol is None:\n",
    "            return None\n",
    "\n",
    "        # Standardization steps\n",
    "        mol = normalizer.normalize(mol)\n",
    "        mol = fragment_remover.choose(mol)\n",
    "        mol = uncharger.uncharge(mol)\n",
    "        mol = tautomer_enumerator.Canonicalize(mol)  # Canonical tautomer\n",
    "        Chem.SanitizeMol(mol)\n",
    "\n",
    "        return Chem.MolToSmiles(mol, canonical=True)\n",
    "    except Exception as e:\n",
    "        print(f\"Error processing '{smiles}': {e}\")\n",
    "        return None\n",
    "\n",
    "df['standardized_smiles'] = df['canonical_smiles'].apply(standardize_smiles)"
   ]
  },
  {
   "cell_type": "code",
   "execution_count": 13,
   "id": "b01efee3-7b2c-43ba-95ac-d41641964669",
   "metadata": {
    "tags": []
   },
   "outputs": [
    {
     "data": {
      "text/plain": [
       "(6028, 7)"
      ]
     },
     "execution_count": 13,
     "metadata": {},
     "output_type": "execute_result"
    }
   ],
   "source": [
    "df.shape"
   ]
  },
  {
   "cell_type": "code",
   "execution_count": 14,
   "id": "45244f5e-b4d6-40ff-b8be-23f23d66adce",
   "metadata": {
    "tags": []
   },
   "outputs": [
    {
     "data": {
      "text/plain": [
       "(5848, 7)"
      ]
     },
     "execution_count": 14,
     "metadata": {},
     "output_type": "execute_result"
    }
   ],
   "source": [
    "# Remove empty entries\n",
    "df2 = df[df.standard_value.notna()]\n",
    "df2 = df2[df2.standardized_smiles.notna()]\n",
    "#df2 = df2[df2['standard_relation'].isin(['=', '<'])]\n",
    "df2 = df2[df2['standard_units'] == 'nM']\n",
    "df2.shape"
   ]
  },
  {
   "cell_type": "code",
   "execution_count": 15,
   "id": "3fdd3508-902f-4cc8-9547-1640134cce27",
   "metadata": {
    "tags": []
   },
   "outputs": [
    {
     "data": {
      "text/html": [
       "<div>\n",
       "<style scoped>\n",
       "    .dataframe tbody tr th:only-of-type {\n",
       "        vertical-align: middle;\n",
       "    }\n",
       "\n",
       "    .dataframe tbody tr th {\n",
       "        vertical-align: top;\n",
       "    }\n",
       "\n",
       "    .dataframe thead th {\n",
       "        text-align: right;\n",
       "    }\n",
       "</style>\n",
       "<table border=\"1\" class=\"dataframe\">\n",
       "  <thead>\n",
       "    <tr style=\"text-align: right;\">\n",
       "      <th></th>\n",
       "      <th>molecule_chembl_id</th>\n",
       "      <th>canonical_smiles</th>\n",
       "      <th>standard_type</th>\n",
       "      <th>standard_relation</th>\n",
       "      <th>standard_value</th>\n",
       "      <th>standard_units</th>\n",
       "      <th>standardized_smiles</th>\n",
       "    </tr>\n",
       "  </thead>\n",
       "  <tbody>\n",
       "    <tr>\n",
       "      <th>0</th>\n",
       "      <td>CHEMBL156630</td>\n",
       "      <td>C/N=C1/CCc2c1n(C)c1ccc(OC(=O)NCc3ccccc3)c(Br)c21</td>\n",
       "      <td>IC50</td>\n",
       "      <td>&gt;</td>\n",
       "      <td>1000000.0</td>\n",
       "      <td>nM</td>\n",
       "      <td>C/N=C1/CCc2c1n(C)c1ccc(OC(=O)NCc3ccccc3)c(Br)c21</td>\n",
       "    </tr>\n",
       "    <tr>\n",
       "      <th>1</th>\n",
       "      <td>CHEMBL155754</td>\n",
       "      <td>C/N=C1/CCc2c1n(C)c1ccc(OC(=O)NC)c(Cl)c21</td>\n",
       "      <td>IC50</td>\n",
       "      <td>&gt;</td>\n",
       "      <td>1000000.0</td>\n",
       "      <td>nM</td>\n",
       "      <td>C/N=C1/CCc2c1n(C)c1ccc(OC(=O)NC)c(Cl)c21</td>\n",
       "    </tr>\n",
       "    <tr>\n",
       "      <th>2</th>\n",
       "      <td>CHEMBL350093</td>\n",
       "      <td>N#CCCN1CC(=O)OC(c2ccc(OCc3ccccc3)cc2)=N1</td>\n",
       "      <td>IC50</td>\n",
       "      <td>=</td>\n",
       "      <td>18.0</td>\n",
       "      <td>nM</td>\n",
       "      <td>N#CCCN1CC(=O)OC(c2ccc(OCc3ccccc3)cc2)=N1</td>\n",
       "    </tr>\n",
       "    <tr>\n",
       "      <th>3</th>\n",
       "      <td>CHEMBL161907</td>\n",
       "      <td>O=c1c(=O)c2ccc(OCCCC(F)(F)F)cc2c1=O</td>\n",
       "      <td>IC50</td>\n",
       "      <td>=</td>\n",
       "      <td>9.0</td>\n",
       "      <td>nM</td>\n",
       "      <td>O=c1c(=O)c2ccc(OCCCC(F)(F)F)cc2c1=O</td>\n",
       "    </tr>\n",
       "    <tr>\n",
       "      <th>4</th>\n",
       "      <td>CHEMBL17079</td>\n",
       "      <td>N#CCCn1nc(-c2ccc(OCc3ccccc3)cc2)oc1=S</td>\n",
       "      <td>IC50</td>\n",
       "      <td>=</td>\n",
       "      <td>4.4</td>\n",
       "      <td>nM</td>\n",
       "      <td>N#CCCn1nc(-c2ccc(OCc3ccccc3)cc2)oc1=S</td>\n",
       "    </tr>\n",
       "  </tbody>\n",
       "</table>\n",
       "</div>"
      ],
      "text/plain": [
       "  molecule_chembl_id                                  canonical_smiles  \\\n",
       "0       CHEMBL156630  C/N=C1/CCc2c1n(C)c1ccc(OC(=O)NCc3ccccc3)c(Br)c21   \n",
       "1       CHEMBL155754          C/N=C1/CCc2c1n(C)c1ccc(OC(=O)NC)c(Cl)c21   \n",
       "2       CHEMBL350093          N#CCCN1CC(=O)OC(c2ccc(OCc3ccccc3)cc2)=N1   \n",
       "3       CHEMBL161907               O=c1c(=O)c2ccc(OCCCC(F)(F)F)cc2c1=O   \n",
       "4        CHEMBL17079             N#CCCn1nc(-c2ccc(OCc3ccccc3)cc2)oc1=S   \n",
       "\n",
       "  standard_type standard_relation  standard_value standard_units  \\\n",
       "0          IC50                 >       1000000.0             nM   \n",
       "1          IC50                 >       1000000.0             nM   \n",
       "2          IC50                 =            18.0             nM   \n",
       "3          IC50                 =             9.0             nM   \n",
       "4          IC50                 =             4.4             nM   \n",
       "\n",
       "                                standardized_smiles  \n",
       "0  C/N=C1/CCc2c1n(C)c1ccc(OC(=O)NCc3ccccc3)c(Br)c21  \n",
       "1          C/N=C1/CCc2c1n(C)c1ccc(OC(=O)NC)c(Cl)c21  \n",
       "2          N#CCCN1CC(=O)OC(c2ccc(OCc3ccccc3)cc2)=N1  \n",
       "3               O=c1c(=O)c2ccc(OCCCC(F)(F)F)cc2c1=O  \n",
       "4             N#CCCn1nc(-c2ccc(OCc3ccccc3)cc2)oc1=S  "
      ]
     },
     "execution_count": 15,
     "metadata": {},
     "output_type": "execute_result"
    }
   ],
   "source": [
    "df2.head()"
   ]
  },
  {
   "cell_type": "code",
   "execution_count": 16,
   "id": "49bdc579-3415-44b4-95b6-6d16cadad568",
   "metadata": {
    "tags": []
   },
   "outputs": [],
   "source": [
    "# Convert 'standard_value' column to numeric format, replacing non-numeric values with NaN\n",
    "df2['standard_value'] = pd.to_numeric(df2['standard_value'], errors='coerce')\n",
    "\n",
    "# Drop duplicate compounds based on smiles and keep the first occurrence\n",
    "df2.drop_duplicates(subset='standardized_smiles', keep='first', inplace=True)\n",
    "\n",
    "# Calculate the mean of 'standard_value' grouped by 'standardized_smiles'\n",
    "df2['mean_standard_value'] = df2.groupby('standardized_smiles')['standard_value'].transform('mean')"
   ]
  },
  {
   "cell_type": "code",
   "execution_count": 17,
   "id": "86de7dc9-5147-45c9-9d73-1be1ebe307ff",
   "metadata": {
    "tags": []
   },
   "outputs": [
    {
     "data": {
      "text/plain": [
       "(4922, 8)"
      ]
     },
     "execution_count": 17,
     "metadata": {},
     "output_type": "execute_result"
    }
   ],
   "source": [
    "df2.shape"
   ]
  },
  {
   "cell_type": "code",
   "execution_count": 18,
   "id": "1d1c2b80-4fbc-4647-9b5e-69be3f4fcd97",
   "metadata": {
    "tags": []
   },
   "outputs": [
    {
     "data": {
      "text/plain": [
       "Index(['molecule_chembl_id', 'canonical_smiles', 'standard_type',\n",
       "       'standard_relation', 'standard_value', 'standard_units',\n",
       "       'standardized_smiles', 'mean_standard_value'],\n",
       "      dtype='object')"
      ]
     },
     "execution_count": 18,
     "metadata": {},
     "output_type": "execute_result"
    }
   ],
   "source": [
    "df2.columns"
   ]
  },
  {
   "cell_type": "code",
   "execution_count": 19,
   "id": "27bd35d5-c66e-4469-8567-3db7c71f73c9",
   "metadata": {
    "tags": []
   },
   "outputs": [],
   "source": [
    "columns_to_keep = ['molecule_chembl_id', 'standardized_smiles', 'mean_standard_value']\n",
    "df2 = df2[columns_to_keep]"
   ]
  },
  {
   "cell_type": "code",
   "execution_count": 20,
   "id": "8978f673-347f-41d9-8935-066f052015fe",
   "metadata": {
    "tags": []
   },
   "outputs": [
    {
     "data": {
      "text/plain": [
       "(4922, 3)"
      ]
     },
     "execution_count": 20,
     "metadata": {},
     "output_type": "execute_result"
    }
   ],
   "source": [
    "df2.shape"
   ]
  },
  {
   "cell_type": "markdown",
   "id": "e6f6759d-0b95-4f5a-ab54-2ba17ff96168",
   "metadata": {},
   "source": [
    "**Inspection of dataset before saving**"
   ]
  },
  {
   "cell_type": "code",
   "execution_count": 21,
   "id": "8b845632-925c-484e-9121-098ee1626958",
   "metadata": {
    "tags": []
   },
   "outputs": [
    {
     "name": "stdout",
     "output_type": "stream",
     "text": [
      "Missing values:\n",
      "      molecule_chembl_id  standardized_smiles  mean_standard_value\n",
      "0                  False                False                False\n",
      "1                  False                False                False\n",
      "2                  False                False                False\n",
      "3                  False                False                False\n",
      "4                  False                False                False\n",
      "...                  ...                  ...                  ...\n",
      "6019               False                False                False\n",
      "6022               False                False                False\n",
      "6024               False                False                False\n",
      "6025               False                False                False\n",
      "6027               False                False                False\n",
      "\n",
      "[4922 rows x 3 columns]\n",
      "\n",
      "Missing values count per column:\n",
      "molecule_chembl_id     0\n",
      "standardized_smiles    0\n",
      "mean_standard_value    0\n",
      "dtype: int64\n",
      "\n",
      "Duplicate rows:\n",
      "0       False\n",
      "1       False\n",
      "2       False\n",
      "3       False\n",
      "4       False\n",
      "        ...  \n",
      "6019    False\n",
      "6022    False\n",
      "6024    False\n",
      "6025    False\n",
      "6027    False\n",
      "Length: 4922, dtype: bool\n",
      "\n",
      "Duplicate rows in 'molecule_chembl_id' and 'standardized_smiles':\n",
      "0       False\n",
      "1       False\n",
      "2       False\n",
      "3       False\n",
      "4       False\n",
      "        ...  \n",
      "6019    False\n",
      "6022    False\n",
      "6024    False\n",
      "6025    False\n",
      "6027    False\n",
      "Length: 4922, dtype: bool\n",
      "\n",
      "Number of duplicate rows:\n",
      "0\n"
     ]
    }
   ],
   "source": [
    "# Check for missing values (NaN)\n",
    "print(\"Missing values:\")\n",
    "print(df2.isna()) # or df.isnull()\n",
    "\n",
    "# Count missing values per column\n",
    "print(\"\\nMissing values count per column:\")\n",
    "print(df2.isna().sum())\n",
    "\n",
    "# Check for duplicates\n",
    "print(\"\\nDuplicate rows:\")\n",
    "print(df2.duplicated())\n",
    "\n",
    "# Check for duplicates in specific columns\n",
    "print(\"\\nDuplicate rows in 'molecule_chembl_id' and 'standardized_smiles':\")\n",
    "print(df2.duplicated(subset=['molecule_chembl_id', 'standardized_smiles']))\n",
    "\n",
    "# Count duplicate rows\n",
    "print(\"\\nNumber of duplicate rows:\")\n",
    "print(df2.duplicated().sum())"
   ]
  },
  {
   "cell_type": "code",
   "execution_count": 22,
   "id": "69c4267e-dfa8-4544-b049-8efb5a1be3ee",
   "metadata": {
    "tags": []
   },
   "outputs": [
    {
     "data": {
      "text/html": [
       "<div>\n",
       "<style scoped>\n",
       "    .dataframe tbody tr th:only-of-type {\n",
       "        vertical-align: middle;\n",
       "    }\n",
       "\n",
       "    .dataframe tbody tr th {\n",
       "        vertical-align: top;\n",
       "    }\n",
       "\n",
       "    .dataframe thead th {\n",
       "        text-align: right;\n",
       "    }\n",
       "</style>\n",
       "<table border=\"1\" class=\"dataframe\">\n",
       "  <thead>\n",
       "    <tr style=\"text-align: right;\">\n",
       "      <th></th>\n",
       "      <th>mean_standard_value</th>\n",
       "    </tr>\n",
       "  </thead>\n",
       "  <tbody>\n",
       "    <tr>\n",
       "      <th>count</th>\n",
       "      <td>4.922000e+03</td>\n",
       "    </tr>\n",
       "    <tr>\n",
       "      <th>mean</th>\n",
       "      <td>5.107284e+04</td>\n",
       "    </tr>\n",
       "    <tr>\n",
       "      <th>std</th>\n",
       "      <td>7.832093e+05</td>\n",
       "    </tr>\n",
       "    <tr>\n",
       "      <th>min</th>\n",
       "      <td>1.400000e-02</td>\n",
       "    </tr>\n",
       "    <tr>\n",
       "      <th>25%</th>\n",
       "      <td>2.387000e+02</td>\n",
       "    </tr>\n",
       "    <tr>\n",
       "      <th>50%</th>\n",
       "      <td>2.780000e+03</td>\n",
       "    </tr>\n",
       "    <tr>\n",
       "      <th>75%</th>\n",
       "      <td>1.978250e+04</td>\n",
       "    </tr>\n",
       "    <tr>\n",
       "      <th>max</th>\n",
       "      <td>5.200000e+07</td>\n",
       "    </tr>\n",
       "  </tbody>\n",
       "</table>\n",
       "</div>"
      ],
      "text/plain": [
       "       mean_standard_value\n",
       "count         4.922000e+03\n",
       "mean          5.107284e+04\n",
       "std           7.832093e+05\n",
       "min           1.400000e-02\n",
       "25%           2.387000e+02\n",
       "50%           2.780000e+03\n",
       "75%           1.978250e+04\n",
       "max           5.200000e+07"
      ]
     },
     "execution_count": 22,
     "metadata": {},
     "output_type": "execute_result"
    }
   ],
   "source": [
    "df2.describe()"
   ]
  },
  {
   "cell_type": "code",
   "execution_count": 23,
   "id": "1e22f0f5-3163-4855-9b6b-55d337011f2b",
   "metadata": {
    "tags": []
   },
   "outputs": [
    {
     "data": {
      "text/html": [
       "<div>\n",
       "<style scoped>\n",
       "    .dataframe tbody tr th:only-of-type {\n",
       "        vertical-align: middle;\n",
       "    }\n",
       "\n",
       "    .dataframe tbody tr th {\n",
       "        vertical-align: top;\n",
       "    }\n",
       "\n",
       "    .dataframe thead th {\n",
       "        text-align: right;\n",
       "    }\n",
       "</style>\n",
       "<table border=\"1\" class=\"dataframe\">\n",
       "  <thead>\n",
       "    <tr style=\"text-align: right;\">\n",
       "      <th></th>\n",
       "      <th>molecule_chembl_id</th>\n",
       "      <th>standardized_smiles</th>\n",
       "      <th>mean_standard_value</th>\n",
       "      <th>pIC50</th>\n",
       "    </tr>\n",
       "  </thead>\n",
       "  <tbody>\n",
       "    <tr>\n",
       "      <th>0</th>\n",
       "      <td>CHEMBL156630</td>\n",
       "      <td>C/N=C1/CCc2c1n(C)c1ccc(OC(=O)NCc3ccccc3)c(Br)c21</td>\n",
       "      <td>1000000.0</td>\n",
       "      <td>3.000000</td>\n",
       "    </tr>\n",
       "    <tr>\n",
       "      <th>1</th>\n",
       "      <td>CHEMBL155754</td>\n",
       "      <td>C/N=C1/CCc2c1n(C)c1ccc(OC(=O)NC)c(Cl)c21</td>\n",
       "      <td>1000000.0</td>\n",
       "      <td>3.000000</td>\n",
       "    </tr>\n",
       "    <tr>\n",
       "      <th>2</th>\n",
       "      <td>CHEMBL350093</td>\n",
       "      <td>N#CCCN1CC(=O)OC(c2ccc(OCc3ccccc3)cc2)=N1</td>\n",
       "      <td>18.0</td>\n",
       "      <td>7.744727</td>\n",
       "    </tr>\n",
       "    <tr>\n",
       "      <th>3</th>\n",
       "      <td>CHEMBL161907</td>\n",
       "      <td>O=c1c(=O)c2ccc(OCCCC(F)(F)F)cc2c1=O</td>\n",
       "      <td>9.0</td>\n",
       "      <td>8.045757</td>\n",
       "    </tr>\n",
       "    <tr>\n",
       "      <th>4</th>\n",
       "      <td>CHEMBL17079</td>\n",
       "      <td>N#CCCn1nc(-c2ccc(OCc3ccccc3)cc2)oc1=S</td>\n",
       "      <td>4.4</td>\n",
       "      <td>8.356547</td>\n",
       "    </tr>\n",
       "  </tbody>\n",
       "</table>\n",
       "</div>"
      ],
      "text/plain": [
       "  molecule_chembl_id                               standardized_smiles  \\\n",
       "0       CHEMBL156630  C/N=C1/CCc2c1n(C)c1ccc(OC(=O)NCc3ccccc3)c(Br)c21   \n",
       "1       CHEMBL155754          C/N=C1/CCc2c1n(C)c1ccc(OC(=O)NC)c(Cl)c21   \n",
       "2       CHEMBL350093          N#CCCN1CC(=O)OC(c2ccc(OCc3ccccc3)cc2)=N1   \n",
       "3       CHEMBL161907               O=c1c(=O)c2ccc(OCCCC(F)(F)F)cc2c1=O   \n",
       "4        CHEMBL17079             N#CCCn1nc(-c2ccc(OCc3ccccc3)cc2)oc1=S   \n",
       "\n",
       "   mean_standard_value     pIC50  \n",
       "0            1000000.0  3.000000  \n",
       "1            1000000.0  3.000000  \n",
       "2                 18.0  7.744727  \n",
       "3                  9.0  8.045757  \n",
       "4                  4.4  8.356547  "
      ]
     },
     "execution_count": 23,
     "metadata": {},
     "output_type": "execute_result"
    }
   ],
   "source": [
    "df2['pIC50'] = 9-np.log10(df2['mean_standard_value'])\n",
    "df2.head()"
   ]
  },
  {
   "cell_type": "markdown",
   "id": "d804ae60-28e1-4542-aa27-ef27d173a00c",
   "metadata": {},
   "source": [
    "**Box plot of pIC50 values**"
   ]
  },
  {
   "cell_type": "code",
   "execution_count": 24,
   "id": "678325da-d81a-4592-ab26-3936bbc25603",
   "metadata": {
    "tags": []
   },
   "outputs": [],
   "source": [
    "import matplotlib.pyplot as plt\n",
    "import seaborn as sns"
   ]
  },
  {
   "cell_type": "code",
   "execution_count": 25,
   "id": "4714d743-692a-424b-8ff5-94085bbb03e4",
   "metadata": {
    "tags": []
   },
   "outputs": [
    {
     "data": {
      "image/png": "[encoded data removed]",
      "text/plain": [
       "<Figure size 400x400 with 1 Axes>"
      ]
     },
     "metadata": {},
     "output_type": "display_data"
    }
   ],
   "source": [
    "# Plotting the box plot\n",
    "plt.figure(figsize=(4, 4))\n",
    "sns.boxplot(x=df2['pIC50'], color='lightgreen')\n",
    "plt.title('Box Plot of pIC₅₀ Values')\n",
    "plt.xlabel('pIC₅₀')\n",
    "plt.tight_layout()\n",
    "plt.show()"
   ]
  },
  {
   "cell_type": "markdown",
   "id": "2239d759-0229-4f1f-a18d-e911b007c3e8",
   "metadata": {},
   "source": [
    "**Remove outliers recursively**"
   ]
  },
  {
   "cell_type": "code",
   "execution_count": 26,
   "id": "6a5597ff-2f61-4053-a795-3d0043d7ac6f",
   "metadata": {
    "tags": []
   },
   "outputs": [
    {
     "name": "stdout",
     "output_type": "stream",
     "text": [
      "Removed 5 outliers from the dataset.\n"
     ]
    }
   ],
   "source": [
    "# Calculate Q1 (25th percentile) and Q3 (75th percentile)\n",
    "Q1 = df2['pIC50'].quantile(0.25)\n",
    "Q3 = df2['pIC50'].quantile(0.75)\n",
    "IQR = Q3 - Q1\n",
    "\n",
    "# Define the lower and upper bounds for outliers\n",
    "lower_bound = Q1 - 1.5 * IQR\n",
    "upper_bound = Q3 + 1.5 * IQR\n",
    "\n",
    "# Filter out the outliers\n",
    "df_clean = df2[(df2['pIC50'] >= lower_bound) & (df2['pIC50'] <= upper_bound)]\n",
    "\n",
    "# Display the number of removed outliers\n",
    "num_removed = df2.shape[0] - df_clean.shape[0]\n",
    "print(f\"Removed {num_removed} outliers from the dataset.\")"
   ]
  },
  {
   "cell_type": "code",
   "execution_count": 27,
   "id": "e9ddb3a9-665d-4b25-a8ec-b98c909a4ef0",
   "metadata": {
    "tags": []
   },
   "outputs": [
    {
     "data": {
      "image/png": "[encoded data removed]",
      "text/plain": [
       "<Figure size 400x400 with 1 Axes>"
      ]
     },
     "metadata": {},
     "output_type": "display_data"
    }
   ],
   "source": [
    "# Plotting the box plot\n",
    "plt.figure(figsize=(4, 4))\n",
    "sns.boxplot(x=df_clean['pIC50'], color='lightgreen')\n",
    "plt.title('Box Plot of pIC₅₀ Values')\n",
    "plt.xlabel('pIC₅₀')\n",
    "plt.tight_layout()\n",
    "plt.show()"
   ]
  },
  {
   "cell_type": "markdown",
   "id": "d426ed2f-839d-4baf-bbed-e93d9b361ba6",
   "metadata": {},
   "source": [
    "Still there are outliers. Let's remove them."
   ]
  },
  {
   "cell_type": "code",
   "execution_count": 28,
   "id": "a82de708-0e75-4d6d-b785-d4232f83939b",
   "metadata": {
    "tags": []
   },
   "outputs": [],
   "source": [
    "df2 = df_clean.copy()"
   ]
  },
  {
   "cell_type": "code",
   "execution_count": 29,
   "id": "2f6c3161-b223-4b64-82fa-d7bc642c1119",
   "metadata": {
    "tags": []
   },
   "outputs": [
    {
     "name": "stdout",
     "output_type": "stream",
     "text": [
      "Removed 1 outliers from the dataset.\n"
     ]
    }
   ],
   "source": [
    "# Calculate Q1 (25th percentile) and Q3 (75th percentile)\n",
    "Q1 = df2['pIC50'].quantile(0.25)\n",
    "Q3 = df2['pIC50'].quantile(0.75)\n",
    "IQR = Q3 - Q1\n",
    "\n",
    "# Define the lower and upper bounds for outliers\n",
    "lower_bound = Q1 - 1.5 * IQR\n",
    "upper_bound = Q3 + 1.5 * IQR\n",
    "\n",
    "# Filter out the outliers\n",
    "df_clean = df2[(df2['pIC50'] >= lower_bound) & (df2['pIC50'] <= upper_bound)]\n",
    "\n",
    "# Display the number of removed outliers\n",
    "num_removed = df2.shape[0] - df_clean.shape[0]\n",
    "print(f\"Removed {num_removed} outliers from the dataset.\")"
   ]
  },
  {
   "cell_type": "code",
   "execution_count": 30,
   "id": "f71d749b-242e-434f-a4e2-26dd1ee1ba83",
   "metadata": {
    "tags": []
   },
   "outputs": [
    {
     "data": {
      "image/png": "[encoded data removed]",
      "text/plain": [
       "<Figure size 400x400 with 1 Axes>"
      ]
     },
     "metadata": {},
     "output_type": "display_data"
    }
   ],
   "source": [
    "# Plotting the box plot\n",
    "plt.figure(figsize=(4, 4))\n",
    "sns.boxplot(x=df_clean['pIC50'], color='lightgreen')\n",
    "plt.title('Box Plot of pIC₅₀ Values')\n",
    "plt.xlabel('pIC₅₀')\n",
    "plt.tight_layout()\n",
    "plt.show()"
   ]
  },
  {
   "cell_type": "markdown",
   "id": "1e922fa2-125e-4873-80ba-5ef8a3292190",
   "metadata": {},
   "source": [
    "Now it looks good and clean. Let's see the pIC50 distributions."
   ]
  },
  {
   "cell_type": "code",
   "execution_count": 31,
   "id": "379ed91c-6e6a-4650-8c56-a4769673b608",
   "metadata": {
    "tags": []
   },
   "outputs": [
    {
     "data": {
      "image/png": "[encoded data removed]",
      "text/plain": [
       "<Figure size 1000x600 with 1 Axes>"
      ]
     },
     "metadata": {},
     "output_type": "display_data"
    }
   ],
   "source": [
    "# Plotting the histogram\n",
    "plt.figure(figsize=(10, 6))\n",
    "#sns.histplot(df_clean['pIC50'], bins=50, kde=False, color='skyblue', edgecolor='black')\n",
    "sns.kdeplot(df_clean['pIC50'], fill=True, color='skyblue', linewidth=2)\n",
    "plt.title('Distribution of pIC₅₀ Values')\n",
    "plt.xlabel('pIC₅₀')\n",
    "plt.ylabel('Frequency')\n",
    "plt.grid(True, linestyle='--', linewidth=0.5)\n",
    "plt.tight_layout()\n",
    "plt.show()"
   ]
  },
  {
   "cell_type": "code",
   "execution_count": 32,
   "id": "e3a8b05f-5dac-440b-86aa-6bc952d3610b",
   "metadata": {
    "tags": []
   },
   "outputs": [
    {
     "name": "stdout",
     "output_type": "stream",
     "text": [
      "(4916, 4)\n"
     ]
    },
    {
     "data": {
      "text/html": [
       "<div>\n",
       "<style scoped>\n",
       "    .dataframe tbody tr th:only-of-type {\n",
       "        vertical-align: middle;\n",
       "    }\n",
       "\n",
       "    .dataframe tbody tr th {\n",
       "        vertical-align: top;\n",
       "    }\n",
       "\n",
       "    .dataframe thead th {\n",
       "        text-align: right;\n",
       "    }\n",
       "</style>\n",
       "<table border=\"1\" class=\"dataframe\">\n",
       "  <thead>\n",
       "    <tr style=\"text-align: right;\">\n",
       "      <th></th>\n",
       "      <th>molecule_chembl_id</th>\n",
       "      <th>standardized_smiles</th>\n",
       "      <th>mean_standard_value</th>\n",
       "      <th>pIC50</th>\n",
       "    </tr>\n",
       "  </thead>\n",
       "  <tbody>\n",
       "    <tr>\n",
       "      <th>0</th>\n",
       "      <td>CHEMBL156630</td>\n",
       "      <td>C/N=C1/CCc2c1n(C)c1ccc(OC(=O)NCc3ccccc3)c(Br)c21</td>\n",
       "      <td>1000000.0</td>\n",
       "      <td>3.000000</td>\n",
       "    </tr>\n",
       "    <tr>\n",
       "      <th>1</th>\n",
       "      <td>CHEMBL155754</td>\n",
       "      <td>C/N=C1/CCc2c1n(C)c1ccc(OC(=O)NC)c(Cl)c21</td>\n",
       "      <td>1000000.0</td>\n",
       "      <td>3.000000</td>\n",
       "    </tr>\n",
       "    <tr>\n",
       "      <th>2</th>\n",
       "      <td>CHEMBL350093</td>\n",
       "      <td>N#CCCN1CC(=O)OC(c2ccc(OCc3ccccc3)cc2)=N1</td>\n",
       "      <td>18.0</td>\n",
       "      <td>7.744727</td>\n",
       "    </tr>\n",
       "    <tr>\n",
       "      <th>3</th>\n",
       "      <td>CHEMBL161907</td>\n",
       "      <td>O=c1c(=O)c2ccc(OCCCC(F)(F)F)cc2c1=O</td>\n",
       "      <td>9.0</td>\n",
       "      <td>8.045757</td>\n",
       "    </tr>\n",
       "    <tr>\n",
       "      <th>4</th>\n",
       "      <td>CHEMBL17079</td>\n",
       "      <td>N#CCCn1nc(-c2ccc(OCc3ccccc3)cc2)oc1=S</td>\n",
       "      <td>4.4</td>\n",
       "      <td>8.356547</td>\n",
       "    </tr>\n",
       "  </tbody>\n",
       "</table>\n",
       "</div>"
      ],
      "text/plain": [
       "  molecule_chembl_id                               standardized_smiles  \\\n",
       "0       CHEMBL156630  C/N=C1/CCc2c1n(C)c1ccc(OC(=O)NCc3ccccc3)c(Br)c21   \n",
       "1       CHEMBL155754          C/N=C1/CCc2c1n(C)c1ccc(OC(=O)NC)c(Cl)c21   \n",
       "2       CHEMBL350093          N#CCCN1CC(=O)OC(c2ccc(OCc3ccccc3)cc2)=N1   \n",
       "3       CHEMBL161907               O=c1c(=O)c2ccc(OCCCC(F)(F)F)cc2c1=O   \n",
       "4        CHEMBL17079             N#CCCn1nc(-c2ccc(OCc3ccccc3)cc2)oc1=S   \n",
       "\n",
       "   mean_standard_value     pIC50  \n",
       "0            1000000.0  3.000000  \n",
       "1            1000000.0  3.000000  \n",
       "2                 18.0  7.744727  \n",
       "3                  9.0  8.045757  \n",
       "4                  4.4  8.356547  "
      ]
     },
     "execution_count": 32,
     "metadata": {},
     "output_type": "execute_result"
    }
   ],
   "source": [
    "print(df_clean.shape)\n",
    "df_clean.head()"
   ]
  },
  {
   "cell_type": "markdown",
   "id": "1f38e4c2-7664-4193-ae73-b595207abf24",
   "metadata": {},
   "source": [
    "### **Classification of molecules based on IC50 data**"
   ]
  },
  {
   "cell_type": "code",
   "execution_count": 33,
   "id": "7332cf9f-cbff-41a9-924c-9f5d61cc373e",
   "metadata": {
    "tags": []
   },
   "outputs": [
    {
     "data": {
      "text/plain": [
       "(1879, 4)"
      ]
     },
     "execution_count": 33,
     "metadata": {},
     "output_type": "execute_result"
    }
   ],
   "source": [
    "active=df_clean.loc[df_clean['pIC50']>6]\n",
    "active.shape"
   ]
  },
  {
   "cell_type": "code",
   "execution_count": 34,
   "id": "8424f38f-babb-42bc-8e08-fb5c3f6b016b",
   "metadata": {
    "tags": []
   },
   "outputs": [
    {
     "data": {
      "text/plain": [
       "(1598, 4)"
      ]
     },
     "execution_count": 34,
     "metadata": {},
     "output_type": "execute_result"
    }
   ],
   "source": [
    "inactive=df_clean.loc[df_clean['pIC50']<5]\n",
    "inactive.shape"
   ]
  },
  {
   "cell_type": "code",
   "execution_count": 35,
   "id": "4fcd956c-9c74-48f8-8169-c2cae3c5492a",
   "metadata": {
    "tags": []
   },
   "outputs": [],
   "source": [
    "active = active.copy()\n",
    "inactive = inactive.copy()\n",
    "\n",
    "active[\"Class\"] = 1\n",
    "inactive[\"Class\"] = 0"
   ]
  },
  {
   "cell_type": "code",
   "execution_count": 36,
   "id": "b73f115b-5d35-4bb7-b026-569e21a8b894",
   "metadata": {
    "tags": []
   },
   "outputs": [
    {
     "data": {
      "text/html": [
       "<div>\n",
       "<style scoped>\n",
       "    .dataframe tbody tr th:only-of-type {\n",
       "        vertical-align: middle;\n",
       "    }\n",
       "\n",
       "    .dataframe tbody tr th {\n",
       "        vertical-align: top;\n",
       "    }\n",
       "\n",
       "    .dataframe thead th {\n",
       "        text-align: right;\n",
       "    }\n",
       "</style>\n",
       "<table border=\"1\" class=\"dataframe\">\n",
       "  <thead>\n",
       "    <tr style=\"text-align: right;\">\n",
       "      <th></th>\n",
       "      <th>molecule_chembl_id</th>\n",
       "      <th>standardized_smiles</th>\n",
       "      <th>mean_standard_value</th>\n",
       "      <th>pIC50</th>\n",
       "      <th>Class</th>\n",
       "    </tr>\n",
       "  </thead>\n",
       "  <tbody>\n",
       "    <tr>\n",
       "      <th>2</th>\n",
       "      <td>CHEMBL350093</td>\n",
       "      <td>N#CCCN1CC(=O)OC(c2ccc(OCc3ccccc3)cc2)=N1</td>\n",
       "      <td>18.0</td>\n",
       "      <td>7.744727</td>\n",
       "      <td>1</td>\n",
       "    </tr>\n",
       "    <tr>\n",
       "      <th>3</th>\n",
       "      <td>CHEMBL161907</td>\n",
       "      <td>O=c1c(=O)c2ccc(OCCCC(F)(F)F)cc2c1=O</td>\n",
       "      <td>9.0</td>\n",
       "      <td>8.045757</td>\n",
       "      <td>1</td>\n",
       "    </tr>\n",
       "    <tr>\n",
       "      <th>4</th>\n",
       "      <td>CHEMBL17079</td>\n",
       "      <td>N#CCCn1nc(-c2ccc(OCc3ccccc3)cc2)oc1=S</td>\n",
       "      <td>4.4</td>\n",
       "      <td>8.356547</td>\n",
       "      <td>1</td>\n",
       "    </tr>\n",
       "    <tr>\n",
       "      <th>12</th>\n",
       "      <td>CHEMBL434261</td>\n",
       "      <td>N#CCCn1nnc(-c2ccc(OCc3ccccc3)cc2)n1</td>\n",
       "      <td>2.0</td>\n",
       "      <td>8.698970</td>\n",
       "      <td>1</td>\n",
       "    </tr>\n",
       "    <tr>\n",
       "      <th>16</th>\n",
       "      <td>CHEMBL17092</td>\n",
       "      <td>N#CCCn1nc(-c2ccc(OCc3ccccc3)cc2)oc1=O</td>\n",
       "      <td>2.2</td>\n",
       "      <td>8.657577</td>\n",
       "      <td>1</td>\n",
       "    </tr>\n",
       "  </tbody>\n",
       "</table>\n",
       "</div>"
      ],
      "text/plain": [
       "   molecule_chembl_id                       standardized_smiles  \\\n",
       "2        CHEMBL350093  N#CCCN1CC(=O)OC(c2ccc(OCc3ccccc3)cc2)=N1   \n",
       "3        CHEMBL161907       O=c1c(=O)c2ccc(OCCCC(F)(F)F)cc2c1=O   \n",
       "4         CHEMBL17079     N#CCCn1nc(-c2ccc(OCc3ccccc3)cc2)oc1=S   \n",
       "12       CHEMBL434261       N#CCCn1nnc(-c2ccc(OCc3ccccc3)cc2)n1   \n",
       "16        CHEMBL17092     N#CCCn1nc(-c2ccc(OCc3ccccc3)cc2)oc1=O   \n",
       "\n",
       "    mean_standard_value     pIC50  Class  \n",
       "2                  18.0  7.744727      1  \n",
       "3                   9.0  8.045757      1  \n",
       "4                   4.4  8.356547      1  \n",
       "12                  2.0  8.698970      1  \n",
       "16                  2.2  8.657577      1  "
      ]
     },
     "execution_count": 36,
     "metadata": {},
     "output_type": "execute_result"
    }
   ],
   "source": [
    "active.head()"
   ]
  },
  {
   "cell_type": "code",
   "execution_count": 37,
   "id": "e3366a5a-89a3-4c3e-a4ea-8a1795f42d8f",
   "metadata": {
    "tags": []
   },
   "outputs": [
    {
     "data": {
      "text/html": [
       "<div>\n",
       "<style scoped>\n",
       "    .dataframe tbody tr th:only-of-type {\n",
       "        vertical-align: middle;\n",
       "    }\n",
       "\n",
       "    .dataframe tbody tr th {\n",
       "        vertical-align: top;\n",
       "    }\n",
       "\n",
       "    .dataframe thead th {\n",
       "        text-align: right;\n",
       "    }\n",
       "</style>\n",
       "<table border=\"1\" class=\"dataframe\">\n",
       "  <thead>\n",
       "    <tr style=\"text-align: right;\">\n",
       "      <th></th>\n",
       "      <th>molecule_chembl_id</th>\n",
       "      <th>standardized_smiles</th>\n",
       "      <th>mean_standard_value</th>\n",
       "      <th>pIC50</th>\n",
       "      <th>Class</th>\n",
       "    </tr>\n",
       "  </thead>\n",
       "  <tbody>\n",
       "    <tr>\n",
       "      <th>2</th>\n",
       "      <td>CHEMBL350093</td>\n",
       "      <td>N#CCCN1CC(=O)OC(c2ccc(OCc3ccccc3)cc2)=N1</td>\n",
       "      <td>18.0</td>\n",
       "      <td>7.744727</td>\n",
       "      <td>1</td>\n",
       "    </tr>\n",
       "    <tr>\n",
       "      <th>3</th>\n",
       "      <td>CHEMBL161907</td>\n",
       "      <td>O=c1c(=O)c2ccc(OCCCC(F)(F)F)cc2c1=O</td>\n",
       "      <td>9.0</td>\n",
       "      <td>8.045757</td>\n",
       "      <td>1</td>\n",
       "    </tr>\n",
       "    <tr>\n",
       "      <th>4</th>\n",
       "      <td>CHEMBL17079</td>\n",
       "      <td>N#CCCn1nc(-c2ccc(OCc3ccccc3)cc2)oc1=S</td>\n",
       "      <td>4.4</td>\n",
       "      <td>8.356547</td>\n",
       "      <td>1</td>\n",
       "    </tr>\n",
       "    <tr>\n",
       "      <th>12</th>\n",
       "      <td>CHEMBL434261</td>\n",
       "      <td>N#CCCn1nnc(-c2ccc(OCc3ccccc3)cc2)n1</td>\n",
       "      <td>2.0</td>\n",
       "      <td>8.698970</td>\n",
       "      <td>1</td>\n",
       "    </tr>\n",
       "    <tr>\n",
       "      <th>16</th>\n",
       "      <td>CHEMBL17092</td>\n",
       "      <td>N#CCCn1nc(-c2ccc(OCc3ccccc3)cc2)oc1=O</td>\n",
       "      <td>2.2</td>\n",
       "      <td>8.657577</td>\n",
       "      <td>1</td>\n",
       "    </tr>\n",
       "  </tbody>\n",
       "</table>\n",
       "</div>"
      ],
      "text/plain": [
       "   molecule_chembl_id                       standardized_smiles  \\\n",
       "2        CHEMBL350093  N#CCCN1CC(=O)OC(c2ccc(OCc3ccccc3)cc2)=N1   \n",
       "3        CHEMBL161907       O=c1c(=O)c2ccc(OCCCC(F)(F)F)cc2c1=O   \n",
       "4         CHEMBL17079     N#CCCn1nc(-c2ccc(OCc3ccccc3)cc2)oc1=S   \n",
       "12       CHEMBL434261       N#CCCn1nnc(-c2ccc(OCc3ccccc3)cc2)n1   \n",
       "16        CHEMBL17092     N#CCCn1nc(-c2ccc(OCc3ccccc3)cc2)oc1=O   \n",
       "\n",
       "    mean_standard_value     pIC50  Class  \n",
       "2                  18.0  7.744727      1  \n",
       "3                   9.0  8.045757      1  \n",
       "4                   4.4  8.356547      1  \n",
       "12                  2.0  8.698970      1  \n",
       "16                  2.2  8.657577      1  "
      ]
     },
     "execution_count": 37,
     "metadata": {},
     "output_type": "execute_result"
    }
   ],
   "source": [
    "df3 = pd.concat([active,inactive],axis=0)\n",
    "df3.head()"
   ]
  },
  {
   "cell_type": "code",
   "execution_count": 38,
   "id": "176fb755-9bdf-4e20-9a70-4be45bef195a",
   "metadata": {
    "tags": []
   },
   "outputs": [
    {
     "data": {
      "text/html": [
       "<div>\n",
       "<style scoped>\n",
       "    .dataframe tbody tr th:only-of-type {\n",
       "        vertical-align: middle;\n",
       "    }\n",
       "\n",
       "    .dataframe tbody tr th {\n",
       "        vertical-align: top;\n",
       "    }\n",
       "\n",
       "    .dataframe thead th {\n",
       "        text-align: right;\n",
       "    }\n",
       "</style>\n",
       "<table border=\"1\" class=\"dataframe\">\n",
       "  <thead>\n",
       "    <tr style=\"text-align: right;\">\n",
       "      <th></th>\n",
       "      <th>molecule_chembl_id</th>\n",
       "      <th>standardized_smiles</th>\n",
       "      <th>pIC50</th>\n",
       "      <th>Class</th>\n",
       "    </tr>\n",
       "  </thead>\n",
       "  <tbody>\n",
       "    <tr>\n",
       "      <th>2</th>\n",
       "      <td>CHEMBL350093</td>\n",
       "      <td>N#CCCN1CC(=O)OC(c2ccc(OCc3ccccc3)cc2)=N1</td>\n",
       "      <td>7.744727</td>\n",
       "      <td>1</td>\n",
       "    </tr>\n",
       "    <tr>\n",
       "      <th>3</th>\n",
       "      <td>CHEMBL161907</td>\n",
       "      <td>O=c1c(=O)c2ccc(OCCCC(F)(F)F)cc2c1=O</td>\n",
       "      <td>8.045757</td>\n",
       "      <td>1</td>\n",
       "    </tr>\n",
       "    <tr>\n",
       "      <th>4</th>\n",
       "      <td>CHEMBL17079</td>\n",
       "      <td>N#CCCn1nc(-c2ccc(OCc3ccccc3)cc2)oc1=S</td>\n",
       "      <td>8.356547</td>\n",
       "      <td>1</td>\n",
       "    </tr>\n",
       "    <tr>\n",
       "      <th>12</th>\n",
       "      <td>CHEMBL434261</td>\n",
       "      <td>N#CCCn1nnc(-c2ccc(OCc3ccccc3)cc2)n1</td>\n",
       "      <td>8.698970</td>\n",
       "      <td>1</td>\n",
       "    </tr>\n",
       "    <tr>\n",
       "      <th>16</th>\n",
       "      <td>CHEMBL17092</td>\n",
       "      <td>N#CCCn1nc(-c2ccc(OCc3ccccc3)cc2)oc1=O</td>\n",
       "      <td>8.657577</td>\n",
       "      <td>1</td>\n",
       "    </tr>\n",
       "  </tbody>\n",
       "</table>\n",
       "</div>"
      ],
      "text/plain": [
       "   molecule_chembl_id                       standardized_smiles     pIC50  \\\n",
       "2        CHEMBL350093  N#CCCN1CC(=O)OC(c2ccc(OCc3ccccc3)cc2)=N1  7.744727   \n",
       "3        CHEMBL161907       O=c1c(=O)c2ccc(OCCCC(F)(F)F)cc2c1=O  8.045757   \n",
       "4         CHEMBL17079     N#CCCn1nc(-c2ccc(OCc3ccccc3)cc2)oc1=S  8.356547   \n",
       "12       CHEMBL434261       N#CCCn1nnc(-c2ccc(OCc3ccccc3)cc2)n1  8.698970   \n",
       "16        CHEMBL17092     N#CCCn1nc(-c2ccc(OCc3ccccc3)cc2)oc1=O  8.657577   \n",
       "\n",
       "    Class  \n",
       "2       1  \n",
       "3       1  \n",
       "4       1  \n",
       "12      1  \n",
       "16      1  "
      ]
     },
     "execution_count": 38,
     "metadata": {},
     "output_type": "execute_result"
    }
   ],
   "source": [
    "columns_to_keep = ['molecule_chembl_id', 'standardized_smiles', 'pIC50', 'Class']\n",
    "\n",
    "df3 = df3[columns_to_keep].copy()\n",
    "df3.head()"
   ]
  },
  {
   "cell_type": "code",
   "execution_count": 39,
   "id": "b6b1c50e-7be5-45e5-9642-5b9934553a61",
   "metadata": {
    "tags": []
   },
   "outputs": [
    {
     "data": {
      "text/plain": [
       "(3477, 4)"
      ]
     },
     "execution_count": 39,
     "metadata": {},
     "output_type": "execute_result"
    }
   ],
   "source": [
    "df3.shape"
   ]
  },
  {
   "cell_type": "code",
   "execution_count": 40,
   "id": "aa1db22f-6587-4dee-bb45-0aa17d4a8e0d",
   "metadata": {
    "tags": []
   },
   "outputs": [],
   "source": [
    "df3.to_csv(\"data/01_mao_a_bioactivity_data_labelled.csv\", index=False)"
   ]
  },
  {
   "cell_type": "code",
   "execution_count": null,
   "id": "3279dc27-901e-4efd-8fbe-32b460724991",
   "metadata": {},
   "outputs": [],
   "source": []
  }
 ],
 "metadata": {
  "kernelspec": {
   "display_name": "Python 3 (ipykernel)",
   "language": "python",
   "name": "python3"
  },
  "language_info": {
   "codemirror_mode": {
    "name": "ipython",
    "version": 3
   },
   "file_extension": ".py",
   "mimetype": "text/x-python",
   "name": "python",
   "nbconvert_exporter": "python",
   "pygments_lexer": "ipython3",
   "version": "3.8.20"
  }
 },
 "nbformat": 4,
 "nbformat_minor": 5
}
