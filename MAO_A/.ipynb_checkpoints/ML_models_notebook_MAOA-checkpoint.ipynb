{
 "cells": [
  {
   "cell_type": "markdown",
   "id": "d6e9c9ca-dc21-488d-9fce-3f0ebb4cba64",
   "metadata": {},
   "source": [
    "## **Construction of machine learning (ML) models**"
   ]
  },
  {
   "cell_type": "markdown",
   "id": "8e247ce2-3c24-44f2-b4cf-75f521bc697d",
   "metadata": {},
   "source": [
    "We will use Pycaret, a low-code, lighweight package to construct and compare ML models. The total dataset will be first divided into train_test and holdout data (80:20). The train_test set will be used to build and evaluate models. This holdout set will serve as unseen data."
   ]
  },
  {
   "cell_type": "code",
   "execution_count": 1,
   "id": "2d578f8c-42cb-4564-b231-4074d90ec961",
   "metadata": {
    "tags": []
   },
   "outputs": [
    {
     "name": "stdout",
     "output_type": "stream",
     "text": [
      "Train+Test size: (1556, 4)\n",
      "Unseen size: (389, 4)\n"
     ]
    }
   ],
   "source": [
    "import pandas as pd\n",
    "import numpy as np\n",
    "from sklearn.model_selection import train_test_split\n",
    "\n",
    "# Load your dataset\n",
    "df = pd.read_csv('data/01_mao_a_bioactivity_data_labelled.csv')  \n",
    "\n",
    "# Stratified split to keep class distribution\n",
    "train_test_df, holdout_df = train_test_split(\n",
    "    df,\n",
    "    test_size=0.20,\n",
    "    stratify=df['Class'],  # preserve class balance\n",
    "    random_state=42        # for reproducibility\n",
    ")\n",
    "\n",
    "# Save or use these separately\n",
    "print(\"Train+Test size:\", train_test_df.shape)\n",
    "print(\"Unseen size:\", holdout_df.shape)\n",
    "\n",
    "# Optional: Save to file\n",
    "train_test_df.to_csv('data/train_test_set.csv', index=False)\n",
    "holdout_df.to_csv('data/holdout_set.csv', index=False)"
   ]
  },
  {
   "cell_type": "code",
   "execution_count": 2,
   "id": "1da24f4c-4d69-4370-b1b9-b358aac092b0",
   "metadata": {
    "tags": []
   },
   "outputs": [
    {
     "data": {
      "text/html": [
       "<div>\n",
       "<style scoped>\n",
       "    .dataframe tbody tr th:only-of-type {\n",
       "        vertical-align: middle;\n",
       "    }\n",
       "\n",
       "    .dataframe tbody tr th {\n",
       "        vertical-align: top;\n",
       "    }\n",
       "\n",
       "    .dataframe thead th {\n",
       "        text-align: right;\n",
       "    }\n",
       "</style>\n",
       "<table border=\"1\" class=\"dataframe\">\n",
       "  <thead>\n",
       "    <tr style=\"text-align: right;\">\n",
       "      <th></th>\n",
       "      <th>molecule_chembl_id</th>\n",
       "      <th>standardized_smiles</th>\n",
       "      <th>pIC50</th>\n",
       "      <th>Class</th>\n",
       "    </tr>\n",
       "  </thead>\n",
       "  <tbody>\n",
       "    <tr>\n",
       "      <th>985</th>\n",
       "      <td>CHEMBL257368</td>\n",
       "      <td>C#CCN1CCN(Cc2ccnc3c(O)cccc23)CC1</td>\n",
       "      <td>3.523168</td>\n",
       "      <td>0</td>\n",
       "    </tr>\n",
       "    <tr>\n",
       "      <th>172</th>\n",
       "      <td>CHEMBL1200624</td>\n",
       "      <td>C#C[C@]1(OC(C)=O)CC[C@H]2[C@@H]3CCC4=C[C@@H](O...</td>\n",
       "      <td>5.367543</td>\n",
       "      <td>1</td>\n",
       "    </tr>\n",
       "    <tr>\n",
       "      <th>245</th>\n",
       "      <td>CHEMBL2058153</td>\n",
       "      <td>NC1=NC(=O)C(Cc2c[nH]c3cc(Br)ccc23)=N1</td>\n",
       "      <td>5.433798</td>\n",
       "      <td>1</td>\n",
       "    </tr>\n",
       "    <tr>\n",
       "      <th>1423</th>\n",
       "      <td>CHEMBL4066708</td>\n",
       "      <td>COCc1cccc(NC(=O)c2cc3sccc3n2C)c1</td>\n",
       "      <td>4.000000</td>\n",
       "      <td>0</td>\n",
       "    </tr>\n",
       "    <tr>\n",
       "      <th>450</th>\n",
       "      <td>CHEMBL3398522</td>\n",
       "      <td>COc1ccc(-c2c(Cl)c3cc(C#N)c(C#N)cc3n2C)cc1</td>\n",
       "      <td>6.889410</td>\n",
       "      <td>1</td>\n",
       "    </tr>\n",
       "  </tbody>\n",
       "</table>\n",
       "</div>"
      ],
      "text/plain": [
       "     molecule_chembl_id                                standardized_smiles  \\\n",
       "985        CHEMBL257368                   C#CCN1CCN(Cc2ccnc3c(O)cccc23)CC1   \n",
       "172       CHEMBL1200624  C#C[C@]1(OC(C)=O)CC[C@H]2[C@@H]3CCC4=C[C@@H](O...   \n",
       "245       CHEMBL2058153              NC1=NC(=O)C(Cc2c[nH]c3cc(Br)ccc23)=N1   \n",
       "1423      CHEMBL4066708                   COCc1cccc(NC(=O)c2cc3sccc3n2C)c1   \n",
       "450       CHEMBL3398522          COc1ccc(-c2c(Cl)c3cc(C#N)c(C#N)cc3n2C)cc1   \n",
       "\n",
       "         pIC50  Class  \n",
       "985   3.523168      0  \n",
       "172   5.367543      1  \n",
       "245   5.433798      1  \n",
       "1423  4.000000      0  \n",
       "450   6.889410      1  "
      ]
     },
     "execution_count": 2,
     "metadata": {},
     "output_type": "execute_result"
    }
   ],
   "source": [
    "train_test_df.head()"
   ]
  },
  {
   "cell_type": "markdown",
   "id": "2041d3f8-7f38-4ffd-b47a-235e57e723a4",
   "metadata": {},
   "source": [
    "### **Calculation of MACCS fingerprints for train_test set**"
   ]
  },
  {
   "cell_type": "code",
   "execution_count": 3,
   "id": "c416a80d-a08d-4ca9-ae37-8523d4eb521c",
   "metadata": {
    "tags": []
   },
   "outputs": [],
   "source": [
    "from rdkit import Chem\n",
    "from rdkit.Chem import MACCSkeys\n",
    "import pandas as pd\n",
    "\n",
    "# Load DataFrame with SMILES data\n",
    "data = pd.read_csv(\"data/train_test_set.csv\")\n",
    "\n",
    "# Convert SMILES to RDKit Mol objects\n",
    "data['molecule'] = data['standardized_smiles'].apply(Chem.MolFromSmiles)\n",
    "\n",
    "# Calculate MACCS fingerprints\n",
    "fingerprints = []\n",
    "\n",
    "for mol in data['molecule']:\n",
    "    if mol is not None:\n",
    "        fp = MACCSkeys.GenMACCSKeys(mol)\n",
    "        fp_bits = list(fp.ToBitString())\n",
    "        # Note: MACCSKey 0 is unused, so we remove the first bit\n",
    "        fp_bits = fp_bits[1:]\n",
    "    else:\n",
    "        fp_bits = [None] * 166\n",
    "    fingerprints.append(fp_bits)\n",
    "\n",
    "# Convert to DataFrame\n",
    "maccs_df = pd.DataFrame(fingerprints, columns=[f'MACCS_{i}' for i in range(1, 167)])\n",
    "\n",
    "# Combine with original data\n",
    "data = pd.concat([data, maccs_df], axis=1)\n",
    "\n",
    "# Save to CSV\n",
    "data.to_csv(\"data/03_mao_a_maccs_fingerprints.csv\", index=False)"
   ]
  },
  {
   "cell_type": "markdown",
   "id": "6212b0a3-779e-49e5-97d7-e6edecce85f2",
   "metadata": {},
   "source": [
    "### **Feature selection**"
   ]
  },
  {
   "cell_type": "code",
   "execution_count": 4,
   "id": "25396cd7-a2a8-41f0-8c0a-cab941823f59",
   "metadata": {
    "tags": []
   },
   "outputs": [],
   "source": [
    "descriptors = pd.read_csv(\"data/03_mao_a_maccs_fingerprints.csv\")"
   ]
  },
  {
   "cell_type": "code",
   "execution_count": 5,
   "id": "e7a41343-588a-49dd-a006-40b2058a24a4",
   "metadata": {
    "tags": []
   },
   "outputs": [
    {
     "data": {
      "text/plain": [
       "Index(['molecule_chembl_id', 'standardized_smiles', 'pIC50', 'Class',\n",
       "       'molecule', 'MACCS_1', 'MACCS_2', 'MACCS_3', 'MACCS_4', 'MACCS_5',\n",
       "       ...\n",
       "       'MACCS_157', 'MACCS_158', 'MACCS_159', 'MACCS_160', 'MACCS_161',\n",
       "       'MACCS_162', 'MACCS_163', 'MACCS_164', 'MACCS_165', 'MACCS_166'],\n",
       "      dtype='object', length=171)"
      ]
     },
     "execution_count": 5,
     "metadata": {},
     "output_type": "execute_result"
    }
   ],
   "source": [
    "descriptors.columns"
   ]
  },
  {
   "cell_type": "code",
   "execution_count": 6,
   "id": "2a237a6d-3ac0-4e89-aeaa-64b0ba514a68",
   "metadata": {
    "tags": []
   },
   "outputs": [
    {
     "data": {
      "text/plain": [
       "(1556, 166)"
      ]
     },
     "execution_count": 6,
     "metadata": {},
     "output_type": "execute_result"
    }
   ],
   "source": [
    "columns_to_drop = ['molecule_chembl_id', 'standardized_smiles', 'pIC50', 'Class', 'molecule']\n",
    "\n",
    "X = descriptors.drop(columns=columns_to_drop)\n",
    "X.shape"
   ]
  },
  {
   "cell_type": "code",
   "execution_count": 7,
   "id": "cf2eaa1e-0f2b-47fd-85a7-fafdac9e4652",
   "metadata": {
    "tags": []
   },
   "outputs": [
    {
     "data": {
      "text/plain": [
       "(1556,)"
      ]
     },
     "execution_count": 7,
     "metadata": {},
     "output_type": "execute_result"
    }
   ],
   "source": [
    "y = descriptors['Class'] #class being predicted\n",
    "y.shape"
   ]
  },
  {
   "cell_type": "markdown",
   "id": "8b6626d1-59e1-4256-ab9f-5d155e47dc5f",
   "metadata": {},
   "source": [
    "**Remove low variance fingerprints**"
   ]
  },
  {
   "cell_type": "code",
   "execution_count": 8,
   "id": "f04c447b-f9df-4c50-b762-2d9978291d12",
   "metadata": {
    "tags": []
   },
   "outputs": [],
   "source": [
    "from sklearn.feature_selection import VarianceThreshold\n",
    "\n",
    "selector = VarianceThreshold(threshold=0.01)\n",
    "\n",
    "# Fit the selector to your training data\n",
    "selector.fit(X)\n",
    "\n",
    "# Get the indices of the features to keep\n",
    "indices_to_keep = selector.get_support(indices=True)\n",
    "\n",
    "# Remove low variance features from data and transform back to DataFrame\n",
    "X_filtered = pd.DataFrame(selector.transform(X),\n",
    "                                     columns=X.columns[indices_to_keep])"
   ]
  },
  {
   "cell_type": "code",
   "execution_count": 9,
   "id": "63ae950b-4afc-4dc9-93d2-96825f279243",
   "metadata": {
    "tags": []
   },
   "outputs": [
    {
     "data": {
      "text/plain": [
       "(1556, 135)"
      ]
     },
     "execution_count": 9,
     "metadata": {},
     "output_type": "execute_result"
    }
   ],
   "source": [
    "X_filtered.shape"
   ]
  },
  {
   "cell_type": "markdown",
   "id": "aa9ab039-0ff6-42d7-ac36-a60825747209",
   "metadata": {},
   "source": [
    "**Remove highly correlated descriptors**"
   ]
  },
  {
   "cell_type": "code",
   "execution_count": 10,
   "id": "619bfea5-b744-4575-ae4d-39e8c826ce49",
   "metadata": {
    "tags": []
   },
   "outputs": [],
   "source": [
    "# Calculate the correlation matrix\n",
    "corr_matrix = X_filtered.corr().abs()\n",
    "\n",
    "# Set the upper triangle of the correlation matrix to NaN\n",
    "upper_triangle = corr_matrix.where(np.triu(np.ones(corr_matrix.shape), k=1).astype(bool))\n",
    "\n",
    "# Find columns with correlation greater than a threshold (e.g., 0.7)\n",
    "high_corr_cols = [column for column in upper_triangle.columns if any(upper_triangle[column] > 0.7)]\n",
    "\n",
    "# Drop highly correlated columns\n",
    "X_filtered_selected = X_filtered.drop(columns=high_corr_cols)\n",
    "\n",
    "# Optionally, you can also drop the rows containing NaN values, if any\n",
    "X_filtered_selected = X_filtered_selected.dropna()"
   ]
  },
  {
   "cell_type": "code",
   "execution_count": 11,
   "id": "54bf0554-3a2e-49e2-91fb-8224540d309f",
   "metadata": {
    "tags": []
   },
   "outputs": [
    {
     "data": {
      "text/plain": [
       "(1556, 88)"
      ]
     },
     "execution_count": 11,
     "metadata": {},
     "output_type": "execute_result"
    }
   ],
   "source": [
    "X_filtered_selected.shape"
   ]
  },
  {
   "cell_type": "code",
   "execution_count": 12,
   "id": "bc731c5d-d07e-48ac-822b-870d33bcac80",
   "metadata": {
    "tags": []
   },
   "outputs": [],
   "source": [
    "X_filtered_selected.to_csv('data/04_mao_a_maccs_fp_selected.csv', index=False)\n",
    "y.to_csv(\"data/labels.csv\", index=False)"
   ]
  },
  {
   "cell_type": "code",
   "execution_count": 13,
   "id": "f6860631-0835-47bb-8b9a-a227f338fe86",
   "metadata": {
    "tags": []
   },
   "outputs": [],
   "source": [
    "X = pd.read_csv(\"data/04_mao_a_maccs_fp_selected.csv\")\n",
    "y = pd.read_csv(\"data/labels.csv\")['Class']"
   ]
  },
  {
   "cell_type": "code",
   "execution_count": 14,
   "id": "56b5209f-fc1c-41fa-b840-d8e3d31ca923",
   "metadata": {
    "tags": []
   },
   "outputs": [],
   "source": [
    "from pycaret.classification import *\n",
    "\n",
    "# Combine X and y into a single DataFrame for PyCaret\n",
    "df = X.copy()\n",
    "df['target'] = y"
   ]
  },
  {
   "cell_type": "code",
   "execution_count": 15,
   "id": "2358a03d-b06a-4226-bb46-969207eca86b",
   "metadata": {
    "tags": []
   },
   "outputs": [
    {
     "data": {
      "text/html": [
       "<style type=\"text/css\">\n",
       "#T_9f878_row8_col1, #T_9f878_row12_col1, #T_9f878_row14_col1 {\n",
       "  background-color: lightgreen;\n",
       "}\n",
       "</style>\n",
       "<table id=\"T_9f878\">\n",
       "  <thead>\n",
       "    <tr>\n",
       "      <th class=\"blank level0\" >&nbsp;</th>\n",
       "      <th id=\"T_9f878_level0_col0\" class=\"col_heading level0 col0\" >Description</th>\n",
       "      <th id=\"T_9f878_level0_col1\" class=\"col_heading level0 col1\" >Value</th>\n",
       "    </tr>\n",
       "  </thead>\n",
       "  <tbody>\n",
       "    <tr>\n",
       "      <th id=\"T_9f878_level0_row0\" class=\"row_heading level0 row0\" >0</th>\n",
       "      <td id=\"T_9f878_row0_col0\" class=\"data row0 col0\" >Session id</td>\n",
       "      <td id=\"T_9f878_row0_col1\" class=\"data row0 col1\" >42</td>\n",
       "    </tr>\n",
       "    <tr>\n",
       "      <th id=\"T_9f878_level0_row1\" class=\"row_heading level0 row1\" >1</th>\n",
       "      <td id=\"T_9f878_row1_col0\" class=\"data row1 col0\" >Target</td>\n",
       "      <td id=\"T_9f878_row1_col1\" class=\"data row1 col1\" >target</td>\n",
       "    </tr>\n",
       "    <tr>\n",
       "      <th id=\"T_9f878_level0_row2\" class=\"row_heading level0 row2\" >2</th>\n",
       "      <td id=\"T_9f878_row2_col0\" class=\"data row2 col0\" >Target type</td>\n",
       "      <td id=\"T_9f878_row2_col1\" class=\"data row2 col1\" >Binary</td>\n",
       "    </tr>\n",
       "    <tr>\n",
       "      <th id=\"T_9f878_level0_row3\" class=\"row_heading level0 row3\" >3</th>\n",
       "      <td id=\"T_9f878_row3_col0\" class=\"data row3 col0\" >Original data shape</td>\n",
       "      <td id=\"T_9f878_row3_col1\" class=\"data row3 col1\" >(1556, 89)</td>\n",
       "    </tr>\n",
       "    <tr>\n",
       "      <th id=\"T_9f878_level0_row4\" class=\"row_heading level0 row4\" >4</th>\n",
       "      <td id=\"T_9f878_row4_col0\" class=\"data row4 col0\" >Transformed data shape</td>\n",
       "      <td id=\"T_9f878_row4_col1\" class=\"data row4 col1\" >(1556, 89)</td>\n",
       "    </tr>\n",
       "    <tr>\n",
       "      <th id=\"T_9f878_level0_row5\" class=\"row_heading level0 row5\" >5</th>\n",
       "      <td id=\"T_9f878_row5_col0\" class=\"data row5 col0\" >Transformed train set shape</td>\n",
       "      <td id=\"T_9f878_row5_col1\" class=\"data row5 col1\" >(1244, 89)</td>\n",
       "    </tr>\n",
       "    <tr>\n",
       "      <th id=\"T_9f878_level0_row6\" class=\"row_heading level0 row6\" >6</th>\n",
       "      <td id=\"T_9f878_row6_col0\" class=\"data row6 col0\" >Transformed test set shape</td>\n",
       "      <td id=\"T_9f878_row6_col1\" class=\"data row6 col1\" >(312, 89)</td>\n",
       "    </tr>\n",
       "    <tr>\n",
       "      <th id=\"T_9f878_level0_row7\" class=\"row_heading level0 row7\" >7</th>\n",
       "      <td id=\"T_9f878_row7_col0\" class=\"data row7 col0\" >Numeric features</td>\n",
       "      <td id=\"T_9f878_row7_col1\" class=\"data row7 col1\" >88</td>\n",
       "    </tr>\n",
       "    <tr>\n",
       "      <th id=\"T_9f878_level0_row8\" class=\"row_heading level0 row8\" >8</th>\n",
       "      <td id=\"T_9f878_row8_col0\" class=\"data row8 col0\" >Preprocess</td>\n",
       "      <td id=\"T_9f878_row8_col1\" class=\"data row8 col1\" >True</td>\n",
       "    </tr>\n",
       "    <tr>\n",
       "      <th id=\"T_9f878_level0_row9\" class=\"row_heading level0 row9\" >9</th>\n",
       "      <td id=\"T_9f878_row9_col0\" class=\"data row9 col0\" >Imputation type</td>\n",
       "      <td id=\"T_9f878_row9_col1\" class=\"data row9 col1\" >simple</td>\n",
       "    </tr>\n",
       "    <tr>\n",
       "      <th id=\"T_9f878_level0_row10\" class=\"row_heading level0 row10\" >10</th>\n",
       "      <td id=\"T_9f878_row10_col0\" class=\"data row10 col0\" >Numeric imputation</td>\n",
       "      <td id=\"T_9f878_row10_col1\" class=\"data row10 col1\" >mean</td>\n",
       "    </tr>\n",
       "    <tr>\n",
       "      <th id=\"T_9f878_level0_row11\" class=\"row_heading level0 row11\" >11</th>\n",
       "      <td id=\"T_9f878_row11_col0\" class=\"data row11 col0\" >Categorical imputation</td>\n",
       "      <td id=\"T_9f878_row11_col1\" class=\"data row11 col1\" >mode</td>\n",
       "    </tr>\n",
       "    <tr>\n",
       "      <th id=\"T_9f878_level0_row12\" class=\"row_heading level0 row12\" >12</th>\n",
       "      <td id=\"T_9f878_row12_col0\" class=\"data row12 col0\" >Remove multicollinearity</td>\n",
       "      <td id=\"T_9f878_row12_col1\" class=\"data row12 col1\" >True</td>\n",
       "    </tr>\n",
       "    <tr>\n",
       "      <th id=\"T_9f878_level0_row13\" class=\"row_heading level0 row13\" >13</th>\n",
       "      <td id=\"T_9f878_row13_col0\" class=\"data row13 col0\" >Multicollinearity threshold</td>\n",
       "      <td id=\"T_9f878_row13_col1\" class=\"data row13 col1\" >0.950000</td>\n",
       "    </tr>\n",
       "    <tr>\n",
       "      <th id=\"T_9f878_level0_row14\" class=\"row_heading level0 row14\" >14</th>\n",
       "      <td id=\"T_9f878_row14_col0\" class=\"data row14 col0\" >Normalize</td>\n",
       "      <td id=\"T_9f878_row14_col1\" class=\"data row14 col1\" >True</td>\n",
       "    </tr>\n",
       "    <tr>\n",
       "      <th id=\"T_9f878_level0_row15\" class=\"row_heading level0 row15\" >15</th>\n",
       "      <td id=\"T_9f878_row15_col0\" class=\"data row15 col0\" >Normalize method</td>\n",
       "      <td id=\"T_9f878_row15_col1\" class=\"data row15 col1\" >zscore</td>\n",
       "    </tr>\n",
       "    <tr>\n",
       "      <th id=\"T_9f878_level0_row16\" class=\"row_heading level0 row16\" >16</th>\n",
       "      <td id=\"T_9f878_row16_col0\" class=\"data row16 col0\" >Fold Generator</td>\n",
       "      <td id=\"T_9f878_row16_col1\" class=\"data row16 col1\" >StratifiedKFold</td>\n",
       "    </tr>\n",
       "    <tr>\n",
       "      <th id=\"T_9f878_level0_row17\" class=\"row_heading level0 row17\" >17</th>\n",
       "      <td id=\"T_9f878_row17_col0\" class=\"data row17 col0\" >Fold Number</td>\n",
       "      <td id=\"T_9f878_row17_col1\" class=\"data row17 col1\" >10</td>\n",
       "    </tr>\n",
       "    <tr>\n",
       "      <th id=\"T_9f878_level0_row18\" class=\"row_heading level0 row18\" >18</th>\n",
       "      <td id=\"T_9f878_row18_col0\" class=\"data row18 col0\" >CPU Jobs</td>\n",
       "      <td id=\"T_9f878_row18_col1\" class=\"data row18 col1\" >-1</td>\n",
       "    </tr>\n",
       "    <tr>\n",
       "      <th id=\"T_9f878_level0_row19\" class=\"row_heading level0 row19\" >19</th>\n",
       "      <td id=\"T_9f878_row19_col0\" class=\"data row19 col0\" >Use GPU</td>\n",
       "      <td id=\"T_9f878_row19_col1\" class=\"data row19 col1\" >False</td>\n",
       "    </tr>\n",
       "    <tr>\n",
       "      <th id=\"T_9f878_level0_row20\" class=\"row_heading level0 row20\" >20</th>\n",
       "      <td id=\"T_9f878_row20_col0\" class=\"data row20 col0\" >Log Experiment</td>\n",
       "      <td id=\"T_9f878_row20_col1\" class=\"data row20 col1\" >False</td>\n",
       "    </tr>\n",
       "    <tr>\n",
       "      <th id=\"T_9f878_level0_row21\" class=\"row_heading level0 row21\" >21</th>\n",
       "      <td id=\"T_9f878_row21_col0\" class=\"data row21 col0\" >Experiment Name</td>\n",
       "      <td id=\"T_9f878_row21_col1\" class=\"data row21 col1\" >clf-default-name</td>\n",
       "    </tr>\n",
       "    <tr>\n",
       "      <th id=\"T_9f878_level0_row22\" class=\"row_heading level0 row22\" >22</th>\n",
       "      <td id=\"T_9f878_row22_col0\" class=\"data row22 col0\" >USI</td>\n",
       "      <td id=\"T_9f878_row22_col1\" class=\"data row22 col1\" >9bb5</td>\n",
       "    </tr>\n",
       "  </tbody>\n",
       "</table>\n"
      ],
      "text/plain": [
       "<pandas.io.formats.style.Styler at 0x1fdfc177ee0>"
      ]
     },
     "metadata": {},
     "output_type": "display_data"
    }
   ],
   "source": [
    "clf_setup = setup(\n",
    "    data=df,\n",
    "    target='target',\n",
    "    session_id=42,\n",
    "    verbose=True,  # Set to True for debugging\n",
    "    train_size=0.8,  # Explicit train-test split\n",
    "    normalize=True,  # Only for numeric features (not SMILES)\n",
    "    feature_selection=False,  # Disable PyCaret's default (use manual selection)\n",
    "    remove_multicollinearity=True,\n",
    "    multicollinearity_threshold=0.95,\n",
    "    fix_imbalance=False,  # If dataset is imbalanced\n",
    "    use_gpu=False  # Set to True if using GPU-accelerated models\n",
    ")"
   ]
  },
  {
   "cell_type": "code",
   "execution_count": 16,
   "id": "76fe8166-fa15-4273-bd43-aa0b9a7b6185",
   "metadata": {
    "tags": []
   },
   "outputs": [
    {
     "data": {
      "text/html": [
       "<div>\n",
       "<style scoped>\n",
       "    .dataframe tbody tr th:only-of-type {\n",
       "        vertical-align: middle;\n",
       "    }\n",
       "\n",
       "    .dataframe tbody tr th {\n",
       "        vertical-align: top;\n",
       "    }\n",
       "\n",
       "    .dataframe thead th {\n",
       "        text-align: right;\n",
       "    }\n",
       "</style>\n",
       "<table border=\"1\" class=\"dataframe\">\n",
       "  <thead>\n",
       "    <tr style=\"text-align: right;\">\n",
       "      <th></th>\n",
       "      <th>Name</th>\n",
       "      <th>Reference</th>\n",
       "      <th>Turbo</th>\n",
       "    </tr>\n",
       "    <tr>\n",
       "      <th>ID</th>\n",
       "      <th></th>\n",
       "      <th></th>\n",
       "      <th></th>\n",
       "    </tr>\n",
       "  </thead>\n",
       "  <tbody>\n",
       "    <tr>\n",
       "      <th>lr</th>\n",
       "      <td>Logistic Regression</td>\n",
       "      <td>sklearn.linear_model._logistic.LogisticRegression</td>\n",
       "      <td>True</td>\n",
       "    </tr>\n",
       "    <tr>\n",
       "      <th>knn</th>\n",
       "      <td>K Neighbors Classifier</td>\n",
       "      <td>sklearn.neighbors._classification.KNeighborsCl...</td>\n",
       "      <td>True</td>\n",
       "    </tr>\n",
       "    <tr>\n",
       "      <th>nb</th>\n",
       "      <td>Naive Bayes</td>\n",
       "      <td>sklearn.naive_bayes.GaussianNB</td>\n",
       "      <td>True</td>\n",
       "    </tr>\n",
       "    <tr>\n",
       "      <th>dt</th>\n",
       "      <td>Decision Tree Classifier</td>\n",
       "      <td>sklearn.tree._classes.DecisionTreeClassifier</td>\n",
       "      <td>True</td>\n",
       "    </tr>\n",
       "    <tr>\n",
       "      <th>svm</th>\n",
       "      <td>SVM - Linear Kernel</td>\n",
       "      <td>sklearn.linear_model._stochastic_gradient.SGDC...</td>\n",
       "      <td>True</td>\n",
       "    </tr>\n",
       "    <tr>\n",
       "      <th>rbfsvm</th>\n",
       "      <td>SVM - Radial Kernel</td>\n",
       "      <td>sklearn.svm._classes.SVC</td>\n",
       "      <td>False</td>\n",
       "    </tr>\n",
       "    <tr>\n",
       "      <th>gpc</th>\n",
       "      <td>Gaussian Process Classifier</td>\n",
       "      <td>sklearn.gaussian_process._gpc.GaussianProcessC...</td>\n",
       "      <td>False</td>\n",
       "    </tr>\n",
       "    <tr>\n",
       "      <th>mlp</th>\n",
       "      <td>MLP Classifier</td>\n",
       "      <td>sklearn.neural_network._multilayer_perceptron....</td>\n",
       "      <td>False</td>\n",
       "    </tr>\n",
       "    <tr>\n",
       "      <th>ridge</th>\n",
       "      <td>Ridge Classifier</td>\n",
       "      <td>sklearn.linear_model._ridge.RidgeClassifier</td>\n",
       "      <td>True</td>\n",
       "    </tr>\n",
       "    <tr>\n",
       "      <th>rf</th>\n",
       "      <td>Random Forest Classifier</td>\n",
       "      <td>sklearn.ensemble._forest.RandomForestClassifier</td>\n",
       "      <td>True</td>\n",
       "    </tr>\n",
       "    <tr>\n",
       "      <th>qda</th>\n",
       "      <td>Quadratic Discriminant Analysis</td>\n",
       "      <td>sklearn.discriminant_analysis.QuadraticDiscrim...</td>\n",
       "      <td>True</td>\n",
       "    </tr>\n",
       "    <tr>\n",
       "      <th>ada</th>\n",
       "      <td>Ada Boost Classifier</td>\n",
       "      <td>sklearn.ensemble._weight_boosting.AdaBoostClas...</td>\n",
       "      <td>True</td>\n",
       "    </tr>\n",
       "    <tr>\n",
       "      <th>gbc</th>\n",
       "      <td>Gradient Boosting Classifier</td>\n",
       "      <td>sklearn.ensemble._gb.GradientBoostingClassifier</td>\n",
       "      <td>True</td>\n",
       "    </tr>\n",
       "    <tr>\n",
       "      <th>lda</th>\n",
       "      <td>Linear Discriminant Analysis</td>\n",
       "      <td>sklearn.discriminant_analysis.LinearDiscrimina...</td>\n",
       "      <td>True</td>\n",
       "    </tr>\n",
       "    <tr>\n",
       "      <th>et</th>\n",
       "      <td>Extra Trees Classifier</td>\n",
       "      <td>sklearn.ensemble._forest.ExtraTreesClassifier</td>\n",
       "      <td>True</td>\n",
       "    </tr>\n",
       "    <tr>\n",
       "      <th>xgboost</th>\n",
       "      <td>Extreme Gradient Boosting</td>\n",
       "      <td>xgboost.sklearn.XGBClassifier</td>\n",
       "      <td>True</td>\n",
       "    </tr>\n",
       "    <tr>\n",
       "      <th>lightgbm</th>\n",
       "      <td>Light Gradient Boosting Machine</td>\n",
       "      <td>lightgbm.sklearn.LGBMClassifier</td>\n",
       "      <td>True</td>\n",
       "    </tr>\n",
       "    <tr>\n",
       "      <th>dummy</th>\n",
       "      <td>Dummy Classifier</td>\n",
       "      <td>sklearn.dummy.DummyClassifier</td>\n",
       "      <td>True</td>\n",
       "    </tr>\n",
       "  </tbody>\n",
       "</table>\n",
       "</div>"
      ],
      "text/plain": [
       "                                     Name  \\\n",
       "ID                                          \n",
       "lr                    Logistic Regression   \n",
       "knn                K Neighbors Classifier   \n",
       "nb                            Naive Bayes   \n",
       "dt               Decision Tree Classifier   \n",
       "svm                   SVM - Linear Kernel   \n",
       "rbfsvm                SVM - Radial Kernel   \n",
       "gpc           Gaussian Process Classifier   \n",
       "mlp                        MLP Classifier   \n",
       "ridge                    Ridge Classifier   \n",
       "rf               Random Forest Classifier   \n",
       "qda       Quadratic Discriminant Analysis   \n",
       "ada                  Ada Boost Classifier   \n",
       "gbc          Gradient Boosting Classifier   \n",
       "lda          Linear Discriminant Analysis   \n",
       "et                 Extra Trees Classifier   \n",
       "xgboost         Extreme Gradient Boosting   \n",
       "lightgbm  Light Gradient Boosting Machine   \n",
       "dummy                    Dummy Classifier   \n",
       "\n",
       "                                                  Reference  Turbo  \n",
       "ID                                                                  \n",
       "lr        sklearn.linear_model._logistic.LogisticRegression   True  \n",
       "knn       sklearn.neighbors._classification.KNeighborsCl...   True  \n",
       "nb                           sklearn.naive_bayes.GaussianNB   True  \n",
       "dt             sklearn.tree._classes.DecisionTreeClassifier   True  \n",
       "svm       sklearn.linear_model._stochastic_gradient.SGDC...   True  \n",
       "rbfsvm                             sklearn.svm._classes.SVC  False  \n",
       "gpc       sklearn.gaussian_process._gpc.GaussianProcessC...  False  \n",
       "mlp       sklearn.neural_network._multilayer_perceptron....  False  \n",
       "ridge           sklearn.linear_model._ridge.RidgeClassifier   True  \n",
       "rf          sklearn.ensemble._forest.RandomForestClassifier   True  \n",
       "qda       sklearn.discriminant_analysis.QuadraticDiscrim...   True  \n",
       "ada       sklearn.ensemble._weight_boosting.AdaBoostClas...   True  \n",
       "gbc         sklearn.ensemble._gb.GradientBoostingClassifier   True  \n",
       "lda       sklearn.discriminant_analysis.LinearDiscrimina...   True  \n",
       "et            sklearn.ensemble._forest.ExtraTreesClassifier   True  \n",
       "xgboost                       xgboost.sklearn.XGBClassifier   True  \n",
       "lightgbm                    lightgbm.sklearn.LGBMClassifier   True  \n",
       "dummy                         sklearn.dummy.DummyClassifier   True  "
      ]
     },
     "execution_count": 16,
     "metadata": {},
     "output_type": "execute_result"
    }
   ],
   "source": [
    "models()"
   ]
  },
  {
   "cell_type": "code",
   "execution_count": 17,
   "id": "1cf7758e-b660-4fad-83df-87335e7592b3",
   "metadata": {
    "tags": []
   },
   "outputs": [
    {
     "data": {
      "text/html": [],
      "text/plain": [
       "<IPython.core.display.HTML object>"
      ]
     },
     "metadata": {},
     "output_type": "display_data"
    },
    {
     "data": {
      "text/html": [
       "<style type=\"text/css\">\n",
       "#T_91180 th {\n",
       "  text-align: left;\n",
       "}\n",
       "#T_91180_row0_col0, #T_91180_row0_col4, #T_91180_row1_col0, #T_91180_row1_col1, #T_91180_row1_col2, #T_91180_row1_col3, #T_91180_row1_col5, #T_91180_row1_col6, #T_91180_row1_col7, #T_91180_row2_col0, #T_91180_row2_col1, #T_91180_row2_col2, #T_91180_row2_col3, #T_91180_row2_col4, #T_91180_row2_col5, #T_91180_row2_col6, #T_91180_row2_col7, #T_91180_row3_col0, #T_91180_row3_col1, #T_91180_row3_col2, #T_91180_row3_col3, #T_91180_row3_col4, #T_91180_row3_col5, #T_91180_row3_col6, #T_91180_row3_col7, #T_91180_row4_col0, #T_91180_row4_col1, #T_91180_row4_col2, #T_91180_row4_col3, #T_91180_row4_col4, #T_91180_row4_col5, #T_91180_row4_col6, #T_91180_row4_col7, #T_91180_row5_col0, #T_91180_row5_col1, #T_91180_row5_col2, #T_91180_row5_col3, #T_91180_row5_col4, #T_91180_row5_col5, #T_91180_row5_col6, #T_91180_row5_col7, #T_91180_row6_col0, #T_91180_row6_col1, #T_91180_row6_col2, #T_91180_row6_col3, #T_91180_row6_col4, #T_91180_row6_col5, #T_91180_row6_col6, #T_91180_row6_col7, #T_91180_row7_col0, #T_91180_row7_col1, #T_91180_row7_col2, #T_91180_row7_col3, #T_91180_row7_col4, #T_91180_row7_col5, #T_91180_row7_col6, #T_91180_row7_col7, #T_91180_row8_col0, #T_91180_row8_col1, #T_91180_row8_col2, #T_91180_row8_col3, #T_91180_row8_col4, #T_91180_row8_col5, #T_91180_row8_col6, #T_91180_row8_col7, #T_91180_row9_col0, #T_91180_row9_col1, #T_91180_row9_col2, #T_91180_row9_col3, #T_91180_row9_col4, #T_91180_row9_col5, #T_91180_row9_col6, #T_91180_row9_col7, #T_91180_row10_col0, #T_91180_row10_col1, #T_91180_row10_col2, #T_91180_row10_col3, #T_91180_row10_col4, #T_91180_row10_col5, #T_91180_row10_col6, #T_91180_row10_col7, #T_91180_row11_col0, #T_91180_row11_col1, #T_91180_row11_col2, #T_91180_row11_col3, #T_91180_row11_col4, #T_91180_row11_col5, #T_91180_row11_col6, #T_91180_row11_col7, #T_91180_row12_col0, #T_91180_row12_col1, #T_91180_row12_col2, #T_91180_row12_col3, #T_91180_row12_col4, #T_91180_row12_col5, #T_91180_row12_col6, #T_91180_row12_col7, #T_91180_row13_col0, #T_91180_row13_col1, #T_91180_row13_col2, #T_91180_row13_col3, #T_91180_row13_col4, #T_91180_row13_col5, #T_91180_row13_col6, #T_91180_row13_col7, #T_91180_row14_col0, #T_91180_row14_col1, #T_91180_row14_col2, #T_91180_row14_col3, #T_91180_row14_col4, #T_91180_row14_col5, #T_91180_row14_col6, #T_91180_row14_col7 {\n",
       "  text-align: left;\n",
       "}\n",
       "#T_91180_row0_col1, #T_91180_row0_col2, #T_91180_row0_col3, #T_91180_row0_col5, #T_91180_row0_col6, #T_91180_row0_col7, #T_91180_row1_col4 {\n",
       "  text-align: left;\n",
       "  background-color: yellow;\n",
       "}\n",
       "#T_91180_row0_col8, #T_91180_row1_col8, #T_91180_row2_col8, #T_91180_row3_col8, #T_91180_row4_col8, #T_91180_row5_col8, #T_91180_row6_col8, #T_91180_row7_col8, #T_91180_row8_col8, #T_91180_row9_col8, #T_91180_row10_col8, #T_91180_row11_col8, #T_91180_row12_col8, #T_91180_row14_col8 {\n",
       "  text-align: left;\n",
       "  background-color: lightgrey;\n",
       "}\n",
       "#T_91180_row13_col8 {\n",
       "  text-align: left;\n",
       "  background-color: yellow;\n",
       "  background-color: lightgrey;\n",
       "}\n",
       "</style>\n",
       "<table id=\"T_91180\">\n",
       "  <thead>\n",
       "    <tr>\n",
       "      <th class=\"blank level0\" >&nbsp;</th>\n",
       "      <th id=\"T_91180_level0_col0\" class=\"col_heading level0 col0\" >Model</th>\n",
       "      <th id=\"T_91180_level0_col1\" class=\"col_heading level0 col1\" >Accuracy</th>\n",
       "      <th id=\"T_91180_level0_col2\" class=\"col_heading level0 col2\" >AUC</th>\n",
       "      <th id=\"T_91180_level0_col3\" class=\"col_heading level0 col3\" >Recall</th>\n",
       "      <th id=\"T_91180_level0_col4\" class=\"col_heading level0 col4\" >Prec.</th>\n",
       "      <th id=\"T_91180_level0_col5\" class=\"col_heading level0 col5\" >F1</th>\n",
       "      <th id=\"T_91180_level0_col6\" class=\"col_heading level0 col6\" >Kappa</th>\n",
       "      <th id=\"T_91180_level0_col7\" class=\"col_heading level0 col7\" >MCC</th>\n",
       "      <th id=\"T_91180_level0_col8\" class=\"col_heading level0 col8\" >TT (Sec)</th>\n",
       "    </tr>\n",
       "  </thead>\n",
       "  <tbody>\n",
       "    <tr>\n",
       "      <th id=\"T_91180_level0_row0\" class=\"row_heading level0 row0\" >rf</th>\n",
       "      <td id=\"T_91180_row0_col0\" class=\"data row0 col0\" >Random Forest Classifier</td>\n",
       "      <td id=\"T_91180_row0_col1\" class=\"data row0 col1\" >0.8641</td>\n",
       "      <td id=\"T_91180_row0_col2\" class=\"data row0 col2\" >0.9349</td>\n",
       "      <td id=\"T_91180_row0_col3\" class=\"data row0 col3\" >0.8633</td>\n",
       "      <td id=\"T_91180_row0_col4\" class=\"data row0 col4\" >0.8664</td>\n",
       "      <td id=\"T_91180_row0_col5\" class=\"data row0 col5\" >0.8643</td>\n",
       "      <td id=\"T_91180_row0_col6\" class=\"data row0 col6\" >0.7282</td>\n",
       "      <td id=\"T_91180_row0_col7\" class=\"data row0 col7\" >0.7293</td>\n",
       "      <td id=\"T_91180_row0_col8\" class=\"data row0 col8\" >0.1480</td>\n",
       "    </tr>\n",
       "    <tr>\n",
       "      <th id=\"T_91180_level0_row1\" class=\"row_heading level0 row1\" >et</th>\n",
       "      <td id=\"T_91180_row1_col0\" class=\"data row1 col0\" >Extra Trees Classifier</td>\n",
       "      <td id=\"T_91180_row1_col1\" class=\"data row1 col1\" >0.8561</td>\n",
       "      <td id=\"T_91180_row1_col2\" class=\"data row1 col2\" >0.9242</td>\n",
       "      <td id=\"T_91180_row1_col3\" class=\"data row1 col3\" >0.8408</td>\n",
       "      <td id=\"T_91180_row1_col4\" class=\"data row1 col4\" >0.8690</td>\n",
       "      <td id=\"T_91180_row1_col5\" class=\"data row1 col5\" >0.8538</td>\n",
       "      <td id=\"T_91180_row1_col6\" class=\"data row1 col6\" >0.7121</td>\n",
       "      <td id=\"T_91180_row1_col7\" class=\"data row1 col7\" >0.7139</td>\n",
       "      <td id=\"T_91180_row1_col8\" class=\"data row1 col8\" >0.1340</td>\n",
       "    </tr>\n",
       "    <tr>\n",
       "      <th id=\"T_91180_level0_row2\" class=\"row_heading level0 row2\" >xgboost</th>\n",
       "      <td id=\"T_91180_row2_col0\" class=\"data row2 col0\" >Extreme Gradient Boosting</td>\n",
       "      <td id=\"T_91180_row2_col1\" class=\"data row2 col1\" >0.8553</td>\n",
       "      <td id=\"T_91180_row2_col2\" class=\"data row2 col2\" >0.9230</td>\n",
       "      <td id=\"T_91180_row2_col3\" class=\"data row2 col3\" >0.8489</td>\n",
       "      <td id=\"T_91180_row2_col4\" class=\"data row2 col4\" >0.8609</td>\n",
       "      <td id=\"T_91180_row2_col5\" class=\"data row2 col5\" >0.8542</td>\n",
       "      <td id=\"T_91180_row2_col6\" class=\"data row2 col6\" >0.7106</td>\n",
       "      <td id=\"T_91180_row2_col7\" class=\"data row2 col7\" >0.7117</td>\n",
       "      <td id=\"T_91180_row2_col8\" class=\"data row2 col8\" >0.1290</td>\n",
       "    </tr>\n",
       "    <tr>\n",
       "      <th id=\"T_91180_level0_row3\" class=\"row_heading level0 row3\" >lightgbm</th>\n",
       "      <td id=\"T_91180_row3_col0\" class=\"data row3 col0\" >Light Gradient Boosting Machine</td>\n",
       "      <td id=\"T_91180_row3_col1\" class=\"data row3 col1\" >0.8488</td>\n",
       "      <td id=\"T_91180_row3_col2\" class=\"data row3 col2\" >0.9251</td>\n",
       "      <td id=\"T_91180_row3_col3\" class=\"data row3 col3\" >0.8456</td>\n",
       "      <td id=\"T_91180_row3_col4\" class=\"data row3 col4\" >0.8531</td>\n",
       "      <td id=\"T_91180_row3_col5\" class=\"data row3 col5\" >0.8486</td>\n",
       "      <td id=\"T_91180_row3_col6\" class=\"data row3 col6\" >0.6977</td>\n",
       "      <td id=\"T_91180_row3_col7\" class=\"data row3 col7\" >0.6989</td>\n",
       "      <td id=\"T_91180_row3_col8\" class=\"data row3 col8\" >0.1250</td>\n",
       "    </tr>\n",
       "    <tr>\n",
       "      <th id=\"T_91180_level0_row4\" class=\"row_heading level0 row4\" >knn</th>\n",
       "      <td id=\"T_91180_row4_col0\" class=\"data row4 col0\" >K Neighbors Classifier</td>\n",
       "      <td id=\"T_91180_row4_col1\" class=\"data row4 col1\" >0.8416</td>\n",
       "      <td id=\"T_91180_row4_col2\" class=\"data row4 col2\" >0.9062</td>\n",
       "      <td id=\"T_91180_row4_col3\" class=\"data row4 col3\" >0.8536</td>\n",
       "      <td id=\"T_91180_row4_col4\" class=\"data row4 col4\" >0.8344</td>\n",
       "      <td id=\"T_91180_row4_col5\" class=\"data row4 col5\" >0.8434</td>\n",
       "      <td id=\"T_91180_row4_col6\" class=\"data row4 col6\" >0.6831</td>\n",
       "      <td id=\"T_91180_row4_col7\" class=\"data row4 col7\" >0.6842</td>\n",
       "      <td id=\"T_91180_row4_col8\" class=\"data row4 col8\" >0.2460</td>\n",
       "    </tr>\n",
       "    <tr>\n",
       "      <th id=\"T_91180_level0_row5\" class=\"row_heading level0 row5\" >qda</th>\n",
       "      <td id=\"T_91180_row5_col0\" class=\"data row5 col0\" >Quadratic Discriminant Analysis</td>\n",
       "      <td id=\"T_91180_row5_col1\" class=\"data row5 col1\" >0.8063</td>\n",
       "      <td id=\"T_91180_row5_col2\" class=\"data row5 col2\" >0.8938</td>\n",
       "      <td id=\"T_91180_row5_col3\" class=\"data row5 col3\" >0.8537</td>\n",
       "      <td id=\"T_91180_row5_col4\" class=\"data row5 col4\" >0.7904</td>\n",
       "      <td id=\"T_91180_row5_col5\" class=\"data row5 col5\" >0.8171</td>\n",
       "      <td id=\"T_91180_row5_col6\" class=\"data row5 col6\" >0.6128</td>\n",
       "      <td id=\"T_91180_row5_col7\" class=\"data row5 col7\" >0.6219</td>\n",
       "      <td id=\"T_91180_row5_col8\" class=\"data row5 col8\" >0.0580</td>\n",
       "    </tr>\n",
       "    <tr>\n",
       "      <th id=\"T_91180_level0_row6\" class=\"row_heading level0 row6\" >dt</th>\n",
       "      <td id=\"T_91180_row6_col0\" class=\"data row6 col0\" >Decision Tree Classifier</td>\n",
       "      <td id=\"T_91180_row6_col1\" class=\"data row6 col1\" >0.8031</td>\n",
       "      <td id=\"T_91180_row6_col2\" class=\"data row6 col2\" >0.8058</td>\n",
       "      <td id=\"T_91180_row6_col3\" class=\"data row6 col3\" >0.7896</td>\n",
       "      <td id=\"T_91180_row6_col4\" class=\"data row6 col4\" >0.8130</td>\n",
       "      <td id=\"T_91180_row6_col5\" class=\"data row6 col5\" >0.7997</td>\n",
       "      <td id=\"T_91180_row6_col6\" class=\"data row6 col6\" >0.6062</td>\n",
       "      <td id=\"T_91180_row6_col7\" class=\"data row6 col7\" >0.6084</td>\n",
       "      <td id=\"T_91180_row6_col8\" class=\"data row6 col8\" >0.0930</td>\n",
       "    </tr>\n",
       "    <tr>\n",
       "      <th id=\"T_91180_level0_row7\" class=\"row_heading level0 row7\" >gbc</th>\n",
       "      <td id=\"T_91180_row7_col0\" class=\"data row7 col0\" >Gradient Boosting Classifier</td>\n",
       "      <td id=\"T_91180_row7_col1\" class=\"data row7 col1\" >0.7966</td>\n",
       "      <td id=\"T_91180_row7_col2\" class=\"data row7 col2\" >0.8753</td>\n",
       "      <td id=\"T_91180_row7_col3\" class=\"data row7 col3\" >0.8052</td>\n",
       "      <td id=\"T_91180_row7_col4\" class=\"data row7 col4\" >0.7920</td>\n",
       "      <td id=\"T_91180_row7_col5\" class=\"data row7 col5\" >0.7982</td>\n",
       "      <td id=\"T_91180_row7_col6\" class=\"data row7 col6\" >0.5931</td>\n",
       "      <td id=\"T_91180_row7_col7\" class=\"data row7 col7\" >0.5938</td>\n",
       "      <td id=\"T_91180_row7_col8\" class=\"data row7 col8\" >0.1730</td>\n",
       "    </tr>\n",
       "    <tr>\n",
       "      <th id=\"T_91180_level0_row8\" class=\"row_heading level0 row8\" >lr</th>\n",
       "      <td id=\"T_91180_row8_col0\" class=\"data row8 col0\" >Logistic Regression</td>\n",
       "      <td id=\"T_91180_row8_col1\" class=\"data row8 col1\" >0.7162</td>\n",
       "      <td id=\"T_91180_row8_col2\" class=\"data row8 col2\" >0.7901</td>\n",
       "      <td id=\"T_91180_row8_col3\" class=\"data row8 col3\" >0.7264</td>\n",
       "      <td id=\"T_91180_row8_col4\" class=\"data row8 col4\" >0.7133</td>\n",
       "      <td id=\"T_91180_row8_col5\" class=\"data row8 col5\" >0.7189</td>\n",
       "      <td id=\"T_91180_row8_col6\" class=\"data row8 col6\" >0.4323</td>\n",
       "      <td id=\"T_91180_row8_col7\" class=\"data row8 col7\" >0.4337</td>\n",
       "      <td id=\"T_91180_row8_col8\" class=\"data row8 col8\" >1.1250</td>\n",
       "    </tr>\n",
       "    <tr>\n",
       "      <th id=\"T_91180_level0_row9\" class=\"row_heading level0 row9\" >lda</th>\n",
       "      <td id=\"T_91180_row9_col0\" class=\"data row9 col0\" >Linear Discriminant Analysis</td>\n",
       "      <td id=\"T_91180_row9_col1\" class=\"data row9 col1\" >0.7114</td>\n",
       "      <td id=\"T_91180_row9_col2\" class=\"data row9 col2\" >0.7871</td>\n",
       "      <td id=\"T_91180_row9_col3\" class=\"data row9 col3\" >0.7135</td>\n",
       "      <td id=\"T_91180_row9_col4\" class=\"data row9 col4\" >0.7116</td>\n",
       "      <td id=\"T_91180_row9_col5\" class=\"data row9 col5\" >0.7114</td>\n",
       "      <td id=\"T_91180_row9_col6\" class=\"data row9 col6\" >0.4226</td>\n",
       "      <td id=\"T_91180_row9_col7\" class=\"data row9 col7\" >0.4241</td>\n",
       "      <td id=\"T_91180_row9_col8\" class=\"data row9 col8\" >0.0560</td>\n",
       "    </tr>\n",
       "    <tr>\n",
       "      <th id=\"T_91180_level0_row10\" class=\"row_heading level0 row10\" >ridge</th>\n",
       "      <td id=\"T_91180_row10_col0\" class=\"data row10 col0\" >Ridge Classifier</td>\n",
       "      <td id=\"T_91180_row10_col1\" class=\"data row10 col1\" >0.7106</td>\n",
       "      <td id=\"T_91180_row10_col2\" class=\"data row10 col2\" >0.0000</td>\n",
       "      <td id=\"T_91180_row10_col3\" class=\"data row10 col3\" >0.7135</td>\n",
       "      <td id=\"T_91180_row10_col4\" class=\"data row10 col4\" >0.7104</td>\n",
       "      <td id=\"T_91180_row10_col5\" class=\"data row10 col5\" >0.7109</td>\n",
       "      <td id=\"T_91180_row10_col6\" class=\"data row10 col6\" >0.4210</td>\n",
       "      <td id=\"T_91180_row10_col7\" class=\"data row10 col7\" >0.4225</td>\n",
       "      <td id=\"T_91180_row10_col8\" class=\"data row10 col8\" >0.0710</td>\n",
       "    </tr>\n",
       "    <tr>\n",
       "      <th id=\"T_91180_level0_row11\" class=\"row_heading level0 row11\" >ada</th>\n",
       "      <td id=\"T_91180_row11_col0\" class=\"data row11 col0\" >Ada Boost Classifier</td>\n",
       "      <td id=\"T_91180_row11_col1\" class=\"data row11 col1\" >0.6896</td>\n",
       "      <td id=\"T_91180_row11_col2\" class=\"data row11 col2\" >0.7747</td>\n",
       "      <td id=\"T_91180_row11_col3\" class=\"data row11 col3\" >0.7023</td>\n",
       "      <td id=\"T_91180_row11_col4\" class=\"data row11 col4\" >0.6842</td>\n",
       "      <td id=\"T_91180_row11_col5\" class=\"data row11 col5\" >0.6926</td>\n",
       "      <td id=\"T_91180_row11_col6\" class=\"data row11 col6\" >0.3793</td>\n",
       "      <td id=\"T_91180_row11_col7\" class=\"data row11 col7\" >0.3801</td>\n",
       "      <td id=\"T_91180_row11_col8\" class=\"data row11 col8\" >0.1140</td>\n",
       "    </tr>\n",
       "    <tr>\n",
       "      <th id=\"T_91180_level0_row12\" class=\"row_heading level0 row12\" >svm</th>\n",
       "      <td id=\"T_91180_row12_col0\" class=\"data row12 col0\" >SVM - Linear Kernel</td>\n",
       "      <td id=\"T_91180_row12_col1\" class=\"data row12 col1\" >0.6752</td>\n",
       "      <td id=\"T_91180_row12_col2\" class=\"data row12 col2\" >0.0000</td>\n",
       "      <td id=\"T_91180_row12_col3\" class=\"data row12 col3\" >0.6491</td>\n",
       "      <td id=\"T_91180_row12_col4\" class=\"data row12 col4\" >0.6837</td>\n",
       "      <td id=\"T_91180_row12_col5\" class=\"data row12 col5\" >0.6632</td>\n",
       "      <td id=\"T_91180_row12_col6\" class=\"data row12 col6\" >0.3502</td>\n",
       "      <td id=\"T_91180_row12_col7\" class=\"data row12 col7\" >0.3534</td>\n",
       "      <td id=\"T_91180_row12_col8\" class=\"data row12 col8\" >0.0520</td>\n",
       "    </tr>\n",
       "    <tr>\n",
       "      <th id=\"T_91180_level0_row13\" class=\"row_heading level0 row13\" >nb</th>\n",
       "      <td id=\"T_91180_row13_col0\" class=\"data row13 col0\" >Naive Bayes</td>\n",
       "      <td id=\"T_91180_row13_col1\" class=\"data row13 col1\" >0.6551</td>\n",
       "      <td id=\"T_91180_row13_col2\" class=\"data row13 col2\" >0.7257</td>\n",
       "      <td id=\"T_91180_row13_col3\" class=\"data row13 col3\" >0.7747</td>\n",
       "      <td id=\"T_91180_row13_col4\" class=\"data row13 col4\" >0.6266</td>\n",
       "      <td id=\"T_91180_row13_col5\" class=\"data row13 col5\" >0.6912</td>\n",
       "      <td id=\"T_91180_row13_col6\" class=\"data row13 col6\" >0.3105</td>\n",
       "      <td id=\"T_91180_row13_col7\" class=\"data row13 col7\" >0.3218</td>\n",
       "      <td id=\"T_91180_row13_col8\" class=\"data row13 col8\" >0.0420</td>\n",
       "    </tr>\n",
       "    <tr>\n",
       "      <th id=\"T_91180_level0_row14\" class=\"row_heading level0 row14\" >dummy</th>\n",
       "      <td id=\"T_91180_row14_col0\" class=\"data row14 col0\" >Dummy Classifier</td>\n",
       "      <td id=\"T_91180_row14_col1\" class=\"data row14 col1\" >0.4984</td>\n",
       "      <td id=\"T_91180_row14_col2\" class=\"data row14 col2\" >0.5000</td>\n",
       "      <td id=\"T_91180_row14_col3\" class=\"data row14 col3\" >0.2000</td>\n",
       "      <td id=\"T_91180_row14_col4\" class=\"data row14 col4\" >0.0992</td>\n",
       "      <td id=\"T_91180_row14_col5\" class=\"data row14 col5\" >0.1326</td>\n",
       "      <td id=\"T_91180_row14_col6\" class=\"data row14 col6\" >0.0000</td>\n",
       "      <td id=\"T_91180_row14_col7\" class=\"data row14 col7\" >0.0000</td>\n",
       "      <td id=\"T_91180_row14_col8\" class=\"data row14 col8\" >0.0440</td>\n",
       "    </tr>\n",
       "  </tbody>\n",
       "</table>\n"
      ],
      "text/plain": [
       "<pandas.io.formats.style.Styler at 0x1fdfc113eb0>"
      ]
     },
     "metadata": {},
     "output_type": "display_data"
    },
    {
     "data": {
      "text/html": [],
      "text/plain": [
       "<IPython.core.display.HTML object>"
      ]
     },
     "metadata": {},
     "output_type": "display_data"
    }
   ],
   "source": [
    "best_model = compare_models(fold=10, sort='Accuracy')"
   ]
  },
  {
   "cell_type": "markdown",
   "id": "d978c6e7-4c69-4a84-98d0-23b8514116dc",
   "metadata": {},
   "source": [
    "### **Random Forest model**"
   ]
  },
  {
   "cell_type": "markdown",
   "id": "735dce26-21f0-4e9c-a474-6e6f601b110a",
   "metadata": {
    "tags": []
   },
   "source": [
    "**model creation**"
   ]
  },
  {
   "cell_type": "code",
   "execution_count": 18,
   "id": "dc573cd0-515d-4cab-b9cd-886b1c908226",
   "metadata": {
    "tags": []
   },
   "outputs": [
    {
     "data": {
      "text/html": [],
      "text/plain": [
       "<IPython.core.display.HTML object>"
      ]
     },
     "metadata": {},
     "output_type": "display_data"
    },
    {
     "data": {
      "text/html": [
       "<style type=\"text/css\">\n",
       "#T_4d915_row10_col0, #T_4d915_row10_col1, #T_4d915_row10_col2, #T_4d915_row10_col3, #T_4d915_row10_col4, #T_4d915_row10_col5, #T_4d915_row10_col6 {\n",
       "  background: yellow;\n",
       "}\n",
       "</style>\n",
       "<table id=\"T_4d915\">\n",
       "  <thead>\n",
       "    <tr>\n",
       "      <th class=\"blank level0\" >&nbsp;</th>\n",
       "      <th id=\"T_4d915_level0_col0\" class=\"col_heading level0 col0\" >Accuracy</th>\n",
       "      <th id=\"T_4d915_level0_col1\" class=\"col_heading level0 col1\" >AUC</th>\n",
       "      <th id=\"T_4d915_level0_col2\" class=\"col_heading level0 col2\" >Recall</th>\n",
       "      <th id=\"T_4d915_level0_col3\" class=\"col_heading level0 col3\" >Prec.</th>\n",
       "      <th id=\"T_4d915_level0_col4\" class=\"col_heading level0 col4\" >F1</th>\n",
       "      <th id=\"T_4d915_level0_col5\" class=\"col_heading level0 col5\" >Kappa</th>\n",
       "      <th id=\"T_4d915_level0_col6\" class=\"col_heading level0 col6\" >MCC</th>\n",
       "    </tr>\n",
       "    <tr>\n",
       "      <th class=\"index_name level0\" >Fold</th>\n",
       "      <th class=\"blank col0\" >&nbsp;</th>\n",
       "      <th class=\"blank col1\" >&nbsp;</th>\n",
       "      <th class=\"blank col2\" >&nbsp;</th>\n",
       "      <th class=\"blank col3\" >&nbsp;</th>\n",
       "      <th class=\"blank col4\" >&nbsp;</th>\n",
       "      <th class=\"blank col5\" >&nbsp;</th>\n",
       "      <th class=\"blank col6\" >&nbsp;</th>\n",
       "    </tr>\n",
       "  </thead>\n",
       "  <tbody>\n",
       "    <tr>\n",
       "      <th id=\"T_4d915_level0_row0\" class=\"row_heading level0 row0\" >0</th>\n",
       "      <td id=\"T_4d915_row0_col0\" class=\"data row0 col0\" >0.9200</td>\n",
       "      <td id=\"T_4d915_row0_col1\" class=\"data row0 col1\" >0.9859</td>\n",
       "      <td id=\"T_4d915_row0_col2\" class=\"data row0 col2\" >0.8889</td>\n",
       "      <td id=\"T_4d915_row0_col3\" class=\"data row0 col3\" >0.9492</td>\n",
       "      <td id=\"T_4d915_row0_col4\" class=\"data row0 col4\" >0.9180</td>\n",
       "      <td id=\"T_4d915_row0_col5\" class=\"data row0 col5\" >0.8401</td>\n",
       "      <td id=\"T_4d915_row0_col6\" class=\"data row0 col6\" >0.8418</td>\n",
       "    </tr>\n",
       "    <tr>\n",
       "      <th id=\"T_4d915_level0_row1\" class=\"row_heading level0 row1\" >1</th>\n",
       "      <td id=\"T_4d915_row1_col0\" class=\"data row1 col0\" >0.8560</td>\n",
       "      <td id=\"T_4d915_row1_col1\" class=\"data row1 col1\" >0.9366</td>\n",
       "      <td id=\"T_4d915_row1_col2\" class=\"data row1 col2\" >0.8413</td>\n",
       "      <td id=\"T_4d915_row1_col3\" class=\"data row1 col3\" >0.8689</td>\n",
       "      <td id=\"T_4d915_row1_col4\" class=\"data row1 col4\" >0.8548</td>\n",
       "      <td id=\"T_4d915_row1_col5\" class=\"data row1 col5\" >0.7121</td>\n",
       "      <td id=\"T_4d915_row1_col6\" class=\"data row1 col6\" >0.7124</td>\n",
       "    </tr>\n",
       "    <tr>\n",
       "      <th id=\"T_4d915_level0_row2\" class=\"row_heading level0 row2\" >2</th>\n",
       "      <td id=\"T_4d915_row2_col0\" class=\"data row2 col0\" >0.8080</td>\n",
       "      <td id=\"T_4d915_row2_col1\" class=\"data row2 col1\" >0.8826</td>\n",
       "      <td id=\"T_4d915_row2_col2\" class=\"data row2 col2\" >0.8065</td>\n",
       "      <td id=\"T_4d915_row2_col3\" class=\"data row2 col3\" >0.8065</td>\n",
       "      <td id=\"T_4d915_row2_col4\" class=\"data row2 col4\" >0.8065</td>\n",
       "      <td id=\"T_4d915_row2_col5\" class=\"data row2 col5\" >0.6160</td>\n",
       "      <td id=\"T_4d915_row2_col6\" class=\"data row2 col6\" >0.6160</td>\n",
       "    </tr>\n",
       "    <tr>\n",
       "      <th id=\"T_4d915_level0_row3\" class=\"row_heading level0 row3\" >3</th>\n",
       "      <td id=\"T_4d915_row3_col0\" class=\"data row3 col0\" >0.9200</td>\n",
       "      <td id=\"T_4d915_row3_col1\" class=\"data row3 col1\" >0.9461</td>\n",
       "      <td id=\"T_4d915_row3_col2\" class=\"data row3 col2\" >0.8871</td>\n",
       "      <td id=\"T_4d915_row3_col3\" class=\"data row3 col3\" >0.9483</td>\n",
       "      <td id=\"T_4d915_row3_col4\" class=\"data row3 col4\" >0.9167</td>\n",
       "      <td id=\"T_4d915_row3_col5\" class=\"data row3 col5\" >0.8399</td>\n",
       "      <td id=\"T_4d915_row3_col6\" class=\"data row3 col6\" >0.8416</td>\n",
       "    </tr>\n",
       "    <tr>\n",
       "      <th id=\"T_4d915_level0_row4\" class=\"row_heading level0 row4\" >4</th>\n",
       "      <td id=\"T_4d915_row4_col0\" class=\"data row4 col0\" >0.8710</td>\n",
       "      <td id=\"T_4d915_row4_col1\" class=\"data row4 col1\" >0.9298</td>\n",
       "      <td id=\"T_4d915_row4_col2\" class=\"data row4 col2\" >0.8387</td>\n",
       "      <td id=\"T_4d915_row4_col3\" class=\"data row4 col3\" >0.8966</td>\n",
       "      <td id=\"T_4d915_row4_col4\" class=\"data row4 col4\" >0.8667</td>\n",
       "      <td id=\"T_4d915_row4_col5\" class=\"data row4 col5\" >0.7419</td>\n",
       "      <td id=\"T_4d915_row4_col6\" class=\"data row4 col6\" >0.7435</td>\n",
       "    </tr>\n",
       "    <tr>\n",
       "      <th id=\"T_4d915_level0_row5\" class=\"row_heading level0 row5\" >5</th>\n",
       "      <td id=\"T_4d915_row5_col0\" class=\"data row5 col0\" >0.8468</td>\n",
       "      <td id=\"T_4d915_row5_col1\" class=\"data row5 col1\" >0.9364</td>\n",
       "      <td id=\"T_4d915_row5_col2\" class=\"data row5 col2\" >0.8387</td>\n",
       "      <td id=\"T_4d915_row5_col3\" class=\"data row5 col3\" >0.8525</td>\n",
       "      <td id=\"T_4d915_row5_col4\" class=\"data row5 col4\" >0.8455</td>\n",
       "      <td id=\"T_4d915_row5_col5\" class=\"data row5 col5\" >0.6935</td>\n",
       "      <td id=\"T_4d915_row5_col6\" class=\"data row5 col6\" >0.6936</td>\n",
       "    </tr>\n",
       "    <tr>\n",
       "      <th id=\"T_4d915_level0_row6\" class=\"row_heading level0 row6\" >6</th>\n",
       "      <td id=\"T_4d915_row6_col0\" class=\"data row6 col0\" >0.8790</td>\n",
       "      <td id=\"T_4d915_row6_col1\" class=\"data row6 col1\" >0.9403</td>\n",
       "      <td id=\"T_4d915_row6_col2\" class=\"data row6 col2\" >0.9194</td>\n",
       "      <td id=\"T_4d915_row6_col3\" class=\"data row6 col3\" >0.8507</td>\n",
       "      <td id=\"T_4d915_row6_col4\" class=\"data row6 col4\" >0.8837</td>\n",
       "      <td id=\"T_4d915_row6_col5\" class=\"data row6 col5\" >0.7581</td>\n",
       "      <td id=\"T_4d915_row6_col6\" class=\"data row6 col6\" >0.7605</td>\n",
       "    </tr>\n",
       "    <tr>\n",
       "      <th id=\"T_4d915_level0_row7\" class=\"row_heading level0 row7\" >7</th>\n",
       "      <td id=\"T_4d915_row7_col0\" class=\"data row7 col0\" >0.8226</td>\n",
       "      <td id=\"T_4d915_row7_col1\" class=\"data row7 col1\" >0.9295</td>\n",
       "      <td id=\"T_4d915_row7_col2\" class=\"data row7 col2\" >0.8387</td>\n",
       "      <td id=\"T_4d915_row7_col3\" class=\"data row7 col3\" >0.8125</td>\n",
       "      <td id=\"T_4d915_row7_col4\" class=\"data row7 col4\" >0.8254</td>\n",
       "      <td id=\"T_4d915_row7_col5\" class=\"data row7 col5\" >0.6452</td>\n",
       "      <td id=\"T_4d915_row7_col6\" class=\"data row7 col6\" >0.6455</td>\n",
       "    </tr>\n",
       "    <tr>\n",
       "      <th id=\"T_4d915_level0_row8\" class=\"row_heading level0 row8\" >8</th>\n",
       "      <td id=\"T_4d915_row8_col0\" class=\"data row8 col0\" >0.8548</td>\n",
       "      <td id=\"T_4d915_row8_col1\" class=\"data row8 col1\" >0.9249</td>\n",
       "      <td id=\"T_4d915_row8_col2\" class=\"data row8 col2\" >0.8871</td>\n",
       "      <td id=\"T_4d915_row8_col3\" class=\"data row8 col3\" >0.8333</td>\n",
       "      <td id=\"T_4d915_row8_col4\" class=\"data row8 col4\" >0.8594</td>\n",
       "      <td id=\"T_4d915_row8_col5\" class=\"data row8 col5\" >0.7097</td>\n",
       "      <td id=\"T_4d915_row8_col6\" class=\"data row8 col6\" >0.7112</td>\n",
       "    </tr>\n",
       "    <tr>\n",
       "      <th id=\"T_4d915_level0_row9\" class=\"row_heading level0 row9\" >9</th>\n",
       "      <td id=\"T_4d915_row9_col0\" class=\"data row9 col0\" >0.8629</td>\n",
       "      <td id=\"T_4d915_row9_col1\" class=\"data row9 col1\" >0.9370</td>\n",
       "      <td id=\"T_4d915_row9_col2\" class=\"data row9 col2\" >0.8871</td>\n",
       "      <td id=\"T_4d915_row9_col3\" class=\"data row9 col3\" >0.8462</td>\n",
       "      <td id=\"T_4d915_row9_col4\" class=\"data row9 col4\" >0.8661</td>\n",
       "      <td id=\"T_4d915_row9_col5\" class=\"data row9 col5\" >0.7258</td>\n",
       "      <td id=\"T_4d915_row9_col6\" class=\"data row9 col6\" >0.7267</td>\n",
       "    </tr>\n",
       "    <tr>\n",
       "      <th id=\"T_4d915_level0_row10\" class=\"row_heading level0 row10\" >Mean</th>\n",
       "      <td id=\"T_4d915_row10_col0\" class=\"data row10 col0\" >0.8641</td>\n",
       "      <td id=\"T_4d915_row10_col1\" class=\"data row10 col1\" >0.9349</td>\n",
       "      <td id=\"T_4d915_row10_col2\" class=\"data row10 col2\" >0.8633</td>\n",
       "      <td id=\"T_4d915_row10_col3\" class=\"data row10 col3\" >0.8664</td>\n",
       "      <td id=\"T_4d915_row10_col4\" class=\"data row10 col4\" >0.8643</td>\n",
       "      <td id=\"T_4d915_row10_col5\" class=\"data row10 col5\" >0.7282</td>\n",
       "      <td id=\"T_4d915_row10_col6\" class=\"data row10 col6\" >0.7293</td>\n",
       "    </tr>\n",
       "    <tr>\n",
       "      <th id=\"T_4d915_level0_row11\" class=\"row_heading level0 row11\" >Std</th>\n",
       "      <td id=\"T_4d915_row11_col0\" class=\"data row11 col0\" >0.0344</td>\n",
       "      <td id=\"T_4d915_row11_col1\" class=\"data row11 col1\" >0.0238</td>\n",
       "      <td id=\"T_4d915_row11_col2\" class=\"data row11 col2\" >0.0332</td>\n",
       "      <td id=\"T_4d915_row11_col3\" class=\"data row11 col3\" >0.0479</td>\n",
       "      <td id=\"T_4d915_row11_col4\" class=\"data row11 col4\" >0.0337</td>\n",
       "      <td id=\"T_4d915_row11_col5\" class=\"data row11 col5\" >0.0688</td>\n",
       "      <td id=\"T_4d915_row11_col6\" class=\"data row11 col6\" >0.0694</td>\n",
       "    </tr>\n",
       "  </tbody>\n",
       "</table>\n"
      ],
      "text/plain": [
       "<pandas.io.formats.style.Styler at 0x1fdfbe73220>"
      ]
     },
     "metadata": {},
     "output_type": "display_data"
    },
    {
     "data": {
      "text/html": [],
      "text/plain": [
       "<IPython.core.display.HTML object>"
      ]
     },
     "metadata": {},
     "output_type": "display_data"
    }
   ],
   "source": [
    "rf = create_model('rf', fold=10)"
   ]
  },
  {
   "cell_type": "markdown",
   "id": "481f2710-c820-4cbb-8b7a-7cfaf8812eb2",
   "metadata": {
    "tags": []
   },
   "source": [
    "**Tune the hyperparameters**"
   ]
  },
  {
   "cell_type": "code",
   "execution_count": 19,
   "id": "795c59e6-b31a-4279-b9b4-48cdecea9897",
   "metadata": {
    "tags": []
   },
   "outputs": [
    {
     "data": {
      "text/html": [],
      "text/plain": [
       "<IPython.core.display.HTML object>"
      ]
     },
     "metadata": {},
     "output_type": "display_data"
    },
    {
     "data": {
      "text/html": [
       "<style type=\"text/css\">\n",
       "#T_65b97_row10_col0, #T_65b97_row10_col1, #T_65b97_row10_col2, #T_65b97_row10_col3, #T_65b97_row10_col4, #T_65b97_row10_col5, #T_65b97_row10_col6 {\n",
       "  background: yellow;\n",
       "}\n",
       "</style>\n",
       "<table id=\"T_65b97\">\n",
       "  <thead>\n",
       "    <tr>\n",
       "      <th class=\"blank level0\" >&nbsp;</th>\n",
       "      <th id=\"T_65b97_level0_col0\" class=\"col_heading level0 col0\" >Accuracy</th>\n",
       "      <th id=\"T_65b97_level0_col1\" class=\"col_heading level0 col1\" >AUC</th>\n",
       "      <th id=\"T_65b97_level0_col2\" class=\"col_heading level0 col2\" >Recall</th>\n",
       "      <th id=\"T_65b97_level0_col3\" class=\"col_heading level0 col3\" >Prec.</th>\n",
       "      <th id=\"T_65b97_level0_col4\" class=\"col_heading level0 col4\" >F1</th>\n",
       "      <th id=\"T_65b97_level0_col5\" class=\"col_heading level0 col5\" >Kappa</th>\n",
       "      <th id=\"T_65b97_level0_col6\" class=\"col_heading level0 col6\" >MCC</th>\n",
       "    </tr>\n",
       "    <tr>\n",
       "      <th class=\"index_name level0\" >Fold</th>\n",
       "      <th class=\"blank col0\" >&nbsp;</th>\n",
       "      <th class=\"blank col1\" >&nbsp;</th>\n",
       "      <th class=\"blank col2\" >&nbsp;</th>\n",
       "      <th class=\"blank col3\" >&nbsp;</th>\n",
       "      <th class=\"blank col4\" >&nbsp;</th>\n",
       "      <th class=\"blank col5\" >&nbsp;</th>\n",
       "      <th class=\"blank col6\" >&nbsp;</th>\n",
       "    </tr>\n",
       "  </thead>\n",
       "  <tbody>\n",
       "    <tr>\n",
       "      <th id=\"T_65b97_level0_row0\" class=\"row_heading level0 row0\" >0</th>\n",
       "      <td id=\"T_65b97_row0_col0\" class=\"data row0 col0\" >0.7760</td>\n",
       "      <td id=\"T_65b97_row0_col1\" class=\"data row0 col1\" >0.8612</td>\n",
       "      <td id=\"T_65b97_row0_col2\" class=\"data row0 col2\" >0.8095</td>\n",
       "      <td id=\"T_65b97_row0_col3\" class=\"data row0 col3\" >0.7612</td>\n",
       "      <td id=\"T_65b97_row0_col4\" class=\"data row0 col4\" >0.7846</td>\n",
       "      <td id=\"T_65b97_row0_col5\" class=\"data row0 col5\" >0.5517</td>\n",
       "      <td id=\"T_65b97_row0_col6\" class=\"data row0 col6\" >0.5529</td>\n",
       "    </tr>\n",
       "    <tr>\n",
       "      <th id=\"T_65b97_level0_row1\" class=\"row_heading level0 row1\" >1</th>\n",
       "      <td id=\"T_65b97_row1_col0\" class=\"data row1 col0\" >0.6880</td>\n",
       "      <td id=\"T_65b97_row1_col1\" class=\"data row1 col1\" >0.7933</td>\n",
       "      <td id=\"T_65b97_row1_col2\" class=\"data row1 col2\" >0.6984</td>\n",
       "      <td id=\"T_65b97_row1_col3\" class=\"data row1 col3\" >0.6875</td>\n",
       "      <td id=\"T_65b97_row1_col4\" class=\"data row1 col4\" >0.6929</td>\n",
       "      <td id=\"T_65b97_row1_col5\" class=\"data row1 col5\" >0.3759</td>\n",
       "      <td id=\"T_65b97_row1_col6\" class=\"data row1 col6\" >0.3759</td>\n",
       "    </tr>\n",
       "    <tr>\n",
       "      <th id=\"T_65b97_level0_row2\" class=\"row_heading level0 row2\" >2</th>\n",
       "      <td id=\"T_65b97_row2_col0\" class=\"data row2 col0\" >0.6400</td>\n",
       "      <td id=\"T_65b97_row2_col1\" class=\"data row2 col1\" >0.6889</td>\n",
       "      <td id=\"T_65b97_row2_col2\" class=\"data row2 col2\" >0.6613</td>\n",
       "      <td id=\"T_65b97_row2_col3\" class=\"data row2 col3\" >0.6308</td>\n",
       "      <td id=\"T_65b97_row2_col4\" class=\"data row2 col4\" >0.6457</td>\n",
       "      <td id=\"T_65b97_row2_col5\" class=\"data row2 col5\" >0.2802</td>\n",
       "      <td id=\"T_65b97_row2_col6\" class=\"data row2 col6\" >0.2806</td>\n",
       "    </tr>\n",
       "    <tr>\n",
       "      <th id=\"T_65b97_level0_row3\" class=\"row_heading level0 row3\" >3</th>\n",
       "      <td id=\"T_65b97_row3_col0\" class=\"data row3 col0\" >0.6720</td>\n",
       "      <td id=\"T_65b97_row3_col1\" class=\"data row3 col1\" >0.7552</td>\n",
       "      <td id=\"T_65b97_row3_col2\" class=\"data row3 col2\" >0.6774</td>\n",
       "      <td id=\"T_65b97_row3_col3\" class=\"data row3 col3\" >0.6667</td>\n",
       "      <td id=\"T_65b97_row3_col4\" class=\"data row3 col4\" >0.6720</td>\n",
       "      <td id=\"T_65b97_row3_col5\" class=\"data row3 col5\" >0.3440</td>\n",
       "      <td id=\"T_65b97_row3_col6\" class=\"data row3 col6\" >0.3441</td>\n",
       "    </tr>\n",
       "    <tr>\n",
       "      <th id=\"T_65b97_level0_row4\" class=\"row_heading level0 row4\" >4</th>\n",
       "      <td id=\"T_65b97_row4_col0\" class=\"data row4 col0\" >0.6935</td>\n",
       "      <td id=\"T_65b97_row4_col1\" class=\"data row4 col1\" >0.7709</td>\n",
       "      <td id=\"T_65b97_row4_col2\" class=\"data row4 col2\" >0.6774</td>\n",
       "      <td id=\"T_65b97_row4_col3\" class=\"data row4 col3\" >0.7000</td>\n",
       "      <td id=\"T_65b97_row4_col4\" class=\"data row4 col4\" >0.6885</td>\n",
       "      <td id=\"T_65b97_row4_col5\" class=\"data row4 col5\" >0.3871</td>\n",
       "      <td id=\"T_65b97_row4_col6\" class=\"data row4 col6\" >0.3873</td>\n",
       "    </tr>\n",
       "    <tr>\n",
       "      <th id=\"T_65b97_level0_row5\" class=\"row_heading level0 row5\" >5</th>\n",
       "      <td id=\"T_65b97_row5_col0\" class=\"data row5 col0\" >0.7339</td>\n",
       "      <td id=\"T_65b97_row5_col1\" class=\"data row5 col1\" >0.8348</td>\n",
       "      <td id=\"T_65b97_row5_col2\" class=\"data row5 col2\" >0.8065</td>\n",
       "      <td id=\"T_65b97_row5_col3\" class=\"data row5 col3\" >0.7042</td>\n",
       "      <td id=\"T_65b97_row5_col4\" class=\"data row5 col4\" >0.7519</td>\n",
       "      <td id=\"T_65b97_row5_col5\" class=\"data row5 col5\" >0.4677</td>\n",
       "      <td id=\"T_65b97_row5_col6\" class=\"data row5 col6\" >0.4727</td>\n",
       "    </tr>\n",
       "    <tr>\n",
       "      <th id=\"T_65b97_level0_row6\" class=\"row_heading level0 row6\" >6</th>\n",
       "      <td id=\"T_65b97_row6_col0\" class=\"data row6 col0\" >0.6613</td>\n",
       "      <td id=\"T_65b97_row6_col1\" class=\"data row6 col1\" >0.7653</td>\n",
       "      <td id=\"T_65b97_row6_col2\" class=\"data row6 col2\" >0.6935</td>\n",
       "      <td id=\"T_65b97_row6_col3\" class=\"data row6 col3\" >0.6515</td>\n",
       "      <td id=\"T_65b97_row6_col4\" class=\"data row6 col4\" >0.6719</td>\n",
       "      <td id=\"T_65b97_row6_col5\" class=\"data row6 col5\" >0.3226</td>\n",
       "      <td id=\"T_65b97_row6_col6\" class=\"data row6 col6\" >0.3233</td>\n",
       "    </tr>\n",
       "    <tr>\n",
       "      <th id=\"T_65b97_level0_row7\" class=\"row_heading level0 row7\" >7</th>\n",
       "      <td id=\"T_65b97_row7_col0\" class=\"data row7 col0\" >0.6774</td>\n",
       "      <td id=\"T_65b97_row7_col1\" class=\"data row7 col1\" >0.7713</td>\n",
       "      <td id=\"T_65b97_row7_col2\" class=\"data row7 col2\" >0.7258</td>\n",
       "      <td id=\"T_65b97_row7_col3\" class=\"data row7 col3\" >0.6618</td>\n",
       "      <td id=\"T_65b97_row7_col4\" class=\"data row7 col4\" >0.6923</td>\n",
       "      <td id=\"T_65b97_row7_col5\" class=\"data row7 col5\" >0.3548</td>\n",
       "      <td id=\"T_65b97_row7_col6\" class=\"data row7 col6\" >0.3565</td>\n",
       "    </tr>\n",
       "    <tr>\n",
       "      <th id=\"T_65b97_level0_row8\" class=\"row_heading level0 row8\" >8</th>\n",
       "      <td id=\"T_65b97_row8_col0\" class=\"data row8 col0\" >0.5968</td>\n",
       "      <td id=\"T_65b97_row8_col1\" class=\"data row8 col1\" >0.6746</td>\n",
       "      <td id=\"T_65b97_row8_col2\" class=\"data row8 col2\" >0.6452</td>\n",
       "      <td id=\"T_65b97_row8_col3\" class=\"data row8 col3\" >0.5882</td>\n",
       "      <td id=\"T_65b97_row8_col4\" class=\"data row8 col4\" >0.6154</td>\n",
       "      <td id=\"T_65b97_row8_col5\" class=\"data row8 col5\" >0.1935</td>\n",
       "      <td id=\"T_65b97_row8_col6\" class=\"data row8 col6\" >0.1945</td>\n",
       "    </tr>\n",
       "    <tr>\n",
       "      <th id=\"T_65b97_level0_row9\" class=\"row_heading level0 row9\" >9</th>\n",
       "      <td id=\"T_65b97_row9_col0\" class=\"data row9 col0\" >0.7097</td>\n",
       "      <td id=\"T_65b97_row9_col1\" class=\"data row9 col1\" >0.7929</td>\n",
       "      <td id=\"T_65b97_row9_col2\" class=\"data row9 col2\" >0.7903</td>\n",
       "      <td id=\"T_65b97_row9_col3\" class=\"data row9 col3\" >0.6806</td>\n",
       "      <td id=\"T_65b97_row9_col4\" class=\"data row9 col4\" >0.7313</td>\n",
       "      <td id=\"T_65b97_row9_col5\" class=\"data row9 col5\" >0.4194</td>\n",
       "      <td id=\"T_65b97_row9_col6\" class=\"data row9 col6\" >0.4249</td>\n",
       "    </tr>\n",
       "    <tr>\n",
       "      <th id=\"T_65b97_level0_row10\" class=\"row_heading level0 row10\" >Mean</th>\n",
       "      <td id=\"T_65b97_row10_col0\" class=\"data row10 col0\" >0.6849</td>\n",
       "      <td id=\"T_65b97_row10_col1\" class=\"data row10 col1\" >0.7709</td>\n",
       "      <td id=\"T_65b97_row10_col2\" class=\"data row10 col2\" >0.7185</td>\n",
       "      <td id=\"T_65b97_row10_col3\" class=\"data row10 col3\" >0.6732</td>\n",
       "      <td id=\"T_65b97_row10_col4\" class=\"data row10 col4\" >0.6947</td>\n",
       "      <td id=\"T_65b97_row10_col5\" class=\"data row10 col5\" >0.3697</td>\n",
       "      <td id=\"T_65b97_row10_col6\" class=\"data row10 col6\" >0.3713</td>\n",
       "    </tr>\n",
       "    <tr>\n",
       "      <th id=\"T_65b97_level0_row11\" class=\"row_heading level0 row11\" >Std</th>\n",
       "      <td id=\"T_65b97_row11_col0\" class=\"data row11 col0\" >0.0469</td>\n",
       "      <td id=\"T_65b97_row11_col1\" class=\"data row11 col1\" >0.0543</td>\n",
       "      <td id=\"T_65b97_row11_col2\" class=\"data row11 col2\" >0.0586</td>\n",
       "      <td id=\"T_65b97_row11_col3\" class=\"data row11 col3\" >0.0440</td>\n",
       "      <td id=\"T_65b97_row11_col4\" class=\"data row11 col4\" >0.0474</td>\n",
       "      <td id=\"T_65b97_row11_col5\" class=\"data row11 col5\" >0.0936</td>\n",
       "      <td id=\"T_65b97_row11_col6\" class=\"data row11 col6\" >0.0944</td>\n",
       "    </tr>\n",
       "  </tbody>\n",
       "</table>\n"
      ],
      "text/plain": [
       "<pandas.io.formats.style.Styler at 0x1fdf5cb4ac0>"
      ]
     },
     "metadata": {},
     "output_type": "display_data"
    },
    {
     "data": {
      "text/html": [],
      "text/plain": [
       "<IPython.core.display.HTML object>"
      ]
     },
     "metadata": {},
     "output_type": "display_data"
    },
    {
     "name": "stdout",
     "output_type": "stream",
     "text": [
      "Fitting 10 folds for each of 5 candidates, totalling 50 fits\n",
      "Original model was better than the tuned model, hence it will be returned. NOTE: The display metrics are for the tuned model (not the original one).\n"
     ]
    }
   ],
   "source": [
    "rf = tune_model(rf, fold=10, n_iter=5, optimize='F1', choose_better=True)"
   ]
  },
  {
   "cell_type": "markdown",
   "id": "6fb68060-768b-466d-a297-71cb20a5f823",
   "metadata": {},
   "source": [
    "**Display model**"
   ]
  },
  {
   "cell_type": "code",
   "execution_count": 20,
   "id": "5b67de02-1e48-47e0-80e3-ab98e3e4fa88",
   "metadata": {
    "tags": []
   },
   "outputs": [
    {
     "data": {
      "text/html": [
       "<style>#sk-container-id-1 {color: black;background-color: white;}#sk-container-id-1 pre{padding: 0;}#sk-container-id-1 div.sk-toggleable {background-color: white;}#sk-container-id-1 label.sk-toggleable__label {cursor: pointer;display: block;width: 100%;margin-bottom: 0;padding: 0.3em;box-sizing: border-box;text-align: center;}#sk-container-id-1 label.sk-toggleable__label-arrow:before {content: \"▸\";float: left;margin-right: 0.25em;color: #696969;}#sk-container-id-1 label.sk-toggleable__label-arrow:hover:before {color: black;}#sk-container-id-1 div.sk-estimator:hover label.sk-toggleable__label-arrow:before {color: black;}#sk-container-id-1 div.sk-toggleable__content {max-height: 0;max-width: 0;overflow: hidden;text-align: left;background-color: #f0f8ff;}#sk-container-id-1 div.sk-toggleable__content pre {margin: 0.2em;color: black;border-radius: 0.25em;background-color: #f0f8ff;}#sk-container-id-1 input.sk-toggleable__control:checked~div.sk-toggleable__content {max-height: 200px;max-width: 100%;overflow: auto;}#sk-container-id-1 input.sk-toggleable__control:checked~label.sk-toggleable__label-arrow:before {content: \"▾\";}#sk-container-id-1 div.sk-estimator input.sk-toggleable__control:checked~label.sk-toggleable__label {background-color: #d4ebff;}#sk-container-id-1 div.sk-label input.sk-toggleable__control:checked~label.sk-toggleable__label {background-color: #d4ebff;}#sk-container-id-1 input.sk-hidden--visually {border: 0;clip: rect(1px 1px 1px 1px);clip: rect(1px, 1px, 1px, 1px);height: 1px;margin: -1px;overflow: hidden;padding: 0;position: absolute;width: 1px;}#sk-container-id-1 div.sk-estimator {font-family: monospace;background-color: #f0f8ff;border: 1px dotted black;border-radius: 0.25em;box-sizing: border-box;margin-bottom: 0.5em;}#sk-container-id-1 div.sk-estimator:hover {background-color: #d4ebff;}#sk-container-id-1 div.sk-parallel-item::after {content: \"\";width: 100%;border-bottom: 1px solid gray;flex-grow: 1;}#sk-container-id-1 div.sk-label:hover label.sk-toggleable__label {background-color: #d4ebff;}#sk-container-id-1 div.sk-serial::before {content: \"\";position: absolute;border-left: 1px solid gray;box-sizing: border-box;top: 0;bottom: 0;left: 50%;z-index: 0;}#sk-container-id-1 div.sk-serial {display: flex;flex-direction: column;align-items: center;background-color: white;padding-right: 0.2em;padding-left: 0.2em;position: relative;}#sk-container-id-1 div.sk-item {position: relative;z-index: 1;}#sk-container-id-1 div.sk-parallel {display: flex;align-items: stretch;justify-content: center;background-color: white;position: relative;}#sk-container-id-1 div.sk-item::before, #sk-container-id-1 div.sk-parallel-item::before {content: \"\";position: absolute;border-left: 1px solid gray;box-sizing: border-box;top: 0;bottom: 0;left: 50%;z-index: -1;}#sk-container-id-1 div.sk-parallel-item {display: flex;flex-direction: column;z-index: 1;position: relative;background-color: white;}#sk-container-id-1 div.sk-parallel-item:first-child::after {align-self: flex-end;width: 50%;}#sk-container-id-1 div.sk-parallel-item:last-child::after {align-self: flex-start;width: 50%;}#sk-container-id-1 div.sk-parallel-item:only-child::after {width: 0;}#sk-container-id-1 div.sk-dashed-wrapped {border: 1px dashed gray;margin: 0 0.4em 0.5em 0.4em;box-sizing: border-box;padding-bottom: 0.4em;background-color: white;}#sk-container-id-1 div.sk-label label {font-family: monospace;font-weight: bold;display: inline-block;line-height: 1.2em;}#sk-container-id-1 div.sk-label-container {text-align: center;}#sk-container-id-1 div.sk-container {/* jupyter's `normalize.less` sets `[hidden] { display: none; }` but bootstrap.min.css set `[hidden] { display: none !important; }` so we also need the `!important` here to be able to override the default hidden behavior on the sphinx rendered scikit-learn.org. See: https://github.com/scikit-learn/scikit-learn/issues/21755 */display: inline-block !important;position: relative;}#sk-container-id-1 div.sk-text-repr-fallback {display: none;}</style><div id=\"sk-container-id-1\" class=\"sk-top-container\"><div class=\"sk-text-repr-fallback\"><pre>RandomForestClassifier(bootstrap=True, ccp_alpha=0.0, class_weight=None,\n",
       "                       criterion=&#x27;gini&#x27;, max_depth=None, max_features=&#x27;sqrt&#x27;,\n",
       "                       max_leaf_nodes=None, max_samples=None,\n",
       "                       min_impurity_decrease=0.0, min_samples_leaf=1,\n",
       "                       min_samples_split=2, min_weight_fraction_leaf=0.0,\n",
       "                       n_estimators=100, n_jobs=-1, oob_score=False,\n",
       "                       random_state=42, verbose=0, warm_start=False)</pre><b>In a Jupyter environment, please rerun this cell to show the HTML representation or trust the notebook. <br />On GitHub, the HTML representation is unable to render, please try loading this page with nbviewer.org.</b></div><div class=\"sk-container\" hidden><div class=\"sk-item\"><div class=\"sk-estimator sk-toggleable\"><input class=\"sk-toggleable__control sk-hidden--visually\" id=\"sk-estimator-id-1\" type=\"checkbox\" checked><label for=\"sk-estimator-id-1\" class=\"sk-toggleable__label sk-toggleable__label-arrow\">RandomForestClassifier</label><div class=\"sk-toggleable__content\"><pre>RandomForestClassifier(bootstrap=True, ccp_alpha=0.0, class_weight=None,\n",
       "                       criterion=&#x27;gini&#x27;, max_depth=None, max_features=&#x27;sqrt&#x27;,\n",
       "                       max_leaf_nodes=None, max_samples=None,\n",
       "                       min_impurity_decrease=0.0, min_samples_leaf=1,\n",
       "                       min_samples_split=2, min_weight_fraction_leaf=0.0,\n",
       "                       n_estimators=100, n_jobs=-1, oob_score=False,\n",
       "                       random_state=42, verbose=0, warm_start=False)</pre></div></div></div></div></div>"
      ],
      "text/plain": [
       "RandomForestClassifier(bootstrap=True, ccp_alpha=0.0, class_weight=None,\n",
       "                       criterion='gini', max_depth=None, max_features='sqrt',\n",
       "                       max_leaf_nodes=None, max_samples=None,\n",
       "                       min_impurity_decrease=0.0, min_samples_leaf=1,\n",
       "                       min_samples_split=2, min_weight_fraction_leaf=0.0,\n",
       "                       n_estimators=100, n_jobs=-1, oob_score=False,\n",
       "                       random_state=42, verbose=0, warm_start=False)"
      ]
     },
     "execution_count": 20,
     "metadata": {},
     "output_type": "execute_result"
    }
   ],
   "source": [
    "rf"
   ]
  },
  {
   "cell_type": "markdown",
   "id": "c01fe384-61f0-4ec4-af28-5230ac7ef6fa",
   "metadata": {},
   "source": [
    "### **Extra Tree Classifier**"
   ]
  },
  {
   "cell_type": "markdown",
   "id": "de5c9e14-7e63-4878-a59b-8dba40186888",
   "metadata": {
    "tags": []
   },
   "source": [
    "**model creation**"
   ]
  },
  {
   "cell_type": "code",
   "execution_count": 21,
   "id": "435d2f3a-3b91-40c4-b80a-fc29417ff286",
   "metadata": {
    "tags": []
   },
   "outputs": [
    {
     "data": {
      "text/html": [],
      "text/plain": [
       "<IPython.core.display.HTML object>"
      ]
     },
     "metadata": {},
     "output_type": "display_data"
    },
    {
     "data": {
      "text/html": [
       "<style type=\"text/css\">\n",
       "#T_38feb_row10_col0, #T_38feb_row10_col1, #T_38feb_row10_col2, #T_38feb_row10_col3, #T_38feb_row10_col4, #T_38feb_row10_col5, #T_38feb_row10_col6 {\n",
       "  background: yellow;\n",
       "}\n",
       "</style>\n",
       "<table id=\"T_38feb\">\n",
       "  <thead>\n",
       "    <tr>\n",
       "      <th class=\"blank level0\" >&nbsp;</th>\n",
       "      <th id=\"T_38feb_level0_col0\" class=\"col_heading level0 col0\" >Accuracy</th>\n",
       "      <th id=\"T_38feb_level0_col1\" class=\"col_heading level0 col1\" >AUC</th>\n",
       "      <th id=\"T_38feb_level0_col2\" class=\"col_heading level0 col2\" >Recall</th>\n",
       "      <th id=\"T_38feb_level0_col3\" class=\"col_heading level0 col3\" >Prec.</th>\n",
       "      <th id=\"T_38feb_level0_col4\" class=\"col_heading level0 col4\" >F1</th>\n",
       "      <th id=\"T_38feb_level0_col5\" class=\"col_heading level0 col5\" >Kappa</th>\n",
       "      <th id=\"T_38feb_level0_col6\" class=\"col_heading level0 col6\" >MCC</th>\n",
       "    </tr>\n",
       "    <tr>\n",
       "      <th class=\"index_name level0\" >Fold</th>\n",
       "      <th class=\"blank col0\" >&nbsp;</th>\n",
       "      <th class=\"blank col1\" >&nbsp;</th>\n",
       "      <th class=\"blank col2\" >&nbsp;</th>\n",
       "      <th class=\"blank col3\" >&nbsp;</th>\n",
       "      <th class=\"blank col4\" >&nbsp;</th>\n",
       "      <th class=\"blank col5\" >&nbsp;</th>\n",
       "      <th class=\"blank col6\" >&nbsp;</th>\n",
       "    </tr>\n",
       "  </thead>\n",
       "  <tbody>\n",
       "    <tr>\n",
       "      <th id=\"T_38feb_level0_row0\" class=\"row_heading level0 row0\" >0</th>\n",
       "      <td id=\"T_38feb_row0_col0\" class=\"data row0 col0\" >0.9120</td>\n",
       "      <td id=\"T_38feb_row0_col1\" class=\"data row0 col1\" >0.9718</td>\n",
       "      <td id=\"T_38feb_row0_col2\" class=\"data row0 col2\" >0.8730</td>\n",
       "      <td id=\"T_38feb_row0_col3\" class=\"data row0 col3\" >0.9483</td>\n",
       "      <td id=\"T_38feb_row0_col4\" class=\"data row0 col4\" >0.9091</td>\n",
       "      <td id=\"T_38feb_row0_col5\" class=\"data row0 col5\" >0.8241</td>\n",
       "      <td id=\"T_38feb_row0_col6\" class=\"data row0 col6\" >0.8267</td>\n",
       "    </tr>\n",
       "    <tr>\n",
       "      <th id=\"T_38feb_level0_row1\" class=\"row_heading level0 row1\" >1</th>\n",
       "      <td id=\"T_38feb_row1_col0\" class=\"data row1 col0\" >0.8560</td>\n",
       "      <td id=\"T_38feb_row1_col1\" class=\"data row1 col1\" >0.9359</td>\n",
       "      <td id=\"T_38feb_row1_col2\" class=\"data row1 col2\" >0.8095</td>\n",
       "      <td id=\"T_38feb_row1_col3\" class=\"data row1 col3\" >0.8947</td>\n",
       "      <td id=\"T_38feb_row1_col4\" class=\"data row1 col4\" >0.8500</td>\n",
       "      <td id=\"T_38feb_row1_col5\" class=\"data row1 col5\" >0.7122</td>\n",
       "      <td id=\"T_38feb_row1_col6\" class=\"data row1 col6\" >0.7155</td>\n",
       "    </tr>\n",
       "    <tr>\n",
       "      <th id=\"T_38feb_level0_row2\" class=\"row_heading level0 row2\" >2</th>\n",
       "      <td id=\"T_38feb_row2_col0\" class=\"data row2 col0\" >0.8160</td>\n",
       "      <td id=\"T_38feb_row2_col1\" class=\"data row2 col1\" >0.8900</td>\n",
       "      <td id=\"T_38feb_row2_col2\" class=\"data row2 col2\" >0.7903</td>\n",
       "      <td id=\"T_38feb_row2_col3\" class=\"data row2 col3\" >0.8305</td>\n",
       "      <td id=\"T_38feb_row2_col4\" class=\"data row2 col4\" >0.8099</td>\n",
       "      <td id=\"T_38feb_row2_col5\" class=\"data row2 col5\" >0.6318</td>\n",
       "      <td id=\"T_38feb_row2_col6\" class=\"data row2 col6\" >0.6326</td>\n",
       "    </tr>\n",
       "    <tr>\n",
       "      <th id=\"T_38feb_level0_row3\" class=\"row_heading level0 row3\" >3</th>\n",
       "      <td id=\"T_38feb_row3_col0\" class=\"data row3 col0\" >0.9120</td>\n",
       "      <td id=\"T_38feb_row3_col1\" class=\"data row3 col1\" >0.9272</td>\n",
       "      <td id=\"T_38feb_row3_col2\" class=\"data row3 col2\" >0.8710</td>\n",
       "      <td id=\"T_38feb_row3_col3\" class=\"data row3 col3\" >0.9474</td>\n",
       "      <td id=\"T_38feb_row3_col4\" class=\"data row3 col4\" >0.9076</td>\n",
       "      <td id=\"T_38feb_row3_col5\" class=\"data row3 col5\" >0.8239</td>\n",
       "      <td id=\"T_38feb_row3_col6\" class=\"data row3 col6\" >0.8265</td>\n",
       "    </tr>\n",
       "    <tr>\n",
       "      <th id=\"T_38feb_level0_row4\" class=\"row_heading level0 row4\" >4</th>\n",
       "      <td id=\"T_38feb_row4_col0\" class=\"data row4 col0\" >0.8548</td>\n",
       "      <td id=\"T_38feb_row4_col1\" class=\"data row4 col1\" >0.9299</td>\n",
       "      <td id=\"T_38feb_row4_col2\" class=\"data row4 col2\" >0.8226</td>\n",
       "      <td id=\"T_38feb_row4_col3\" class=\"data row4 col3\" >0.8793</td>\n",
       "      <td id=\"T_38feb_row4_col4\" class=\"data row4 col4\" >0.8500</td>\n",
       "      <td id=\"T_38feb_row4_col5\" class=\"data row4 col5\" >0.7097</td>\n",
       "      <td id=\"T_38feb_row4_col6\" class=\"data row4 col6\" >0.7112</td>\n",
       "    </tr>\n",
       "    <tr>\n",
       "      <th id=\"T_38feb_level0_row5\" class=\"row_heading level0 row5\" >5</th>\n",
       "      <td id=\"T_38feb_row5_col0\" class=\"data row5 col0\" >0.8226</td>\n",
       "      <td id=\"T_38feb_row5_col1\" class=\"data row5 col1\" >0.8954</td>\n",
       "      <td id=\"T_38feb_row5_col2\" class=\"data row5 col2\" >0.7742</td>\n",
       "      <td id=\"T_38feb_row5_col3\" class=\"data row5 col3\" >0.8571</td>\n",
       "      <td id=\"T_38feb_row5_col4\" class=\"data row5 col4\" >0.8136</td>\n",
       "      <td id=\"T_38feb_row5_col5\" class=\"data row5 col5\" >0.6452</td>\n",
       "      <td id=\"T_38feb_row5_col6\" class=\"data row5 col6\" >0.6482</td>\n",
       "    </tr>\n",
       "    <tr>\n",
       "      <th id=\"T_38feb_level0_row6\" class=\"row_heading level0 row6\" >6</th>\n",
       "      <td id=\"T_38feb_row6_col0\" class=\"data row6 col0\" >0.8952</td>\n",
       "      <td id=\"T_38feb_row6_col1\" class=\"data row6 col1\" >0.9251</td>\n",
       "      <td id=\"T_38feb_row6_col2\" class=\"data row6 col2\" >0.9194</td>\n",
       "      <td id=\"T_38feb_row6_col3\" class=\"data row6 col3\" >0.8769</td>\n",
       "      <td id=\"T_38feb_row6_col4\" class=\"data row6 col4\" >0.8976</td>\n",
       "      <td id=\"T_38feb_row6_col5\" class=\"data row6 col5\" >0.7903</td>\n",
       "      <td id=\"T_38feb_row6_col6\" class=\"data row6 col6\" >0.7912</td>\n",
       "    </tr>\n",
       "    <tr>\n",
       "      <th id=\"T_38feb_level0_row7\" class=\"row_heading level0 row7\" >7</th>\n",
       "      <td id=\"T_38feb_row7_col0\" class=\"data row7 col0\" >0.8145</td>\n",
       "      <td id=\"T_38feb_row7_col1\" class=\"data row7 col1\" >0.9305</td>\n",
       "      <td id=\"T_38feb_row7_col2\" class=\"data row7 col2\" >0.8065</td>\n",
       "      <td id=\"T_38feb_row7_col3\" class=\"data row7 col3\" >0.8197</td>\n",
       "      <td id=\"T_38feb_row7_col4\" class=\"data row7 col4\" >0.8130</td>\n",
       "      <td id=\"T_38feb_row7_col5\" class=\"data row7 col5\" >0.6290</td>\n",
       "      <td id=\"T_38feb_row7_col6\" class=\"data row7 col6\" >0.6291</td>\n",
       "    </tr>\n",
       "    <tr>\n",
       "      <th id=\"T_38feb_level0_row8\" class=\"row_heading level0 row8\" >8</th>\n",
       "      <td id=\"T_38feb_row8_col0\" class=\"data row8 col0\" >0.8468</td>\n",
       "      <td id=\"T_38feb_row8_col1\" class=\"data row8 col1\" >0.9122</td>\n",
       "      <td id=\"T_38feb_row8_col2\" class=\"data row8 col2\" >0.8871</td>\n",
       "      <td id=\"T_38feb_row8_col3\" class=\"data row8 col3\" >0.8209</td>\n",
       "      <td id=\"T_38feb_row8_col4\" class=\"data row8 col4\" >0.8527</td>\n",
       "      <td id=\"T_38feb_row8_col5\" class=\"data row8 col5\" >0.6935</td>\n",
       "      <td id=\"T_38feb_row8_col6\" class=\"data row8 col6\" >0.6958</td>\n",
       "    </tr>\n",
       "    <tr>\n",
       "      <th id=\"T_38feb_level0_row9\" class=\"row_heading level0 row9\" >9</th>\n",
       "      <td id=\"T_38feb_row9_col0\" class=\"data row9 col0\" >0.8306</td>\n",
       "      <td id=\"T_38feb_row9_col1\" class=\"data row9 col1\" >0.9244</td>\n",
       "      <td id=\"T_38feb_row9_col2\" class=\"data row9 col2\" >0.8548</td>\n",
       "      <td id=\"T_38feb_row9_col3\" class=\"data row9 col3\" >0.8154</td>\n",
       "      <td id=\"T_38feb_row9_col4\" class=\"data row9 col4\" >0.8346</td>\n",
       "      <td id=\"T_38feb_row9_col5\" class=\"data row9 col5\" >0.6613</td>\n",
       "      <td id=\"T_38feb_row9_col6\" class=\"data row9 col6\" >0.6621</td>\n",
       "    </tr>\n",
       "    <tr>\n",
       "      <th id=\"T_38feb_level0_row10\" class=\"row_heading level0 row10\" >Mean</th>\n",
       "      <td id=\"T_38feb_row10_col0\" class=\"data row10 col0\" >0.8561</td>\n",
       "      <td id=\"T_38feb_row10_col1\" class=\"data row10 col1\" >0.9242</td>\n",
       "      <td id=\"T_38feb_row10_col2\" class=\"data row10 col2\" >0.8408</td>\n",
       "      <td id=\"T_38feb_row10_col3\" class=\"data row10 col3\" >0.8690</td>\n",
       "      <td id=\"T_38feb_row10_col4\" class=\"data row10 col4\" >0.8538</td>\n",
       "      <td id=\"T_38feb_row10_col5\" class=\"data row10 col5\" >0.7121</td>\n",
       "      <td id=\"T_38feb_row10_col6\" class=\"data row10 col6\" >0.7139</td>\n",
       "    </tr>\n",
       "    <tr>\n",
       "      <th id=\"T_38feb_level0_row11\" class=\"row_heading level0 row11\" >Std</th>\n",
       "      <td id=\"T_38feb_row11_col0\" class=\"data row11 col0\" >0.0360</td>\n",
       "      <td id=\"T_38feb_row11_col1\" class=\"data row11 col1\" >0.0215</td>\n",
       "      <td id=\"T_38feb_row11_col2\" class=\"data row11 col2\" >0.0446</td>\n",
       "      <td id=\"T_38feb_row11_col3\" class=\"data row11 col3\" >0.0474</td>\n",
       "      <td id=\"T_38feb_row11_col4\" class=\"data row11 col4\" >0.0367</td>\n",
       "      <td id=\"T_38feb_row11_col5\" class=\"data row11 col5\" >0.0721</td>\n",
       "      <td id=\"T_38feb_row11_col6\" class=\"data row11 col6\" >0.0725</td>\n",
       "    </tr>\n",
       "  </tbody>\n",
       "</table>\n"
      ],
      "text/plain": [
       "<pandas.io.formats.style.Styler at 0x1fdfbe6b3d0>"
      ]
     },
     "metadata": {},
     "output_type": "display_data"
    },
    {
     "data": {
      "text/html": [],
      "text/plain": [
       "<IPython.core.display.HTML object>"
      ]
     },
     "metadata": {},
     "output_type": "display_data"
    }
   ],
   "source": [
    "et = create_model('et', fold=10)"
   ]
  },
  {
   "cell_type": "markdown",
   "id": "1d314002-8d31-436b-9ed7-f6704f696ce3",
   "metadata": {},
   "source": [
    "**tune the hyperparameters**"
   ]
  },
  {
   "cell_type": "code",
   "execution_count": 22,
   "id": "f9a59475-8a1d-444d-85fb-dc83cc7064c8",
   "metadata": {
    "tags": []
   },
   "outputs": [
    {
     "data": {
      "text/html": [],
      "text/plain": [
       "<IPython.core.display.HTML object>"
      ]
     },
     "metadata": {},
     "output_type": "display_data"
    },
    {
     "data": {
      "text/html": [
       "<style type=\"text/css\">\n",
       "#T_7e883_row10_col0, #T_7e883_row10_col1, #T_7e883_row10_col2, #T_7e883_row10_col3, #T_7e883_row10_col4, #T_7e883_row10_col5, #T_7e883_row10_col6 {\n",
       "  background: yellow;\n",
       "}\n",
       "</style>\n",
       "<table id=\"T_7e883\">\n",
       "  <thead>\n",
       "    <tr>\n",
       "      <th class=\"blank level0\" >&nbsp;</th>\n",
       "      <th id=\"T_7e883_level0_col0\" class=\"col_heading level0 col0\" >Accuracy</th>\n",
       "      <th id=\"T_7e883_level0_col1\" class=\"col_heading level0 col1\" >AUC</th>\n",
       "      <th id=\"T_7e883_level0_col2\" class=\"col_heading level0 col2\" >Recall</th>\n",
       "      <th id=\"T_7e883_level0_col3\" class=\"col_heading level0 col3\" >Prec.</th>\n",
       "      <th id=\"T_7e883_level0_col4\" class=\"col_heading level0 col4\" >F1</th>\n",
       "      <th id=\"T_7e883_level0_col5\" class=\"col_heading level0 col5\" >Kappa</th>\n",
       "      <th id=\"T_7e883_level0_col6\" class=\"col_heading level0 col6\" >MCC</th>\n",
       "    </tr>\n",
       "    <tr>\n",
       "      <th class=\"index_name level0\" >Fold</th>\n",
       "      <th class=\"blank col0\" >&nbsp;</th>\n",
       "      <th class=\"blank col1\" >&nbsp;</th>\n",
       "      <th class=\"blank col2\" >&nbsp;</th>\n",
       "      <th class=\"blank col3\" >&nbsp;</th>\n",
       "      <th class=\"blank col4\" >&nbsp;</th>\n",
       "      <th class=\"blank col5\" >&nbsp;</th>\n",
       "      <th class=\"blank col6\" >&nbsp;</th>\n",
       "    </tr>\n",
       "  </thead>\n",
       "  <tbody>\n",
       "    <tr>\n",
       "      <th id=\"T_7e883_level0_row0\" class=\"row_heading level0 row0\" >0</th>\n",
       "      <td id=\"T_7e883_row0_col0\" class=\"data row0 col0\" >0.7680</td>\n",
       "      <td id=\"T_7e883_row0_col1\" class=\"data row0 col1\" >0.8551</td>\n",
       "      <td id=\"T_7e883_row0_col2\" class=\"data row0 col2\" >0.8571</td>\n",
       "      <td id=\"T_7e883_row0_col3\" class=\"data row0 col3\" >0.7297</td>\n",
       "      <td id=\"T_7e883_row0_col4\" class=\"data row0 col4\" >0.7883</td>\n",
       "      <td id=\"T_7e883_row0_col5\" class=\"data row0 col5\" >0.5353</td>\n",
       "      <td id=\"T_7e883_row0_col6\" class=\"data row0 col6\" >0.5438</td>\n",
       "    </tr>\n",
       "    <tr>\n",
       "      <th id=\"T_7e883_level0_row1\" class=\"row_heading level0 row1\" >1</th>\n",
       "      <td id=\"T_7e883_row1_col0\" class=\"data row1 col0\" >0.6880</td>\n",
       "      <td id=\"T_7e883_row1_col1\" class=\"data row1 col1\" >0.7939</td>\n",
       "      <td id=\"T_7e883_row1_col2\" class=\"data row1 col2\" >0.7143</td>\n",
       "      <td id=\"T_7e883_row1_col3\" class=\"data row1 col3\" >0.6818</td>\n",
       "      <td id=\"T_7e883_row1_col4\" class=\"data row1 col4\" >0.6977</td>\n",
       "      <td id=\"T_7e883_row1_col5\" class=\"data row1 col5\" >0.3757</td>\n",
       "      <td id=\"T_7e883_row1_col6\" class=\"data row1 col6\" >0.3762</td>\n",
       "    </tr>\n",
       "    <tr>\n",
       "      <th id=\"T_7e883_level0_row2\" class=\"row_heading level0 row2\" >2</th>\n",
       "      <td id=\"T_7e883_row2_col0\" class=\"data row2 col0\" >0.6560</td>\n",
       "      <td id=\"T_7e883_row2_col1\" class=\"data row2 col1\" >0.6976</td>\n",
       "      <td id=\"T_7e883_row2_col2\" class=\"data row2 col2\" >0.6935</td>\n",
       "      <td id=\"T_7e883_row2_col3\" class=\"data row2 col3\" >0.6418</td>\n",
       "      <td id=\"T_7e883_row2_col4\" class=\"data row2 col4\" >0.6667</td>\n",
       "      <td id=\"T_7e883_row2_col5\" class=\"data row2 col5\" >0.3124</td>\n",
       "      <td id=\"T_7e883_row2_col6\" class=\"data row2 col6\" >0.3134</td>\n",
       "    </tr>\n",
       "    <tr>\n",
       "      <th id=\"T_7e883_level0_row3\" class=\"row_heading level0 row3\" >3</th>\n",
       "      <td id=\"T_7e883_row3_col0\" class=\"data row3 col0\" >0.6720</td>\n",
       "      <td id=\"T_7e883_row3_col1\" class=\"data row3 col1\" >0.7665</td>\n",
       "      <td id=\"T_7e883_row3_col2\" class=\"data row3 col2\" >0.7258</td>\n",
       "      <td id=\"T_7e883_row3_col3\" class=\"data row3 col3\" >0.6522</td>\n",
       "      <td id=\"T_7e883_row3_col4\" class=\"data row3 col4\" >0.6870</td>\n",
       "      <td id=\"T_7e883_row3_col5\" class=\"data row3 col5\" >0.3445</td>\n",
       "      <td id=\"T_7e883_row3_col6\" class=\"data row3 col6\" >0.3467</td>\n",
       "    </tr>\n",
       "    <tr>\n",
       "      <th id=\"T_7e883_level0_row4\" class=\"row_heading level0 row4\" >4</th>\n",
       "      <td id=\"T_7e883_row4_col0\" class=\"data row4 col0\" >0.7016</td>\n",
       "      <td id=\"T_7e883_row4_col1\" class=\"data row4 col1\" >0.7647</td>\n",
       "      <td id=\"T_7e883_row4_col2\" class=\"data row4 col2\" >0.7419</td>\n",
       "      <td id=\"T_7e883_row4_col3\" class=\"data row4 col3\" >0.6866</td>\n",
       "      <td id=\"T_7e883_row4_col4\" class=\"data row4 col4\" >0.7132</td>\n",
       "      <td id=\"T_7e883_row4_col5\" class=\"data row4 col5\" >0.4032</td>\n",
       "      <td id=\"T_7e883_row4_col6\" class=\"data row4 col6\" >0.4045</td>\n",
       "    </tr>\n",
       "    <tr>\n",
       "      <th id=\"T_7e883_level0_row5\" class=\"row_heading level0 row5\" >5</th>\n",
       "      <td id=\"T_7e883_row5_col0\" class=\"data row5 col0\" >0.7581</td>\n",
       "      <td id=\"T_7e883_row5_col1\" class=\"data row5 col1\" >0.8228</td>\n",
       "      <td id=\"T_7e883_row5_col2\" class=\"data row5 col2\" >0.8065</td>\n",
       "      <td id=\"T_7e883_row5_col3\" class=\"data row5 col3\" >0.7353</td>\n",
       "      <td id=\"T_7e883_row5_col4\" class=\"data row5 col4\" >0.7692</td>\n",
       "      <td id=\"T_7e883_row5_col5\" class=\"data row5 col5\" >0.5161</td>\n",
       "      <td id=\"T_7e883_row5_col6\" class=\"data row5 col6\" >0.5186</td>\n",
       "    </tr>\n",
       "    <tr>\n",
       "      <th id=\"T_7e883_level0_row6\" class=\"row_heading level0 row6\" >6</th>\n",
       "      <td id=\"T_7e883_row6_col0\" class=\"data row6 col0\" >0.6532</td>\n",
       "      <td id=\"T_7e883_row6_col1\" class=\"data row6 col1\" >0.7647</td>\n",
       "      <td id=\"T_7e883_row6_col2\" class=\"data row6 col2\" >0.7097</td>\n",
       "      <td id=\"T_7e883_row6_col3\" class=\"data row6 col3\" >0.6377</td>\n",
       "      <td id=\"T_7e883_row6_col4\" class=\"data row6 col4\" >0.6718</td>\n",
       "      <td id=\"T_7e883_row6_col5\" class=\"data row6 col5\" >0.3065</td>\n",
       "      <td id=\"T_7e883_row6_col6\" class=\"data row6 col6\" >0.3084</td>\n",
       "    </tr>\n",
       "    <tr>\n",
       "      <th id=\"T_7e883_level0_row7\" class=\"row_heading level0 row7\" >7</th>\n",
       "      <td id=\"T_7e883_row7_col0\" class=\"data row7 col0\" >0.6452</td>\n",
       "      <td id=\"T_7e883_row7_col1\" class=\"data row7 col1\" >0.7713</td>\n",
       "      <td id=\"T_7e883_row7_col2\" class=\"data row7 col2\" >0.6935</td>\n",
       "      <td id=\"T_7e883_row7_col3\" class=\"data row7 col3\" >0.6324</td>\n",
       "      <td id=\"T_7e883_row7_col4\" class=\"data row7 col4\" >0.6615</td>\n",
       "      <td id=\"T_7e883_row7_col5\" class=\"data row7 col5\" >0.2903</td>\n",
       "      <td id=\"T_7e883_row7_col6\" class=\"data row7 col6\" >0.2917</td>\n",
       "    </tr>\n",
       "    <tr>\n",
       "      <th id=\"T_7e883_level0_row8\" class=\"row_heading level0 row8\" >8</th>\n",
       "      <td id=\"T_7e883_row8_col0\" class=\"data row8 col0\" >0.6048</td>\n",
       "      <td id=\"T_7e883_row8_col1\" class=\"data row8 col1\" >0.6678</td>\n",
       "      <td id=\"T_7e883_row8_col2\" class=\"data row8 col2\" >0.6774</td>\n",
       "      <td id=\"T_7e883_row8_col3\" class=\"data row8 col3\" >0.5915</td>\n",
       "      <td id=\"T_7e883_row8_col4\" class=\"data row8 col4\" >0.6316</td>\n",
       "      <td id=\"T_7e883_row8_col5\" class=\"data row8 col5\" >0.2097</td>\n",
       "      <td id=\"T_7e883_row8_col6\" class=\"data row8 col6\" >0.2119</td>\n",
       "    </tr>\n",
       "    <tr>\n",
       "      <th id=\"T_7e883_level0_row9\" class=\"row_heading level0 row9\" >9</th>\n",
       "      <td id=\"T_7e883_row9_col0\" class=\"data row9 col0\" >0.7177</td>\n",
       "      <td id=\"T_7e883_row9_col1\" class=\"data row9 col1\" >0.7898</td>\n",
       "      <td id=\"T_7e883_row9_col2\" class=\"data row9 col2\" >0.8065</td>\n",
       "      <td id=\"T_7e883_row9_col3\" class=\"data row9 col3\" >0.6849</td>\n",
       "      <td id=\"T_7e883_row9_col4\" class=\"data row9 col4\" >0.7407</td>\n",
       "      <td id=\"T_7e883_row9_col5\" class=\"data row9 col5\" >0.4355</td>\n",
       "      <td id=\"T_7e883_row9_col6\" class=\"data row9 col6\" >0.4425</td>\n",
       "    </tr>\n",
       "    <tr>\n",
       "      <th id=\"T_7e883_level0_row10\" class=\"row_heading level0 row10\" >Mean</th>\n",
       "      <td id=\"T_7e883_row10_col0\" class=\"data row10 col0\" >0.6865</td>\n",
       "      <td id=\"T_7e883_row10_col1\" class=\"data row10 col1\" >0.7694</td>\n",
       "      <td id=\"T_7e883_row10_col2\" class=\"data row10 col2\" >0.7426</td>\n",
       "      <td id=\"T_7e883_row10_col3\" class=\"data row10 col3\" >0.6674</td>\n",
       "      <td id=\"T_7e883_row10_col4\" class=\"data row10 col4\" >0.7028</td>\n",
       "      <td id=\"T_7e883_row10_col5\" class=\"data row10 col5\" >0.3729</td>\n",
       "      <td id=\"T_7e883_row10_col6\" class=\"data row10 col6\" >0.3758</td>\n",
       "    </tr>\n",
       "    <tr>\n",
       "      <th id=\"T_7e883_level0_row11\" class=\"row_heading level0 row11\" >Std</th>\n",
       "      <td id=\"T_7e883_row11_col0\" class=\"data row11 col0\" >0.0486</td>\n",
       "      <td id=\"T_7e883_row11_col1\" class=\"data row11 col1\" >0.0517</td>\n",
       "      <td id=\"T_7e883_row11_col2\" class=\"data row11 col2\" >0.0570</td>\n",
       "      <td id=\"T_7e883_row11_col3\" class=\"data row11 col3\" >0.0426</td>\n",
       "      <td id=\"T_7e883_row11_col4\" class=\"data row11 col4\" >0.0475</td>\n",
       "      <td id=\"T_7e883_row11_col5\" class=\"data row11 col5\" >0.0970</td>\n",
       "      <td id=\"T_7e883_row11_col6\" class=\"data row11 col6\" >0.0985</td>\n",
       "    </tr>\n",
       "  </tbody>\n",
       "</table>\n"
      ],
      "text/plain": [
       "<pandas.io.formats.style.Styler at 0x1fdfc1133d0>"
      ]
     },
     "metadata": {},
     "output_type": "display_data"
    },
    {
     "data": {
      "text/html": [],
      "text/plain": [
       "<IPython.core.display.HTML object>"
      ]
     },
     "metadata": {},
     "output_type": "display_data"
    },
    {
     "name": "stdout",
     "output_type": "stream",
     "text": [
      "Fitting 10 folds for each of 5 candidates, totalling 50 fits\n",
      "Original model was better than the tuned model, hence it will be returned. NOTE: The display metrics are for the tuned model (not the original one).\n"
     ]
    }
   ],
   "source": [
    "et = tune_model(et, fold=10, n_iter=5, optimize='F1', choose_better=True)"
   ]
  },
  {
   "cell_type": "markdown",
   "id": "f421cdb9-c962-40aa-86d6-48c6fca3aad8",
   "metadata": {},
   "source": [
    "**Display the model**"
   ]
  },
  {
   "cell_type": "code",
   "execution_count": 23,
   "id": "36ed84b5-0613-4c0c-bfd6-f468760acb07",
   "metadata": {
    "tags": []
   },
   "outputs": [
    {
     "data": {
      "text/html": [
       "<style>#sk-container-id-2 {color: black;background-color: white;}#sk-container-id-2 pre{padding: 0;}#sk-container-id-2 div.sk-toggleable {background-color: white;}#sk-container-id-2 label.sk-toggleable__label {cursor: pointer;display: block;width: 100%;margin-bottom: 0;padding: 0.3em;box-sizing: border-box;text-align: center;}#sk-container-id-2 label.sk-toggleable__label-arrow:before {content: \"▸\";float: left;margin-right: 0.25em;color: #696969;}#sk-container-id-2 label.sk-toggleable__label-arrow:hover:before {color: black;}#sk-container-id-2 div.sk-estimator:hover label.sk-toggleable__label-arrow:before {color: black;}#sk-container-id-2 div.sk-toggleable__content {max-height: 0;max-width: 0;overflow: hidden;text-align: left;background-color: #f0f8ff;}#sk-container-id-2 div.sk-toggleable__content pre {margin: 0.2em;color: black;border-radius: 0.25em;background-color: #f0f8ff;}#sk-container-id-2 input.sk-toggleable__control:checked~div.sk-toggleable__content {max-height: 200px;max-width: 100%;overflow: auto;}#sk-container-id-2 input.sk-toggleable__control:checked~label.sk-toggleable__label-arrow:before {content: \"▾\";}#sk-container-id-2 div.sk-estimator input.sk-toggleable__control:checked~label.sk-toggleable__label {background-color: #d4ebff;}#sk-container-id-2 div.sk-label input.sk-toggleable__control:checked~label.sk-toggleable__label {background-color: #d4ebff;}#sk-container-id-2 input.sk-hidden--visually {border: 0;clip: rect(1px 1px 1px 1px);clip: rect(1px, 1px, 1px, 1px);height: 1px;margin: -1px;overflow: hidden;padding: 0;position: absolute;width: 1px;}#sk-container-id-2 div.sk-estimator {font-family: monospace;background-color: #f0f8ff;border: 1px dotted black;border-radius: 0.25em;box-sizing: border-box;margin-bottom: 0.5em;}#sk-container-id-2 div.sk-estimator:hover {background-color: #d4ebff;}#sk-container-id-2 div.sk-parallel-item::after {content: \"\";width: 100%;border-bottom: 1px solid gray;flex-grow: 1;}#sk-container-id-2 div.sk-label:hover label.sk-toggleable__label {background-color: #d4ebff;}#sk-container-id-2 div.sk-serial::before {content: \"\";position: absolute;border-left: 1px solid gray;box-sizing: border-box;top: 0;bottom: 0;left: 50%;z-index: 0;}#sk-container-id-2 div.sk-serial {display: flex;flex-direction: column;align-items: center;background-color: white;padding-right: 0.2em;padding-left: 0.2em;position: relative;}#sk-container-id-2 div.sk-item {position: relative;z-index: 1;}#sk-container-id-2 div.sk-parallel {display: flex;align-items: stretch;justify-content: center;background-color: white;position: relative;}#sk-container-id-2 div.sk-item::before, #sk-container-id-2 div.sk-parallel-item::before {content: \"\";position: absolute;border-left: 1px solid gray;box-sizing: border-box;top: 0;bottom: 0;left: 50%;z-index: -1;}#sk-container-id-2 div.sk-parallel-item {display: flex;flex-direction: column;z-index: 1;position: relative;background-color: white;}#sk-container-id-2 div.sk-parallel-item:first-child::after {align-self: flex-end;width: 50%;}#sk-container-id-2 div.sk-parallel-item:last-child::after {align-self: flex-start;width: 50%;}#sk-container-id-2 div.sk-parallel-item:only-child::after {width: 0;}#sk-container-id-2 div.sk-dashed-wrapped {border: 1px dashed gray;margin: 0 0.4em 0.5em 0.4em;box-sizing: border-box;padding-bottom: 0.4em;background-color: white;}#sk-container-id-2 div.sk-label label {font-family: monospace;font-weight: bold;display: inline-block;line-height: 1.2em;}#sk-container-id-2 div.sk-label-container {text-align: center;}#sk-container-id-2 div.sk-container {/* jupyter's `normalize.less` sets `[hidden] { display: none; }` but bootstrap.min.css set `[hidden] { display: none !important; }` so we also need the `!important` here to be able to override the default hidden behavior on the sphinx rendered scikit-learn.org. See: https://github.com/scikit-learn/scikit-learn/issues/21755 */display: inline-block !important;position: relative;}#sk-container-id-2 div.sk-text-repr-fallback {display: none;}</style><div id=\"sk-container-id-2\" class=\"sk-top-container\"><div class=\"sk-text-repr-fallback\"><pre>ExtraTreesClassifier(bootstrap=False, ccp_alpha=0.0, class_weight=None,\n",
       "                     criterion=&#x27;gini&#x27;, max_depth=None, max_features=&#x27;sqrt&#x27;,\n",
       "                     max_leaf_nodes=None, max_samples=None,\n",
       "                     min_impurity_decrease=0.0, min_samples_leaf=1,\n",
       "                     min_samples_split=2, min_weight_fraction_leaf=0.0,\n",
       "                     n_estimators=100, n_jobs=-1, oob_score=False,\n",
       "                     random_state=42, verbose=0, warm_start=False)</pre><b>In a Jupyter environment, please rerun this cell to show the HTML representation or trust the notebook. <br />On GitHub, the HTML representation is unable to render, please try loading this page with nbviewer.org.</b></div><div class=\"sk-container\" hidden><div class=\"sk-item\"><div class=\"sk-estimator sk-toggleable\"><input class=\"sk-toggleable__control sk-hidden--visually\" id=\"sk-estimator-id-2\" type=\"checkbox\" checked><label for=\"sk-estimator-id-2\" class=\"sk-toggleable__label sk-toggleable__label-arrow\">ExtraTreesClassifier</label><div class=\"sk-toggleable__content\"><pre>ExtraTreesClassifier(bootstrap=False, ccp_alpha=0.0, class_weight=None,\n",
       "                     criterion=&#x27;gini&#x27;, max_depth=None, max_features=&#x27;sqrt&#x27;,\n",
       "                     max_leaf_nodes=None, max_samples=None,\n",
       "                     min_impurity_decrease=0.0, min_samples_leaf=1,\n",
       "                     min_samples_split=2, min_weight_fraction_leaf=0.0,\n",
       "                     n_estimators=100, n_jobs=-1, oob_score=False,\n",
       "                     random_state=42, verbose=0, warm_start=False)</pre></div></div></div></div></div>"
      ],
      "text/plain": [
       "ExtraTreesClassifier(bootstrap=False, ccp_alpha=0.0, class_weight=None,\n",
       "                     criterion='gini', max_depth=None, max_features='sqrt',\n",
       "                     max_leaf_nodes=None, max_samples=None,\n",
       "                     min_impurity_decrease=0.0, min_samples_leaf=1,\n",
       "                     min_samples_split=2, min_weight_fraction_leaf=0.0,\n",
       "                     n_estimators=100, n_jobs=-1, oob_score=False,\n",
       "                     random_state=42, verbose=0, warm_start=False)"
      ]
     },
     "execution_count": 23,
     "metadata": {},
     "output_type": "execute_result"
    }
   ],
   "source": [
    "et"
   ]
  },
  {
   "cell_type": "markdown",
   "id": "edc230ab-1d4d-497c-9957-feacc9d527bd",
   "metadata": {
    "tags": []
   },
   "source": [
    "### **Extreme Gradient Boosting**"
   ]
  },
  {
   "cell_type": "markdown",
   "id": "555abcfd-e027-412a-ba5e-265e6ef739de",
   "metadata": {},
   "source": [
    "**model creation**"
   ]
  },
  {
   "cell_type": "code",
   "execution_count": 25,
   "id": "aa2e60f2-8eaa-40ed-b319-205369da8d7c",
   "metadata": {},
   "outputs": [
    {
     "data": {
      "text/html": [],
      "text/plain": [
       "<IPython.core.display.HTML object>"
      ]
     },
     "metadata": {},
     "output_type": "display_data"
    },
    {
     "data": {
      "text/html": [
       "<style type=\"text/css\">\n",
       "#T_b0db0_row10_col0, #T_b0db0_row10_col1, #T_b0db0_row10_col2, #T_b0db0_row10_col3, #T_b0db0_row10_col4, #T_b0db0_row10_col5, #T_b0db0_row10_col6 {\n",
       "  background: yellow;\n",
       "}\n",
       "</style>\n",
       "<table id=\"T_b0db0\">\n",
       "  <thead>\n",
       "    <tr>\n",
       "      <th class=\"blank level0\" >&nbsp;</th>\n",
       "      <th id=\"T_b0db0_level0_col0\" class=\"col_heading level0 col0\" >Accuracy</th>\n",
       "      <th id=\"T_b0db0_level0_col1\" class=\"col_heading level0 col1\" >AUC</th>\n",
       "      <th id=\"T_b0db0_level0_col2\" class=\"col_heading level0 col2\" >Recall</th>\n",
       "      <th id=\"T_b0db0_level0_col3\" class=\"col_heading level0 col3\" >Prec.</th>\n",
       "      <th id=\"T_b0db0_level0_col4\" class=\"col_heading level0 col4\" >F1</th>\n",
       "      <th id=\"T_b0db0_level0_col5\" class=\"col_heading level0 col5\" >Kappa</th>\n",
       "      <th id=\"T_b0db0_level0_col6\" class=\"col_heading level0 col6\" >MCC</th>\n",
       "    </tr>\n",
       "    <tr>\n",
       "      <th class=\"index_name level0\" >Fold</th>\n",
       "      <th class=\"blank col0\" >&nbsp;</th>\n",
       "      <th class=\"blank col1\" >&nbsp;</th>\n",
       "      <th class=\"blank col2\" >&nbsp;</th>\n",
       "      <th class=\"blank col3\" >&nbsp;</th>\n",
       "      <th class=\"blank col4\" >&nbsp;</th>\n",
       "      <th class=\"blank col5\" >&nbsp;</th>\n",
       "      <th class=\"blank col6\" >&nbsp;</th>\n",
       "    </tr>\n",
       "  </thead>\n",
       "  <tbody>\n",
       "    <tr>\n",
       "      <th id=\"T_b0db0_level0_row0\" class=\"row_heading level0 row0\" >0</th>\n",
       "      <td id=\"T_b0db0_row0_col0\" class=\"data row0 col0\" >0.8800</td>\n",
       "      <td id=\"T_b0db0_row0_col1\" class=\"data row0 col1\" >0.9634</td>\n",
       "      <td id=\"T_b0db0_row0_col2\" class=\"data row0 col2\" >0.8413</td>\n",
       "      <td id=\"T_b0db0_row0_col3\" class=\"data row0 col3\" >0.9138</td>\n",
       "      <td id=\"T_b0db0_row0_col4\" class=\"data row0 col4\" >0.8760</td>\n",
       "      <td id=\"T_b0db0_row0_col5\" class=\"data row0 col5\" >0.7601</td>\n",
       "      <td id=\"T_b0db0_row0_col6\" class=\"data row0 col6\" >0.7626</td>\n",
       "    </tr>\n",
       "    <tr>\n",
       "      <th id=\"T_b0db0_level0_row1\" class=\"row_heading level0 row1\" >1</th>\n",
       "      <td id=\"T_b0db0_row1_col0\" class=\"data row1 col0\" >0.8480</td>\n",
       "      <td id=\"T_b0db0_row1_col1\" class=\"data row1 col1\" >0.9156</td>\n",
       "      <td id=\"T_b0db0_row1_col2\" class=\"data row1 col2\" >0.8571</td>\n",
       "      <td id=\"T_b0db0_row1_col3\" class=\"data row1 col3\" >0.8438</td>\n",
       "      <td id=\"T_b0db0_row1_col4\" class=\"data row1 col4\" >0.8504</td>\n",
       "      <td id=\"T_b0db0_row1_col5\" class=\"data row1 col5\" >0.6959</td>\n",
       "      <td id=\"T_b0db0_row1_col6\" class=\"data row1 col6\" >0.6960</td>\n",
       "    </tr>\n",
       "    <tr>\n",
       "      <th id=\"T_b0db0_level0_row2\" class=\"row_heading level0 row2\" >2</th>\n",
       "      <td id=\"T_b0db0_row2_col0\" class=\"data row2 col0\" >0.8160</td>\n",
       "      <td id=\"T_b0db0_row2_col1\" class=\"data row2 col1\" >0.8802</td>\n",
       "      <td id=\"T_b0db0_row2_col2\" class=\"data row2 col2\" >0.8065</td>\n",
       "      <td id=\"T_b0db0_row2_col3\" class=\"data row2 col3\" >0.8197</td>\n",
       "      <td id=\"T_b0db0_row2_col4\" class=\"data row2 col4\" >0.8130</td>\n",
       "      <td id=\"T_b0db0_row2_col5\" class=\"data row2 col5\" >0.6319</td>\n",
       "      <td id=\"T_b0db0_row2_col6\" class=\"data row2 col6\" >0.6320</td>\n",
       "    </tr>\n",
       "    <tr>\n",
       "      <th id=\"T_b0db0_level0_row3\" class=\"row_heading level0 row3\" >3</th>\n",
       "      <td id=\"T_b0db0_row3_col0\" class=\"data row3 col0\" >0.9040</td>\n",
       "      <td id=\"T_b0db0_row3_col1\" class=\"data row3 col1\" >0.9613</td>\n",
       "      <td id=\"T_b0db0_row3_col2\" class=\"data row3 col2\" >0.8871</td>\n",
       "      <td id=\"T_b0db0_row3_col3\" class=\"data row3 col3\" >0.9167</td>\n",
       "      <td id=\"T_b0db0_row3_col4\" class=\"data row3 col4\" >0.9016</td>\n",
       "      <td id=\"T_b0db0_row3_col5\" class=\"data row3 col5\" >0.8079</td>\n",
       "      <td id=\"T_b0db0_row3_col6\" class=\"data row3 col6\" >0.8084</td>\n",
       "    </tr>\n",
       "    <tr>\n",
       "      <th id=\"T_b0db0_level0_row4\" class=\"row_heading level0 row4\" >4</th>\n",
       "      <td id=\"T_b0db0_row4_col0\" class=\"data row4 col0\" >0.8548</td>\n",
       "      <td id=\"T_b0db0_row4_col1\" class=\"data row4 col1\" >0.9307</td>\n",
       "      <td id=\"T_b0db0_row4_col2\" class=\"data row4 col2\" >0.8710</td>\n",
       "      <td id=\"T_b0db0_row4_col3\" class=\"data row4 col3\" >0.8438</td>\n",
       "      <td id=\"T_b0db0_row4_col4\" class=\"data row4 col4\" >0.8571</td>\n",
       "      <td id=\"T_b0db0_row4_col5\" class=\"data row4 col5\" >0.7097</td>\n",
       "      <td id=\"T_b0db0_row4_col6\" class=\"data row4 col6\" >0.7100</td>\n",
       "    </tr>\n",
       "    <tr>\n",
       "      <th id=\"T_b0db0_level0_row5\" class=\"row_heading level0 row5\" >5</th>\n",
       "      <td id=\"T_b0db0_row5_col0\" class=\"data row5 col0\" >0.8387</td>\n",
       "      <td id=\"T_b0db0_row5_col1\" class=\"data row5 col1\" >0.9285</td>\n",
       "      <td id=\"T_b0db0_row5_col2\" class=\"data row5 col2\" >0.7742</td>\n",
       "      <td id=\"T_b0db0_row5_col3\" class=\"data row5 col3\" >0.8889</td>\n",
       "      <td id=\"T_b0db0_row5_col4\" class=\"data row5 col4\" >0.8276</td>\n",
       "      <td id=\"T_b0db0_row5_col5\" class=\"data row5 col5\" >0.6774</td>\n",
       "      <td id=\"T_b0db0_row5_col6\" class=\"data row5 col6\" >0.6831</td>\n",
       "    </tr>\n",
       "    <tr>\n",
       "      <th id=\"T_b0db0_level0_row6\" class=\"row_heading level0 row6\" >6</th>\n",
       "      <td id=\"T_b0db0_row6_col0\" class=\"data row6 col0\" >0.8468</td>\n",
       "      <td id=\"T_b0db0_row6_col1\" class=\"data row6 col1\" >0.9316</td>\n",
       "      <td id=\"T_b0db0_row6_col2\" class=\"data row6 col2\" >0.8710</td>\n",
       "      <td id=\"T_b0db0_row6_col3\" class=\"data row6 col3\" >0.8308</td>\n",
       "      <td id=\"T_b0db0_row6_col4\" class=\"data row6 col4\" >0.8504</td>\n",
       "      <td id=\"T_b0db0_row6_col5\" class=\"data row6 col5\" >0.6935</td>\n",
       "      <td id=\"T_b0db0_row6_col6\" class=\"data row6 col6\" >0.6944</td>\n",
       "    </tr>\n",
       "    <tr>\n",
       "      <th id=\"T_b0db0_level0_row7\" class=\"row_heading level0 row7\" >7</th>\n",
       "      <td id=\"T_b0db0_row7_col0\" class=\"data row7 col0\" >0.8226</td>\n",
       "      <td id=\"T_b0db0_row7_col1\" class=\"data row7 col1\" >0.8920</td>\n",
       "      <td id=\"T_b0db0_row7_col2\" class=\"data row7 col2\" >0.8065</td>\n",
       "      <td id=\"T_b0db0_row7_col3\" class=\"data row7 col3\" >0.8333</td>\n",
       "      <td id=\"T_b0db0_row7_col4\" class=\"data row7 col4\" >0.8197</td>\n",
       "      <td id=\"T_b0db0_row7_col5\" class=\"data row7 col5\" >0.6452</td>\n",
       "      <td id=\"T_b0db0_row7_col6\" class=\"data row7 col6\" >0.6455</td>\n",
       "    </tr>\n",
       "    <tr>\n",
       "      <th id=\"T_b0db0_level0_row8\" class=\"row_heading level0 row8\" >8</th>\n",
       "      <td id=\"T_b0db0_row8_col0\" class=\"data row8 col0\" >0.8629</td>\n",
       "      <td id=\"T_b0db0_row8_col1\" class=\"data row8 col1\" >0.9121</td>\n",
       "      <td id=\"T_b0db0_row8_col2\" class=\"data row8 col2\" >0.8710</td>\n",
       "      <td id=\"T_b0db0_row8_col3\" class=\"data row8 col3\" >0.8571</td>\n",
       "      <td id=\"T_b0db0_row8_col4\" class=\"data row8 col4\" >0.8640</td>\n",
       "      <td id=\"T_b0db0_row8_col5\" class=\"data row8 col5\" >0.7258</td>\n",
       "      <td id=\"T_b0db0_row8_col6\" class=\"data row8 col6\" >0.7259</td>\n",
       "    </tr>\n",
       "    <tr>\n",
       "      <th id=\"T_b0db0_level0_row9\" class=\"row_heading level0 row9\" >9</th>\n",
       "      <td id=\"T_b0db0_row9_col0\" class=\"data row9 col0\" >0.8790</td>\n",
       "      <td id=\"T_b0db0_row9_col1\" class=\"data row9 col1\" >0.9144</td>\n",
       "      <td id=\"T_b0db0_row9_col2\" class=\"data row9 col2\" >0.9032</td>\n",
       "      <td id=\"T_b0db0_row9_col3\" class=\"data row9 col3\" >0.8615</td>\n",
       "      <td id=\"T_b0db0_row9_col4\" class=\"data row9 col4\" >0.8819</td>\n",
       "      <td id=\"T_b0db0_row9_col5\" class=\"data row9 col5\" >0.7581</td>\n",
       "      <td id=\"T_b0db0_row9_col6\" class=\"data row9 col6\" >0.7590</td>\n",
       "    </tr>\n",
       "    <tr>\n",
       "      <th id=\"T_b0db0_level0_row10\" class=\"row_heading level0 row10\" >Mean</th>\n",
       "      <td id=\"T_b0db0_row10_col0\" class=\"data row10 col0\" >0.8553</td>\n",
       "      <td id=\"T_b0db0_row10_col1\" class=\"data row10 col1\" >0.9230</td>\n",
       "      <td id=\"T_b0db0_row10_col2\" class=\"data row10 col2\" >0.8489</td>\n",
       "      <td id=\"T_b0db0_row10_col3\" class=\"data row10 col3\" >0.8609</td>\n",
       "      <td id=\"T_b0db0_row10_col4\" class=\"data row10 col4\" >0.8542</td>\n",
       "      <td id=\"T_b0db0_row10_col5\" class=\"data row10 col5\" >0.7106</td>\n",
       "      <td id=\"T_b0db0_row10_col6\" class=\"data row10 col6\" >0.7117</td>\n",
       "    </tr>\n",
       "    <tr>\n",
       "      <th id=\"T_b0db0_level0_row11\" class=\"row_heading level0 row11\" >Std</th>\n",
       "      <td id=\"T_b0db0_row11_col0\" class=\"data row11 col0\" >0.0257</td>\n",
       "      <td id=\"T_b0db0_row11_col1\" class=\"data row11 col1\" >0.0251</td>\n",
       "      <td id=\"T_b0db0_row11_col2\" class=\"data row11 col2\" >0.0390</td>\n",
       "      <td id=\"T_b0db0_row11_col3\" class=\"data row11 col3\" >0.0327</td>\n",
       "      <td id=\"T_b0db0_row11_col4\" class=\"data row11 col4\" >0.0269</td>\n",
       "      <td id=\"T_b0db0_row11_col5\" class=\"data row11 col5\" >0.0515</td>\n",
       "      <td id=\"T_b0db0_row11_col6\" class=\"data row11 col6\" >0.0514</td>\n",
       "    </tr>\n",
       "  </tbody>\n",
       "</table>\n"
      ],
      "text/plain": [
       "<pandas.io.formats.style.Styler at 0x1fdfc19ae20>"
      ]
     },
     "metadata": {},
     "output_type": "display_data"
    },
    {
     "data": {
      "text/html": [],
      "text/plain": [
       "<IPython.core.display.HTML object>"
      ]
     },
     "metadata": {},
     "output_type": "display_data"
    }
   ],
   "source": [
    "xgboost = create_model('xgboost', fold=10)"
   ]
  },
  {
   "cell_type": "markdown",
   "id": "27e8f1c6-253f-4279-b83b-2a7779367cf1",
   "metadata": {},
   "source": [
    "**tune the hyperparameters**"
   ]
  },
  {
   "cell_type": "code",
   "execution_count": 26,
   "id": "cfdd95cb-8449-4d54-8623-f59508db4781",
   "metadata": {
    "tags": []
   },
   "outputs": [
    {
     "data": {
      "text/html": [],
      "text/plain": [
       "<IPython.core.display.HTML object>"
      ]
     },
     "metadata": {},
     "output_type": "display_data"
    },
    {
     "data": {
      "text/html": [
       "<style type=\"text/css\">\n",
       "#T_95590_row10_col0, #T_95590_row10_col1, #T_95590_row10_col2, #T_95590_row10_col3, #T_95590_row10_col4, #T_95590_row10_col5, #T_95590_row10_col6 {\n",
       "  background: yellow;\n",
       "}\n",
       "</style>\n",
       "<table id=\"T_95590\">\n",
       "  <thead>\n",
       "    <tr>\n",
       "      <th class=\"blank level0\" >&nbsp;</th>\n",
       "      <th id=\"T_95590_level0_col0\" class=\"col_heading level0 col0\" >Accuracy</th>\n",
       "      <th id=\"T_95590_level0_col1\" class=\"col_heading level0 col1\" >AUC</th>\n",
       "      <th id=\"T_95590_level0_col2\" class=\"col_heading level0 col2\" >Recall</th>\n",
       "      <th id=\"T_95590_level0_col3\" class=\"col_heading level0 col3\" >Prec.</th>\n",
       "      <th id=\"T_95590_level0_col4\" class=\"col_heading level0 col4\" >F1</th>\n",
       "      <th id=\"T_95590_level0_col5\" class=\"col_heading level0 col5\" >Kappa</th>\n",
       "      <th id=\"T_95590_level0_col6\" class=\"col_heading level0 col6\" >MCC</th>\n",
       "    </tr>\n",
       "    <tr>\n",
       "      <th class=\"index_name level0\" >Fold</th>\n",
       "      <th class=\"blank col0\" >&nbsp;</th>\n",
       "      <th class=\"blank col1\" >&nbsp;</th>\n",
       "      <th class=\"blank col2\" >&nbsp;</th>\n",
       "      <th class=\"blank col3\" >&nbsp;</th>\n",
       "      <th class=\"blank col4\" >&nbsp;</th>\n",
       "      <th class=\"blank col5\" >&nbsp;</th>\n",
       "      <th class=\"blank col6\" >&nbsp;</th>\n",
       "    </tr>\n",
       "  </thead>\n",
       "  <tbody>\n",
       "    <tr>\n",
       "      <th id=\"T_95590_level0_row0\" class=\"row_heading level0 row0\" >0</th>\n",
       "      <td id=\"T_95590_row0_col0\" class=\"data row0 col0\" >0.8720</td>\n",
       "      <td id=\"T_95590_row0_col1\" class=\"data row0 col1\" >0.9598</td>\n",
       "      <td id=\"T_95590_row0_col2\" class=\"data row0 col2\" >0.9206</td>\n",
       "      <td id=\"T_95590_row0_col3\" class=\"data row0 col3\" >0.8406</td>\n",
       "      <td id=\"T_95590_row0_col4\" class=\"data row0 col4\" >0.8788</td>\n",
       "      <td id=\"T_95590_row0_col5\" class=\"data row0 col5\" >0.7438</td>\n",
       "      <td id=\"T_95590_row0_col6\" class=\"data row0 col6\" >0.7472</td>\n",
       "    </tr>\n",
       "    <tr>\n",
       "      <th id=\"T_95590_level0_row1\" class=\"row_heading level0 row1\" >1</th>\n",
       "      <td id=\"T_95590_row1_col0\" class=\"data row1 col0\" >0.8400</td>\n",
       "      <td id=\"T_95590_row1_col1\" class=\"data row1 col1\" >0.9236</td>\n",
       "      <td id=\"T_95590_row1_col2\" class=\"data row1 col2\" >0.9206</td>\n",
       "      <td id=\"T_95590_row1_col3\" class=\"data row1 col3\" >0.7945</td>\n",
       "      <td id=\"T_95590_row1_col4\" class=\"data row1 col4\" >0.8529</td>\n",
       "      <td id=\"T_95590_row1_col5\" class=\"data row1 col5\" >0.6796</td>\n",
       "      <td id=\"T_95590_row1_col6\" class=\"data row1 col6\" >0.6885</td>\n",
       "    </tr>\n",
       "    <tr>\n",
       "      <th id=\"T_95590_level0_row2\" class=\"row_heading level0 row2\" >2</th>\n",
       "      <td id=\"T_95590_row2_col0\" class=\"data row2 col0\" >0.8160</td>\n",
       "      <td id=\"T_95590_row2_col1\" class=\"data row2 col1\" >0.8861</td>\n",
       "      <td id=\"T_95590_row2_col2\" class=\"data row2 col2\" >0.9355</td>\n",
       "      <td id=\"T_95590_row2_col3\" class=\"data row2 col3\" >0.7532</td>\n",
       "      <td id=\"T_95590_row2_col4\" class=\"data row2 col4\" >0.8345</td>\n",
       "      <td id=\"T_95590_row2_col5\" class=\"data row2 col5\" >0.6327</td>\n",
       "      <td id=\"T_95590_row2_col6\" class=\"data row2 col6\" >0.6517</td>\n",
       "    </tr>\n",
       "    <tr>\n",
       "      <th id=\"T_95590_level0_row3\" class=\"row_heading level0 row3\" >3</th>\n",
       "      <td id=\"T_95590_row3_col0\" class=\"data row3 col0\" >0.9040</td>\n",
       "      <td id=\"T_95590_row3_col1\" class=\"data row3 col1\" >0.9683</td>\n",
       "      <td id=\"T_95590_row3_col2\" class=\"data row3 col2\" >0.9516</td>\n",
       "      <td id=\"T_95590_row3_col3\" class=\"data row3 col3\" >0.8676</td>\n",
       "      <td id=\"T_95590_row3_col4\" class=\"data row3 col4\" >0.9077</td>\n",
       "      <td id=\"T_95590_row3_col5\" class=\"data row3 col5\" >0.8081</td>\n",
       "      <td id=\"T_95590_row3_col6\" class=\"data row3 col6\" >0.8119</td>\n",
       "    </tr>\n",
       "    <tr>\n",
       "      <th id=\"T_95590_level0_row4\" class=\"row_heading level0 row4\" >4</th>\n",
       "      <td id=\"T_95590_row4_col0\" class=\"data row4 col0\" >0.8145</td>\n",
       "      <td id=\"T_95590_row4_col1\" class=\"data row4 col1\" >0.9127</td>\n",
       "      <td id=\"T_95590_row4_col2\" class=\"data row4 col2\" >0.9032</td>\n",
       "      <td id=\"T_95590_row4_col3\" class=\"data row4 col3\" >0.7671</td>\n",
       "      <td id=\"T_95590_row4_col4\" class=\"data row4 col4\" >0.8296</td>\n",
       "      <td id=\"T_95590_row4_col5\" class=\"data row4 col5\" >0.6290</td>\n",
       "      <td id=\"T_95590_row4_col6\" class=\"data row4 col6\" >0.6392</td>\n",
       "    </tr>\n",
       "    <tr>\n",
       "      <th id=\"T_95590_level0_row5\" class=\"row_heading level0 row5\" >5</th>\n",
       "      <td id=\"T_95590_row5_col0\" class=\"data row5 col0\" >0.8468</td>\n",
       "      <td id=\"T_95590_row5_col1\" class=\"data row5 col1\" >0.9347</td>\n",
       "      <td id=\"T_95590_row5_col2\" class=\"data row5 col2\" >0.9355</td>\n",
       "      <td id=\"T_95590_row5_col3\" class=\"data row5 col3\" >0.7945</td>\n",
       "      <td id=\"T_95590_row5_col4\" class=\"data row5 col4\" >0.8593</td>\n",
       "      <td id=\"T_95590_row5_col5\" class=\"data row5 col5\" >0.6935</td>\n",
       "      <td id=\"T_95590_row5_col6\" class=\"data row5 col6\" >0.7047</td>\n",
       "    </tr>\n",
       "    <tr>\n",
       "      <th id=\"T_95590_level0_row6\" class=\"row_heading level0 row6\" >6</th>\n",
       "      <td id=\"T_95590_row6_col0\" class=\"data row6 col0\" >0.8306</td>\n",
       "      <td id=\"T_95590_row6_col1\" class=\"data row6 col1\" >0.9305</td>\n",
       "      <td id=\"T_95590_row6_col2\" class=\"data row6 col2\" >0.9677</td>\n",
       "      <td id=\"T_95590_row6_col3\" class=\"data row6 col3\" >0.7595</td>\n",
       "      <td id=\"T_95590_row6_col4\" class=\"data row6 col4\" >0.8511</td>\n",
       "      <td id=\"T_95590_row6_col5\" class=\"data row6 col5\" >0.6613</td>\n",
       "      <td id=\"T_95590_row6_col6\" class=\"data row6 col6\" >0.6876</td>\n",
       "    </tr>\n",
       "    <tr>\n",
       "      <th id=\"T_95590_level0_row7\" class=\"row_heading level0 row7\" >7</th>\n",
       "      <td id=\"T_95590_row7_col0\" class=\"data row7 col0\" >0.8306</td>\n",
       "      <td id=\"T_95590_row7_col1\" class=\"data row7 col1\" >0.9152</td>\n",
       "      <td id=\"T_95590_row7_col2\" class=\"data row7 col2\" >0.8871</td>\n",
       "      <td id=\"T_95590_row7_col3\" class=\"data row7 col3\" >0.7971</td>\n",
       "      <td id=\"T_95590_row7_col4\" class=\"data row7 col4\" >0.8397</td>\n",
       "      <td id=\"T_95590_row7_col5\" class=\"data row7 col5\" >0.6613</td>\n",
       "      <td id=\"T_95590_row7_col6\" class=\"data row7 col6\" >0.6655</td>\n",
       "    </tr>\n",
       "    <tr>\n",
       "      <th id=\"T_95590_level0_row8\" class=\"row_heading level0 row8\" >8</th>\n",
       "      <td id=\"T_95590_row8_col0\" class=\"data row8 col0\" >0.8306</td>\n",
       "      <td id=\"T_95590_row8_col1\" class=\"data row8 col1\" >0.9058</td>\n",
       "      <td id=\"T_95590_row8_col2\" class=\"data row8 col2\" >0.9355</td>\n",
       "      <td id=\"T_95590_row8_col3\" class=\"data row8 col3\" >0.7733</td>\n",
       "      <td id=\"T_95590_row8_col4\" class=\"data row8 col4\" >0.8467</td>\n",
       "      <td id=\"T_95590_row8_col5\" class=\"data row8 col5\" >0.6613</td>\n",
       "      <td id=\"T_95590_row8_col6\" class=\"data row8 col6\" >0.6763</td>\n",
       "    </tr>\n",
       "    <tr>\n",
       "      <th id=\"T_95590_level0_row9\" class=\"row_heading level0 row9\" >9</th>\n",
       "      <td id=\"T_95590_row9_col0\" class=\"data row9 col0\" >0.7661</td>\n",
       "      <td id=\"T_95590_row9_col1\" class=\"data row9 col1\" >0.8894</td>\n",
       "      <td id=\"T_95590_row9_col2\" class=\"data row9 col2\" >0.9194</td>\n",
       "      <td id=\"T_95590_row9_col3\" class=\"data row9 col3\" >0.7037</td>\n",
       "      <td id=\"T_95590_row9_col4\" class=\"data row9 col4\" >0.7972</td>\n",
       "      <td id=\"T_95590_row9_col5\" class=\"data row9 col5\" >0.5323</td>\n",
       "      <td id=\"T_95590_row9_col6\" class=\"data row9 col6\" >0.5592</td>\n",
       "    </tr>\n",
       "    <tr>\n",
       "      <th id=\"T_95590_level0_row10\" class=\"row_heading level0 row10\" >Mean</th>\n",
       "      <td id=\"T_95590_row10_col0\" class=\"data row10 col0\" >0.8351</td>\n",
       "      <td id=\"T_95590_row10_col1\" class=\"data row10 col1\" >0.9226</td>\n",
       "      <td id=\"T_95590_row10_col2\" class=\"data row10 col2\" >0.9277</td>\n",
       "      <td id=\"T_95590_row10_col3\" class=\"data row10 col3\" >0.7851</td>\n",
       "      <td id=\"T_95590_row10_col4\" class=\"data row10 col4\" >0.8498</td>\n",
       "      <td id=\"T_95590_row10_col5\" class=\"data row10 col5\" >0.6703</td>\n",
       "      <td id=\"T_95590_row10_col6\" class=\"data row10 col6\" >0.6832</td>\n",
       "    </tr>\n",
       "    <tr>\n",
       "      <th id=\"T_95590_level0_row11\" class=\"row_heading level0 row11\" >Std</th>\n",
       "      <td id=\"T_95590_row11_col0\" class=\"data row11 col0\" >0.0345</td>\n",
       "      <td id=\"T_95590_row11_col1\" class=\"data row11 col1\" >0.0256</td>\n",
       "      <td id=\"T_95590_row11_col2\" class=\"data row11 col2\" >0.0218</td>\n",
       "      <td id=\"T_95590_row11_col3\" class=\"data row11 col3\" >0.0436</td>\n",
       "      <td id=\"T_95590_row11_col4\" class=\"data row11 col4\" >0.0279</td>\n",
       "      <td id=\"T_95590_row11_col5\" class=\"data row11 col5\" >0.0689</td>\n",
       "      <td id=\"T_95590_row11_col6\" class=\"data row11 col6\" >0.0631</td>\n",
       "    </tr>\n",
       "  </tbody>\n",
       "</table>\n"
      ],
      "text/plain": [
       "<pandas.io.formats.style.Styler at 0x1fdfbef32b0>"
      ]
     },
     "metadata": {},
     "output_type": "display_data"
    },
    {
     "data": {
      "text/html": [],
      "text/plain": [
       "<IPython.core.display.HTML object>"
      ]
     },
     "metadata": {},
     "output_type": "display_data"
    },
    {
     "name": "stdout",
     "output_type": "stream",
     "text": [
      "Fitting 10 folds for each of 5 candidates, totalling 50 fits\n",
      "Original model was better than the tuned model, hence it will be returned. NOTE: The display metrics are for the tuned model (not the original one).\n"
     ]
    }
   ],
   "source": [
    "xgboost = tune_model(xgboost, fold=10, n_iter=5, optimize='F1', choose_better=True)"
   ]
  },
  {
   "cell_type": "markdown",
   "id": "0c5f838c-7bde-43a4-82b5-96b37e68b8aa",
   "metadata": {},
   "source": [
    "**Display the model**"
   ]
  },
  {
   "cell_type": "code",
   "execution_count": 27,
   "id": "cc9de421-afff-443b-aa4d-825754cd66a6",
   "metadata": {
    "tags": []
   },
   "outputs": [
    {
     "data": {
      "text/html": [
       "<style>#sk-container-id-3 {color: black;background-color: white;}#sk-container-id-3 pre{padding: 0;}#sk-container-id-3 div.sk-toggleable {background-color: white;}#sk-container-id-3 label.sk-toggleable__label {cursor: pointer;display: block;width: 100%;margin-bottom: 0;padding: 0.3em;box-sizing: border-box;text-align: center;}#sk-container-id-3 label.sk-toggleable__label-arrow:before {content: \"▸\";float: left;margin-right: 0.25em;color: #696969;}#sk-container-id-3 label.sk-toggleable__label-arrow:hover:before {color: black;}#sk-container-id-3 div.sk-estimator:hover label.sk-toggleable__label-arrow:before {color: black;}#sk-container-id-3 div.sk-toggleable__content {max-height: 0;max-width: 0;overflow: hidden;text-align: left;background-color: #f0f8ff;}#sk-container-id-3 div.sk-toggleable__content pre {margin: 0.2em;color: black;border-radius: 0.25em;background-color: #f0f8ff;}#sk-container-id-3 input.sk-toggleable__control:checked~div.sk-toggleable__content {max-height: 200px;max-width: 100%;overflow: auto;}#sk-container-id-3 input.sk-toggleable__control:checked~label.sk-toggleable__label-arrow:before {content: \"▾\";}#sk-container-id-3 div.sk-estimator input.sk-toggleable__control:checked~label.sk-toggleable__label {background-color: #d4ebff;}#sk-container-id-3 div.sk-label input.sk-toggleable__control:checked~label.sk-toggleable__label {background-color: #d4ebff;}#sk-container-id-3 input.sk-hidden--visually {border: 0;clip: rect(1px 1px 1px 1px);clip: rect(1px, 1px, 1px, 1px);height: 1px;margin: -1px;overflow: hidden;padding: 0;position: absolute;width: 1px;}#sk-container-id-3 div.sk-estimator {font-family: monospace;background-color: #f0f8ff;border: 1px dotted black;border-radius: 0.25em;box-sizing: border-box;margin-bottom: 0.5em;}#sk-container-id-3 div.sk-estimator:hover {background-color: #d4ebff;}#sk-container-id-3 div.sk-parallel-item::after {content: \"\";width: 100%;border-bottom: 1px solid gray;flex-grow: 1;}#sk-container-id-3 div.sk-label:hover label.sk-toggleable__label {background-color: #d4ebff;}#sk-container-id-3 div.sk-serial::before {content: \"\";position: absolute;border-left: 1px solid gray;box-sizing: border-box;top: 0;bottom: 0;left: 50%;z-index: 0;}#sk-container-id-3 div.sk-serial {display: flex;flex-direction: column;align-items: center;background-color: white;padding-right: 0.2em;padding-left: 0.2em;position: relative;}#sk-container-id-3 div.sk-item {position: relative;z-index: 1;}#sk-container-id-3 div.sk-parallel {display: flex;align-items: stretch;justify-content: center;background-color: white;position: relative;}#sk-container-id-3 div.sk-item::before, #sk-container-id-3 div.sk-parallel-item::before {content: \"\";position: absolute;border-left: 1px solid gray;box-sizing: border-box;top: 0;bottom: 0;left: 50%;z-index: -1;}#sk-container-id-3 div.sk-parallel-item {display: flex;flex-direction: column;z-index: 1;position: relative;background-color: white;}#sk-container-id-3 div.sk-parallel-item:first-child::after {align-self: flex-end;width: 50%;}#sk-container-id-3 div.sk-parallel-item:last-child::after {align-self: flex-start;width: 50%;}#sk-container-id-3 div.sk-parallel-item:only-child::after {width: 0;}#sk-container-id-3 div.sk-dashed-wrapped {border: 1px dashed gray;margin: 0 0.4em 0.5em 0.4em;box-sizing: border-box;padding-bottom: 0.4em;background-color: white;}#sk-container-id-3 div.sk-label label {font-family: monospace;font-weight: bold;display: inline-block;line-height: 1.2em;}#sk-container-id-3 div.sk-label-container {text-align: center;}#sk-container-id-3 div.sk-container {/* jupyter's `normalize.less` sets `[hidden] { display: none; }` but bootstrap.min.css set `[hidden] { display: none !important; }` so we also need the `!important` here to be able to override the default hidden behavior on the sphinx rendered scikit-learn.org. See: https://github.com/scikit-learn/scikit-learn/issues/21755 */display: inline-block !important;position: relative;}#sk-container-id-3 div.sk-text-repr-fallback {display: none;}</style><div id=\"sk-container-id-3\" class=\"sk-top-container\"><div class=\"sk-text-repr-fallback\"><pre>XGBClassifier(base_score=None, booster=&#x27;gbtree&#x27;, callbacks=None,\n",
       "              colsample_bylevel=None, colsample_bynode=None,\n",
       "              colsample_bytree=None, device=&#x27;cpu&#x27;, early_stopping_rounds=None,\n",
       "              enable_categorical=False, eval_metric=None, feature_types=None,\n",
       "              gamma=None, grow_policy=None, importance_type=None,\n",
       "              interaction_constraints=None, learning_rate=None, max_bin=None,\n",
       "              max_cat_threshold=None, max_cat_to_onehot=None,\n",
       "              max_delta_step=None, max_depth=None, max_leaves=None,\n",
       "              min_child_weight=None, missing=nan, monotone_constraints=None,\n",
       "              multi_strategy=None, n_estimators=None, n_jobs=-1,\n",
       "              num_parallel_tree=None, objective=&#x27;binary:logistic&#x27;, ...)</pre><b>In a Jupyter environment, please rerun this cell to show the HTML representation or trust the notebook. <br />On GitHub, the HTML representation is unable to render, please try loading this page with nbviewer.org.</b></div><div class=\"sk-container\" hidden><div class=\"sk-item\"><div class=\"sk-estimator sk-toggleable\"><input class=\"sk-toggleable__control sk-hidden--visually\" id=\"sk-estimator-id-3\" type=\"checkbox\" checked><label for=\"sk-estimator-id-3\" class=\"sk-toggleable__label sk-toggleable__label-arrow\">XGBClassifier</label><div class=\"sk-toggleable__content\"><pre>XGBClassifier(base_score=None, booster=&#x27;gbtree&#x27;, callbacks=None,\n",
       "              colsample_bylevel=None, colsample_bynode=None,\n",
       "              colsample_bytree=None, device=&#x27;cpu&#x27;, early_stopping_rounds=None,\n",
       "              enable_categorical=False, eval_metric=None, feature_types=None,\n",
       "              gamma=None, grow_policy=None, importance_type=None,\n",
       "              interaction_constraints=None, learning_rate=None, max_bin=None,\n",
       "              max_cat_threshold=None, max_cat_to_onehot=None,\n",
       "              max_delta_step=None, max_depth=None, max_leaves=None,\n",
       "              min_child_weight=None, missing=nan, monotone_constraints=None,\n",
       "              multi_strategy=None, n_estimators=None, n_jobs=-1,\n",
       "              num_parallel_tree=None, objective=&#x27;binary:logistic&#x27;, ...)</pre></div></div></div></div></div>"
      ],
      "text/plain": [
       "XGBClassifier(base_score=None, booster='gbtree', callbacks=None,\n",
       "              colsample_bylevel=None, colsample_bynode=None,\n",
       "              colsample_bytree=None, device='cpu', early_stopping_rounds=None,\n",
       "              enable_categorical=False, eval_metric=None, feature_types=None,\n",
       "              gamma=None, grow_policy=None, importance_type=None,\n",
       "              interaction_constraints=None, learning_rate=None, max_bin=None,\n",
       "              max_cat_threshold=None, max_cat_to_onehot=None,\n",
       "              max_delta_step=None, max_depth=None, max_leaves=None,\n",
       "              min_child_weight=None, missing=nan, monotone_constraints=None,\n",
       "              multi_strategy=None, n_estimators=None, n_jobs=-1,\n",
       "              num_parallel_tree=None, objective='binary:logistic', ...)"
      ]
     },
     "execution_count": 27,
     "metadata": {},
     "output_type": "execute_result"
    }
   ],
   "source": [
    "xgboost"
   ]
  },
  {
   "cell_type": "markdown",
   "id": "227f1a02-a62f-4edc-8777-38d4fd588f0c",
   "metadata": {},
   "source": [
    "### Blending of models"
   ]
  },
  {
   "cell_type": "code",
   "execution_count": 28,
   "id": "1c42b15d-c3b9-4657-8b8f-d7702853e57b",
   "metadata": {
    "tags": []
   },
   "outputs": [
    {
     "data": {
      "text/html": [],
      "text/plain": [
       "<IPython.core.display.HTML object>"
      ]
     },
     "metadata": {},
     "output_type": "display_data"
    },
    {
     "data": {
      "text/html": [
       "<style type=\"text/css\">\n",
       "#T_14a9a_row10_col0, #T_14a9a_row10_col1, #T_14a9a_row10_col2, #T_14a9a_row10_col3, #T_14a9a_row10_col4, #T_14a9a_row10_col5, #T_14a9a_row10_col6 {\n",
       "  background: yellow;\n",
       "}\n",
       "</style>\n",
       "<table id=\"T_14a9a\">\n",
       "  <thead>\n",
       "    <tr>\n",
       "      <th class=\"blank level0\" >&nbsp;</th>\n",
       "      <th id=\"T_14a9a_level0_col0\" class=\"col_heading level0 col0\" >Accuracy</th>\n",
       "      <th id=\"T_14a9a_level0_col1\" class=\"col_heading level0 col1\" >AUC</th>\n",
       "      <th id=\"T_14a9a_level0_col2\" class=\"col_heading level0 col2\" >Recall</th>\n",
       "      <th id=\"T_14a9a_level0_col3\" class=\"col_heading level0 col3\" >Prec.</th>\n",
       "      <th id=\"T_14a9a_level0_col4\" class=\"col_heading level0 col4\" >F1</th>\n",
       "      <th id=\"T_14a9a_level0_col5\" class=\"col_heading level0 col5\" >Kappa</th>\n",
       "      <th id=\"T_14a9a_level0_col6\" class=\"col_heading level0 col6\" >MCC</th>\n",
       "    </tr>\n",
       "    <tr>\n",
       "      <th class=\"index_name level0\" >Fold</th>\n",
       "      <th class=\"blank col0\" >&nbsp;</th>\n",
       "      <th class=\"blank col1\" >&nbsp;</th>\n",
       "      <th class=\"blank col2\" >&nbsp;</th>\n",
       "      <th class=\"blank col3\" >&nbsp;</th>\n",
       "      <th class=\"blank col4\" >&nbsp;</th>\n",
       "      <th class=\"blank col5\" >&nbsp;</th>\n",
       "      <th class=\"blank col6\" >&nbsp;</th>\n",
       "    </tr>\n",
       "  </thead>\n",
       "  <tbody>\n",
       "    <tr>\n",
       "      <th id=\"T_14a9a_level0_row0\" class=\"row_heading level0 row0\" >0</th>\n",
       "      <td id=\"T_14a9a_row0_col0\" class=\"data row0 col0\" >0.9120</td>\n",
       "      <td id=\"T_14a9a_row0_col1\" class=\"data row0 col1\" >0.9782</td>\n",
       "      <td id=\"T_14a9a_row0_col2\" class=\"data row0 col2\" >0.8889</td>\n",
       "      <td id=\"T_14a9a_row0_col3\" class=\"data row0 col3\" >0.9333</td>\n",
       "      <td id=\"T_14a9a_row0_col4\" class=\"data row0 col4\" >0.9106</td>\n",
       "      <td id=\"T_14a9a_row0_col5\" class=\"data row0 col5\" >0.8241</td>\n",
       "      <td id=\"T_14a9a_row0_col6\" class=\"data row0 col6\" >0.8250</td>\n",
       "    </tr>\n",
       "    <tr>\n",
       "      <th id=\"T_14a9a_level0_row1\" class=\"row_heading level0 row1\" >1</th>\n",
       "      <td id=\"T_14a9a_row1_col0\" class=\"data row1 col0\" >0.8480</td>\n",
       "      <td id=\"T_14a9a_row1_col1\" class=\"data row1 col1\" >0.9387</td>\n",
       "      <td id=\"T_14a9a_row1_col2\" class=\"data row1 col2\" >0.8571</td>\n",
       "      <td id=\"T_14a9a_row1_col3\" class=\"data row1 col3\" >0.8438</td>\n",
       "      <td id=\"T_14a9a_row1_col4\" class=\"data row1 col4\" >0.8504</td>\n",
       "      <td id=\"T_14a9a_row1_col5\" class=\"data row1 col5\" >0.6959</td>\n",
       "      <td id=\"T_14a9a_row1_col6\" class=\"data row1 col6\" >0.6960</td>\n",
       "    </tr>\n",
       "    <tr>\n",
       "      <th id=\"T_14a9a_level0_row2\" class=\"row_heading level0 row2\" >2</th>\n",
       "      <td id=\"T_14a9a_row2_col0\" class=\"data row2 col0\" >0.8160</td>\n",
       "      <td id=\"T_14a9a_row2_col1\" class=\"data row2 col1\" >0.8881</td>\n",
       "      <td id=\"T_14a9a_row2_col2\" class=\"data row2 col2\" >0.8226</td>\n",
       "      <td id=\"T_14a9a_row2_col3\" class=\"data row2 col3\" >0.8095</td>\n",
       "      <td id=\"T_14a9a_row2_col4\" class=\"data row2 col4\" >0.8160</td>\n",
       "      <td id=\"T_14a9a_row2_col5\" class=\"data row2 col5\" >0.6320</td>\n",
       "      <td id=\"T_14a9a_row2_col6\" class=\"data row2 col6\" >0.6321</td>\n",
       "    </tr>\n",
       "    <tr>\n",
       "      <th id=\"T_14a9a_level0_row3\" class=\"row_heading level0 row3\" >3</th>\n",
       "      <td id=\"T_14a9a_row3_col0\" class=\"data row3 col0\" >0.9040</td>\n",
       "      <td id=\"T_14a9a_row3_col1\" class=\"data row3 col1\" >0.9529</td>\n",
       "      <td id=\"T_14a9a_row3_col2\" class=\"data row3 col2\" >0.8871</td>\n",
       "      <td id=\"T_14a9a_row3_col3\" class=\"data row3 col3\" >0.9167</td>\n",
       "      <td id=\"T_14a9a_row3_col4\" class=\"data row3 col4\" >0.9016</td>\n",
       "      <td id=\"T_14a9a_row3_col5\" class=\"data row3 col5\" >0.8079</td>\n",
       "      <td id=\"T_14a9a_row3_col6\" class=\"data row3 col6\" >0.8084</td>\n",
       "    </tr>\n",
       "    <tr>\n",
       "      <th id=\"T_14a9a_level0_row4\" class=\"row_heading level0 row4\" >4</th>\n",
       "      <td id=\"T_14a9a_row4_col0\" class=\"data row4 col0\" >0.8629</td>\n",
       "      <td id=\"T_14a9a_row4_col1\" class=\"data row4 col1\" >0.9374</td>\n",
       "      <td id=\"T_14a9a_row4_col2\" class=\"data row4 col2\" >0.8548</td>\n",
       "      <td id=\"T_14a9a_row4_col3\" class=\"data row4 col3\" >0.8689</td>\n",
       "      <td id=\"T_14a9a_row4_col4\" class=\"data row4 col4\" >0.8618</td>\n",
       "      <td id=\"T_14a9a_row4_col5\" class=\"data row4 col5\" >0.7258</td>\n",
       "      <td id=\"T_14a9a_row4_col6\" class=\"data row4 col6\" >0.7259</td>\n",
       "    </tr>\n",
       "    <tr>\n",
       "      <th id=\"T_14a9a_level0_row5\" class=\"row_heading level0 row5\" >5</th>\n",
       "      <td id=\"T_14a9a_row5_col0\" class=\"data row5 col0\" >0.8306</td>\n",
       "      <td id=\"T_14a9a_row5_col1\" class=\"data row5 col1\" >0.9313</td>\n",
       "      <td id=\"T_14a9a_row5_col2\" class=\"data row5 col2\" >0.7742</td>\n",
       "      <td id=\"T_14a9a_row5_col3\" class=\"data row5 col3\" >0.8727</td>\n",
       "      <td id=\"T_14a9a_row5_col4\" class=\"data row5 col4\" >0.8205</td>\n",
       "      <td id=\"T_14a9a_row5_col5\" class=\"data row5 col5\" >0.6613</td>\n",
       "      <td id=\"T_14a9a_row5_col6\" class=\"data row5 col6\" >0.6655</td>\n",
       "    </tr>\n",
       "    <tr>\n",
       "      <th id=\"T_14a9a_level0_row6\" class=\"row_heading level0 row6\" >6</th>\n",
       "      <td id=\"T_14a9a_row6_col0\" class=\"data row6 col0\" >0.8790</td>\n",
       "      <td id=\"T_14a9a_row6_col1\" class=\"data row6 col1\" >0.9396</td>\n",
       "      <td id=\"T_14a9a_row6_col2\" class=\"data row6 col2\" >0.9032</td>\n",
       "      <td id=\"T_14a9a_row6_col3\" class=\"data row6 col3\" >0.8615</td>\n",
       "      <td id=\"T_14a9a_row6_col4\" class=\"data row6 col4\" >0.8819</td>\n",
       "      <td id=\"T_14a9a_row6_col5\" class=\"data row6 col5\" >0.7581</td>\n",
       "      <td id=\"T_14a9a_row6_col6\" class=\"data row6 col6\" >0.7590</td>\n",
       "    </tr>\n",
       "    <tr>\n",
       "      <th id=\"T_14a9a_level0_row7\" class=\"row_heading level0 row7\" >7</th>\n",
       "      <td id=\"T_14a9a_row7_col0\" class=\"data row7 col0\" >0.8226</td>\n",
       "      <td id=\"T_14a9a_row7_col1\" class=\"data row7 col1\" >0.9282</td>\n",
       "      <td id=\"T_14a9a_row7_col2\" class=\"data row7 col2\" >0.7903</td>\n",
       "      <td id=\"T_14a9a_row7_col3\" class=\"data row7 col3\" >0.8448</td>\n",
       "      <td id=\"T_14a9a_row7_col4\" class=\"data row7 col4\" >0.8167</td>\n",
       "      <td id=\"T_14a9a_row7_col5\" class=\"data row7 col5\" >0.6452</td>\n",
       "      <td id=\"T_14a9a_row7_col6\" class=\"data row7 col6\" >0.6465</td>\n",
       "    </tr>\n",
       "    <tr>\n",
       "      <th id=\"T_14a9a_level0_row8\" class=\"row_heading level0 row8\" >8</th>\n",
       "      <td id=\"T_14a9a_row8_col0\" class=\"data row8 col0\" >0.8629</td>\n",
       "      <td id=\"T_14a9a_row8_col1\" class=\"data row8 col1\" >0.9238</td>\n",
       "      <td id=\"T_14a9a_row8_col2\" class=\"data row8 col2\" >0.8871</td>\n",
       "      <td id=\"T_14a9a_row8_col3\" class=\"data row8 col3\" >0.8462</td>\n",
       "      <td id=\"T_14a9a_row8_col4\" class=\"data row8 col4\" >0.8661</td>\n",
       "      <td id=\"T_14a9a_row8_col5\" class=\"data row8 col5\" >0.7258</td>\n",
       "      <td id=\"T_14a9a_row8_col6\" class=\"data row8 col6\" >0.7267</td>\n",
       "    </tr>\n",
       "    <tr>\n",
       "      <th id=\"T_14a9a_level0_row9\" class=\"row_heading level0 row9\" >9</th>\n",
       "      <td id=\"T_14a9a_row9_col0\" class=\"data row9 col0\" >0.8710</td>\n",
       "      <td id=\"T_14a9a_row9_col1\" class=\"data row9 col1\" >0.9347</td>\n",
       "      <td id=\"T_14a9a_row9_col2\" class=\"data row9 col2\" >0.8710</td>\n",
       "      <td id=\"T_14a9a_row9_col3\" class=\"data row9 col3\" >0.8710</td>\n",
       "      <td id=\"T_14a9a_row9_col4\" class=\"data row9 col4\" >0.8710</td>\n",
       "      <td id=\"T_14a9a_row9_col5\" class=\"data row9 col5\" >0.7419</td>\n",
       "      <td id=\"T_14a9a_row9_col6\" class=\"data row9 col6\" >0.7419</td>\n",
       "    </tr>\n",
       "    <tr>\n",
       "      <th id=\"T_14a9a_level0_row10\" class=\"row_heading level0 row10\" >Mean</th>\n",
       "      <td id=\"T_14a9a_row10_col0\" class=\"data row10 col0\" >0.8609</td>\n",
       "      <td id=\"T_14a9a_row10_col1\" class=\"data row10 col1\" >0.9353</td>\n",
       "      <td id=\"T_14a9a_row10_col2\" class=\"data row10 col2\" >0.8536</td>\n",
       "      <td id=\"T_14a9a_row10_col3\" class=\"data row10 col3\" >0.8668</td>\n",
       "      <td id=\"T_14a9a_row10_col4\" class=\"data row10 col4\" >0.8597</td>\n",
       "      <td id=\"T_14a9a_row10_col5\" class=\"data row10 col5\" >0.7218</td>\n",
       "      <td id=\"T_14a9a_row10_col6\" class=\"data row10 col6\" >0.7227</td>\n",
       "    </tr>\n",
       "    <tr>\n",
       "      <th id=\"T_14a9a_level0_row11\" class=\"row_heading level0 row11\" >Std</th>\n",
       "      <td id=\"T_14a9a_row11_col0\" class=\"data row11 col0\" >0.0308</td>\n",
       "      <td id=\"T_14a9a_row11_col1\" class=\"data row11 col1\" >0.0215</td>\n",
       "      <td id=\"T_14a9a_row11_col2\" class=\"data row11 col2\" >0.0419</td>\n",
       "      <td id=\"T_14a9a_row11_col3\" class=\"data row11 col3\" >0.0342</td>\n",
       "      <td id=\"T_14a9a_row11_col4\" class=\"data row11 col4\" >0.0322</td>\n",
       "      <td id=\"T_14a9a_row11_col5\" class=\"data row11 col5\" >0.0616</td>\n",
       "      <td id=\"T_14a9a_row11_col6\" class=\"data row11 col6\" >0.0612</td>\n",
       "    </tr>\n",
       "  </tbody>\n",
       "</table>\n"
      ],
      "text/plain": [
       "<pandas.io.formats.style.Styler at 0x1fdf59d8e80>"
      ]
     },
     "metadata": {},
     "output_type": "display_data"
    },
    {
     "data": {
      "text/html": [],
      "text/plain": [
       "<IPython.core.display.HTML object>"
      ]
     },
     "metadata": {},
     "output_type": "display_data"
    }
   ],
   "source": [
    "# blend individual models based on soft labels i.e predicted probabilities\n",
    "blend_soft = blend_models(estimator_list=[rf, et, xgboost,], method='soft', optimize='F1', fold=10)"
   ]
  },
  {
   "cell_type": "code",
   "execution_count": 29,
   "id": "ce523698-d8f2-44fe-869d-ee4320dd97c2",
   "metadata": {
    "tags": []
   },
   "outputs": [
    {
     "data": {
      "text/html": [],
      "text/plain": [
       "<IPython.core.display.HTML object>"
      ]
     },
     "metadata": {},
     "output_type": "display_data"
    },
    {
     "data": {
      "text/html": [
       "<style type=\"text/css\">\n",
       "#T_31ab3_row10_col0, #T_31ab3_row10_col1, #T_31ab3_row10_col2, #T_31ab3_row10_col3, #T_31ab3_row10_col4, #T_31ab3_row10_col5, #T_31ab3_row10_col6 {\n",
       "  background: yellow;\n",
       "}\n",
       "</style>\n",
       "<table id=\"T_31ab3\">\n",
       "  <thead>\n",
       "    <tr>\n",
       "      <th class=\"blank level0\" >&nbsp;</th>\n",
       "      <th id=\"T_31ab3_level0_col0\" class=\"col_heading level0 col0\" >Accuracy</th>\n",
       "      <th id=\"T_31ab3_level0_col1\" class=\"col_heading level0 col1\" >AUC</th>\n",
       "      <th id=\"T_31ab3_level0_col2\" class=\"col_heading level0 col2\" >Recall</th>\n",
       "      <th id=\"T_31ab3_level0_col3\" class=\"col_heading level0 col3\" >Prec.</th>\n",
       "      <th id=\"T_31ab3_level0_col4\" class=\"col_heading level0 col4\" >F1</th>\n",
       "      <th id=\"T_31ab3_level0_col5\" class=\"col_heading level0 col5\" >Kappa</th>\n",
       "      <th id=\"T_31ab3_level0_col6\" class=\"col_heading level0 col6\" >MCC</th>\n",
       "    </tr>\n",
       "    <tr>\n",
       "      <th class=\"index_name level0\" >Fold</th>\n",
       "      <th class=\"blank col0\" >&nbsp;</th>\n",
       "      <th class=\"blank col1\" >&nbsp;</th>\n",
       "      <th class=\"blank col2\" >&nbsp;</th>\n",
       "      <th class=\"blank col3\" >&nbsp;</th>\n",
       "      <th class=\"blank col4\" >&nbsp;</th>\n",
       "      <th class=\"blank col5\" >&nbsp;</th>\n",
       "      <th class=\"blank col6\" >&nbsp;</th>\n",
       "    </tr>\n",
       "  </thead>\n",
       "  <tbody>\n",
       "    <tr>\n",
       "      <th id=\"T_31ab3_level0_row0\" class=\"row_heading level0 row0\" >0</th>\n",
       "      <td id=\"T_31ab3_row0_col0\" class=\"data row0 col0\" >0.9120</td>\n",
       "      <td id=\"T_31ab3_row0_col1\" class=\"data row0 col1\" >0.0000</td>\n",
       "      <td id=\"T_31ab3_row0_col2\" class=\"data row0 col2\" >0.8730</td>\n",
       "      <td id=\"T_31ab3_row0_col3\" class=\"data row0 col3\" >0.9483</td>\n",
       "      <td id=\"T_31ab3_row0_col4\" class=\"data row0 col4\" >0.9091</td>\n",
       "      <td id=\"T_31ab3_row0_col5\" class=\"data row0 col5\" >0.8241</td>\n",
       "      <td id=\"T_31ab3_row0_col6\" class=\"data row0 col6\" >0.8267</td>\n",
       "    </tr>\n",
       "    <tr>\n",
       "      <th id=\"T_31ab3_level0_row1\" class=\"row_heading level0 row1\" >1</th>\n",
       "      <td id=\"T_31ab3_row1_col0\" class=\"data row1 col0\" >0.8480</td>\n",
       "      <td id=\"T_31ab3_row1_col1\" class=\"data row1 col1\" >0.0000</td>\n",
       "      <td id=\"T_31ab3_row1_col2\" class=\"data row1 col2\" >0.8254</td>\n",
       "      <td id=\"T_31ab3_row1_col3\" class=\"data row1 col3\" >0.8667</td>\n",
       "      <td id=\"T_31ab3_row1_col4\" class=\"data row1 col4\" >0.8455</td>\n",
       "      <td id=\"T_31ab3_row1_col5\" class=\"data row1 col5\" >0.6961</td>\n",
       "      <td id=\"T_31ab3_row1_col6\" class=\"data row1 col6\" >0.6969</td>\n",
       "    </tr>\n",
       "    <tr>\n",
       "      <th id=\"T_31ab3_level0_row2\" class=\"row_heading level0 row2\" >2</th>\n",
       "      <td id=\"T_31ab3_row2_col0\" class=\"data row2 col0\" >0.8080</td>\n",
       "      <td id=\"T_31ab3_row2_col1\" class=\"data row2 col1\" >0.0000</td>\n",
       "      <td id=\"T_31ab3_row2_col2\" class=\"data row2 col2\" >0.7903</td>\n",
       "      <td id=\"T_31ab3_row2_col3\" class=\"data row2 col3\" >0.8167</td>\n",
       "      <td id=\"T_31ab3_row2_col4\" class=\"data row2 col4\" >0.8033</td>\n",
       "      <td id=\"T_31ab3_row2_col5\" class=\"data row2 col5\" >0.6159</td>\n",
       "      <td id=\"T_31ab3_row2_col6\" class=\"data row2 col6\" >0.6162</td>\n",
       "    </tr>\n",
       "    <tr>\n",
       "      <th id=\"T_31ab3_level0_row3\" class=\"row_heading level0 row3\" >3</th>\n",
       "      <td id=\"T_31ab3_row3_col0\" class=\"data row3 col0\" >0.9120</td>\n",
       "      <td id=\"T_31ab3_row3_col1\" class=\"data row3 col1\" >0.0000</td>\n",
       "      <td id=\"T_31ab3_row3_col2\" class=\"data row3 col2\" >0.8871</td>\n",
       "      <td id=\"T_31ab3_row3_col3\" class=\"data row3 col3\" >0.9322</td>\n",
       "      <td id=\"T_31ab3_row3_col4\" class=\"data row3 col4\" >0.9091</td>\n",
       "      <td id=\"T_31ab3_row3_col5\" class=\"data row3 col5\" >0.8239</td>\n",
       "      <td id=\"T_31ab3_row3_col6\" class=\"data row3 col6\" >0.8249</td>\n",
       "    </tr>\n",
       "    <tr>\n",
       "      <th id=\"T_31ab3_level0_row4\" class=\"row_heading level0 row4\" >4</th>\n",
       "      <td id=\"T_31ab3_row4_col0\" class=\"data row4 col0\" >0.8790</td>\n",
       "      <td id=\"T_31ab3_row4_col1\" class=\"data row4 col1\" >0.0000</td>\n",
       "      <td id=\"T_31ab3_row4_col2\" class=\"data row4 col2\" >0.8548</td>\n",
       "      <td id=\"T_31ab3_row4_col3\" class=\"data row4 col3\" >0.8983</td>\n",
       "      <td id=\"T_31ab3_row4_col4\" class=\"data row4 col4\" >0.8760</td>\n",
       "      <td id=\"T_31ab3_row4_col5\" class=\"data row4 col5\" >0.7581</td>\n",
       "      <td id=\"T_31ab3_row4_col6\" class=\"data row4 col6\" >0.7590</td>\n",
       "    </tr>\n",
       "    <tr>\n",
       "      <th id=\"T_31ab3_level0_row5\" class=\"row_heading level0 row5\" >5</th>\n",
       "      <td id=\"T_31ab3_row5_col0\" class=\"data row5 col0\" >0.8226</td>\n",
       "      <td id=\"T_31ab3_row5_col1\" class=\"data row5 col1\" >0.0000</td>\n",
       "      <td id=\"T_31ab3_row5_col2\" class=\"data row5 col2\" >0.7742</td>\n",
       "      <td id=\"T_31ab3_row5_col3\" class=\"data row5 col3\" >0.8571</td>\n",
       "      <td id=\"T_31ab3_row5_col4\" class=\"data row5 col4\" >0.8136</td>\n",
       "      <td id=\"T_31ab3_row5_col5\" class=\"data row5 col5\" >0.6452</td>\n",
       "      <td id=\"T_31ab3_row5_col6\" class=\"data row5 col6\" >0.6482</td>\n",
       "    </tr>\n",
       "    <tr>\n",
       "      <th id=\"T_31ab3_level0_row6\" class=\"row_heading level0 row6\" >6</th>\n",
       "      <td id=\"T_31ab3_row6_col0\" class=\"data row6 col0\" >0.8710</td>\n",
       "      <td id=\"T_31ab3_row6_col1\" class=\"data row6 col1\" >0.0000</td>\n",
       "      <td id=\"T_31ab3_row6_col2\" class=\"data row6 col2\" >0.9032</td>\n",
       "      <td id=\"T_31ab3_row6_col3\" class=\"data row6 col3\" >0.8485</td>\n",
       "      <td id=\"T_31ab3_row6_col4\" class=\"data row6 col4\" >0.8750</td>\n",
       "      <td id=\"T_31ab3_row6_col5\" class=\"data row6 col5\" >0.7419</td>\n",
       "      <td id=\"T_31ab3_row6_col6\" class=\"data row6 col6\" >0.7435</td>\n",
       "    </tr>\n",
       "    <tr>\n",
       "      <th id=\"T_31ab3_level0_row7\" class=\"row_heading level0 row7\" >7</th>\n",
       "      <td id=\"T_31ab3_row7_col0\" class=\"data row7 col0\" >0.8226</td>\n",
       "      <td id=\"T_31ab3_row7_col1\" class=\"data row7 col1\" >0.0000</td>\n",
       "      <td id=\"T_31ab3_row7_col2\" class=\"data row7 col2\" >0.8226</td>\n",
       "      <td id=\"T_31ab3_row7_col3\" class=\"data row7 col3\" >0.8226</td>\n",
       "      <td id=\"T_31ab3_row7_col4\" class=\"data row7 col4\" >0.8226</td>\n",
       "      <td id=\"T_31ab3_row7_col5\" class=\"data row7 col5\" >0.6452</td>\n",
       "      <td id=\"T_31ab3_row7_col6\" class=\"data row7 col6\" >0.6452</td>\n",
       "    </tr>\n",
       "    <tr>\n",
       "      <th id=\"T_31ab3_level0_row8\" class=\"row_heading level0 row8\" >8</th>\n",
       "      <td id=\"T_31ab3_row8_col0\" class=\"data row8 col0\" >0.8548</td>\n",
       "      <td id=\"T_31ab3_row8_col1\" class=\"data row8 col1\" >0.0000</td>\n",
       "      <td id=\"T_31ab3_row8_col2\" class=\"data row8 col2\" >0.8710</td>\n",
       "      <td id=\"T_31ab3_row8_col3\" class=\"data row8 col3\" >0.8438</td>\n",
       "      <td id=\"T_31ab3_row8_col4\" class=\"data row8 col4\" >0.8571</td>\n",
       "      <td id=\"T_31ab3_row8_col5\" class=\"data row8 col5\" >0.7097</td>\n",
       "      <td id=\"T_31ab3_row8_col6\" class=\"data row8 col6\" >0.7100</td>\n",
       "    </tr>\n",
       "    <tr>\n",
       "      <th id=\"T_31ab3_level0_row9\" class=\"row_heading level0 row9\" >9</th>\n",
       "      <td id=\"T_31ab3_row9_col0\" class=\"data row9 col0\" >0.8629</td>\n",
       "      <td id=\"T_31ab3_row9_col1\" class=\"data row9 col1\" >0.0000</td>\n",
       "      <td id=\"T_31ab3_row9_col2\" class=\"data row9 col2\" >0.8871</td>\n",
       "      <td id=\"T_31ab3_row9_col3\" class=\"data row9 col3\" >0.8462</td>\n",
       "      <td id=\"T_31ab3_row9_col4\" class=\"data row9 col4\" >0.8661</td>\n",
       "      <td id=\"T_31ab3_row9_col5\" class=\"data row9 col5\" >0.7258</td>\n",
       "      <td id=\"T_31ab3_row9_col6\" class=\"data row9 col6\" >0.7267</td>\n",
       "    </tr>\n",
       "    <tr>\n",
       "      <th id=\"T_31ab3_level0_row10\" class=\"row_heading level0 row10\" >Mean</th>\n",
       "      <td id=\"T_31ab3_row10_col0\" class=\"data row10 col0\" >0.8593</td>\n",
       "      <td id=\"T_31ab3_row10_col1\" class=\"data row10 col1\" >0.0000</td>\n",
       "      <td id=\"T_31ab3_row10_col2\" class=\"data row10 col2\" >0.8489</td>\n",
       "      <td id=\"T_31ab3_row10_col3\" class=\"data row10 col3\" >0.8680</td>\n",
       "      <td id=\"T_31ab3_row10_col4\" class=\"data row10 col4\" >0.8577</td>\n",
       "      <td id=\"T_31ab3_row10_col5\" class=\"data row10 col5\" >0.7186</td>\n",
       "      <td id=\"T_31ab3_row10_col6\" class=\"data row10 col6\" >0.7197</td>\n",
       "    </tr>\n",
       "    <tr>\n",
       "      <th id=\"T_31ab3_level0_row11\" class=\"row_heading level0 row11\" >Std</th>\n",
       "      <td id=\"T_31ab3_row11_col0\" class=\"data row11 col0\" >0.0340</td>\n",
       "      <td id=\"T_31ab3_row11_col1\" class=\"data row11 col1\" >0.0000</td>\n",
       "      <td id=\"T_31ab3_row11_col2\" class=\"data row11 col2\" >0.0415</td>\n",
       "      <td id=\"T_31ab3_row11_col3\" class=\"data row11 col3\" >0.0421</td>\n",
       "      <td id=\"T_31ab3_row11_col4\" class=\"data row11 col4\" >0.0350</td>\n",
       "      <td id=\"T_31ab3_row11_col5\" class=\"data row11 col5\" >0.0680</td>\n",
       "      <td id=\"T_31ab3_row11_col6\" class=\"data row11 col6\" >0.0683</td>\n",
       "    </tr>\n",
       "  </tbody>\n",
       "</table>\n"
      ],
      "text/plain": [
       "<pandas.io.formats.style.Styler at 0x1fdfbe62130>"
      ]
     },
     "metadata": {},
     "output_type": "display_data"
    },
    {
     "data": {
      "text/html": [],
      "text/plain": [
       "<IPython.core.display.HTML object>"
      ]
     },
     "metadata": {},
     "output_type": "display_data"
    }
   ],
   "source": [
    "# blend individual models based on hard labels i.e predicted probabilities\n",
    "blend_soft = blend_models(estimator_list=[rf, et, xgboost,], method='hard', optimize='F1', fold=10)"
   ]
  },
  {
   "cell_type": "markdown",
   "id": "edce886e-b800-4348-9678-0270b800b067",
   "metadata": {},
   "source": [
    "Blending does not improve model efficacy"
   ]
  },
  {
   "cell_type": "markdown",
   "id": "796fd93b-1665-4fad-9a99-855678402b4d",
   "metadata": {},
   "source": [
    "Finalize the model on entire dataset"
   ]
  },
  {
   "cell_type": "code",
   "execution_count": 30,
   "id": "4e13ac8e-43a5-4fa7-b662-2c1033be47dd",
   "metadata": {
    "tags": []
   },
   "outputs": [],
   "source": [
    "final_rf = finalize_model(rf)"
   ]
  },
  {
   "cell_type": "code",
   "execution_count": 31,
   "id": "44a65907-9e42-4253-889b-80d01ce9f07e",
   "metadata": {
    "tags": []
   },
   "outputs": [],
   "source": [
    "final_et = finalize_model(et)"
   ]
  },
  {
   "cell_type": "code",
   "execution_count": 35,
   "id": "e7915a3b-fe96-434a-b0f2-ae9f274b2cfe",
   "metadata": {
    "tags": []
   },
   "outputs": [],
   "source": [
    "final_xgboost = finalize_model(xgboost)"
   ]
  },
  {
   "cell_type": "markdown",
   "id": "dbff1069-539b-4293-99ac-9fff83feac40",
   "metadata": {},
   "source": [
    "### **Now, we will invoke the holdout set as unseen data**"
   ]
  },
  {
   "cell_type": "markdown",
   "id": "1695f3cd-aa3a-4ec9-8cea-e98701fb8672",
   "metadata": {
    "tags": []
   },
   "source": [
    "**Unseen data**"
   ]
  },
  {
   "cell_type": "code",
   "execution_count": 39,
   "id": "dc524caf-625a-4f55-9415-fe6aa62ea12a",
   "metadata": {
    "tags": []
   },
   "outputs": [],
   "source": [
    "unseen_df = pd.read_csv(\"data/holdout_set.csv\")"
   ]
  },
  {
   "cell_type": "code",
   "execution_count": 42,
   "id": "ae6750cf-ecb9-4e4d-b56b-fd59de73219c",
   "metadata": {
    "tags": []
   },
   "outputs": [
    {
     "name": "stdout",
     "output_type": "stream",
     "text": [
      "  molecule_chembl_id                                standardized_smiles  \\\n",
      "0      CHEMBL3797384         COn1c(-c2ccccc2)cc2cc3c(cc21)C(=O)N(C)C3=O   \n",
      "1      CHEMBL3264953               CC1CCC/C1=N\\Nc1nc(-c2ccc(C#N)cc2)cs1   \n",
      "2      CHEMBL4162079  Cc1c2c(nn1-c1ccc(/C=N/NC(=S)NCc3ccccc3)cc1)-c1...   \n",
      "3      CHEMBL4176756  N[C@H]1CC[C@@H](N[C@H]2[C@H]3Cc4ccccc4[C@H]32)CC1   \n",
      "4      CHEMBL4792506                 O=C(Nc1ccccc1)OC1CCCN(Cc2ccccc2)C1   \n",
      "\n",
      "      pIC50  Class  \n",
      "0  5.906578      1  \n",
      "1  5.365523      1  \n",
      "2  4.118045      0  \n",
      "3  4.000000      0  \n",
      "4  4.000000      0  \n",
      "(389, 4)\n"
     ]
    }
   ],
   "source": [
    "print(unseen_df.head())\n",
    "print(unseen_df.shape)"
   ]
  },
  {
   "cell_type": "markdown",
   "id": "6f23d2e3-7f01-496a-8378-57fde5fc7eda",
   "metadata": {},
   "source": [
    "**Calculate MACCS fingerprints**"
   ]
  },
  {
   "cell_type": "code",
   "execution_count": 43,
   "id": "cc54c5e2-793d-4a84-a2c7-32366d62ae54",
   "metadata": {
    "tags": []
   },
   "outputs": [],
   "source": [
    "# Convert SMILES to RDKit Mol objects\n",
    "unseen_df['molecule'] = unseen_df['standardized_smiles'].apply(Chem.MolFromSmiles)\n",
    "\n",
    "# Calculate MACCS fingerprints\n",
    "fingerprints = []\n",
    "\n",
    "for mol in unseen_df['molecule']:\n",
    "    if mol is not None:\n",
    "        fp = MACCSkeys.GenMACCSKeys(mol)\n",
    "        fp_bits = list(fp.ToBitString())\n",
    "        # Note: MACCSKey 0 is unused, so we remove the first bit\n",
    "        fp_bits = fp_bits[1:]\n",
    "    else:\n",
    "        fp_bits = [None] * 166\n",
    "    fingerprints.append(fp_bits)\n",
    "\n",
    "# Convert to DataFrame\n",
    "maccs_df = pd.DataFrame(fingerprints, columns=[f'MACCS_{i}' for i in range(1, 167)])"
   ]
  },
  {
   "cell_type": "code",
   "execution_count": 44,
   "id": "bb158a37-4130-4479-b422-eccd23c4f903",
   "metadata": {
    "tags": []
   },
   "outputs": [
    {
     "data": {
      "text/plain": [
       "(389, 166)"
      ]
     },
     "execution_count": 44,
     "metadata": {},
     "output_type": "execute_result"
    }
   ],
   "source": [
    "maccs_df.shape"
   ]
  },
  {
   "cell_type": "code",
   "execution_count": 45,
   "id": "19e2f2ec-0173-4e8f-825a-1c962f684d04",
   "metadata": {
    "tags": []
   },
   "outputs": [],
   "source": [
    "# Combine with original data and the descriptors\n",
    "unseen_df = pd.concat([unseen_df, maccs_df], axis=1)"
   ]
  },
  {
   "cell_type": "code",
   "execution_count": 46,
   "id": "28c05e7b-c291-4654-ac39-f29d34d7cf7e",
   "metadata": {
    "tags": []
   },
   "outputs": [],
   "source": [
    "unseen_df.to_csv(\"data/05_mao_a_maccs_fingerprints_unseen.csv\", index=False)"
   ]
  },
  {
   "cell_type": "code",
   "execution_count": 47,
   "id": "289b1a41-cf9d-42d1-bfa5-813b2de89497",
   "metadata": {
    "tags": []
   },
   "outputs": [],
   "source": [
    "descriptors = pd.read_csv(\"data/04_mao_a_maccs_fp_selected.csv\")"
   ]
  },
  {
   "cell_type": "code",
   "execution_count": 48,
   "id": "b8970d38-0ef9-4a2b-a3c4-ce0d0b0fd31b",
   "metadata": {
    "tags": []
   },
   "outputs": [
    {
     "data": {
      "text/plain": [
       "(1556, 88)"
      ]
     },
     "execution_count": 48,
     "metadata": {},
     "output_type": "execute_result"
    }
   ],
   "source": [
    "descriptors.shape"
   ]
  },
  {
   "cell_type": "code",
   "execution_count": 49,
   "id": "e6d03078-4740-4864-82cb-f3e924a493e8",
   "metadata": {
    "tags": []
   },
   "outputs": [
    {
     "data": {
      "text/plain": [
       "(389, 171)"
      ]
     },
     "execution_count": 49,
     "metadata": {},
     "output_type": "execute_result"
    }
   ],
   "source": [
    "unseen_df.shape"
   ]
  },
  {
   "cell_type": "markdown",
   "id": "a038d85e-de56-475c-9ca9-a9af8fa734e4",
   "metadata": {},
   "source": [
    "**Extract the common descriptors between train_test set and unseen data**"
   ]
  },
  {
   "cell_type": "code",
   "execution_count": 50,
   "id": "577d9316-8b3b-4651-9618-e77f3b129468",
   "metadata": {
    "tags": []
   },
   "outputs": [
    {
     "data": {
      "text/plain": [
       "Index(['MACCS_8', 'MACCS_13', 'MACCS_17', 'MACCS_19', 'MACCS_22', 'MACCS_23',\n",
       "       'MACCS_24', 'MACCS_25', 'MACCS_28', 'MACCS_32', 'MACCS_34', 'MACCS_36',\n",
       "       'MACCS_37', 'MACCS_38', 'MACCS_41', 'MACCS_42', 'MACCS_43', 'MACCS_46',\n",
       "       'MACCS_50', 'MACCS_52', 'MACCS_53', 'MACCS_54', 'MACCS_57', 'MACCS_59',\n",
       "       'MACCS_62', 'MACCS_65', 'MACCS_66', 'MACCS_69', 'MACCS_72', 'MACCS_74',\n",
       "       'MACCS_75', 'MACCS_77', 'MACCS_78', 'MACCS_80', 'MACCS_82', 'MACCS_83',\n",
       "       'MACCS_84', 'MACCS_87', 'MACCS_89', 'MACCS_90', 'MACCS_91', 'MACCS_92',\n",
       "       'MACCS_93', 'MACCS_95', 'MACCS_97', 'MACCS_98', 'MACCS_99', 'MACCS_100',\n",
       "       'MACCS_101', 'MACCS_103', 'MACCS_104', 'MACCS_106', 'MACCS_108',\n",
       "       'MACCS_109', 'MACCS_111', 'MACCS_112', 'MACCS_113', 'MACCS_114',\n",
       "       'MACCS_115', 'MACCS_116', 'MACCS_118', 'MACCS_120', 'MACCS_121',\n",
       "       'MACCS_123', 'MACCS_125', 'MACCS_126', 'MACCS_131', 'MACCS_132',\n",
       "       'MACCS_133', 'MACCS_136', 'MACCS_137', 'MACCS_139', 'MACCS_140',\n",
       "       'MACCS_141', 'MACCS_142', 'MACCS_144', 'MACCS_145', 'MACCS_146',\n",
       "       'MACCS_149', 'MACCS_150', 'MACCS_151', 'MACCS_154', 'MACCS_156',\n",
       "       'MACCS_158', 'MACCS_159', 'MACCS_160', 'MACCS_162', 'MACCS_164'],\n",
       "      dtype='object')"
      ]
     },
     "execution_count": 50,
     "metadata": {},
     "output_type": "execute_result"
    }
   ],
   "source": [
    "common_features = descriptors.columns.intersection(unseen_df.columns)\n",
    "common_features"
   ]
  },
  {
   "cell_type": "code",
   "execution_count": 51,
   "id": "7139ada3-09dc-4dfb-8ce5-25ea002f2698",
   "metadata": {
    "tags": []
   },
   "outputs": [
    {
     "data": {
      "text/html": [
       "<div>\n",
       "<style scoped>\n",
       "    .dataframe tbody tr th:only-of-type {\n",
       "        vertical-align: middle;\n",
       "    }\n",
       "\n",
       "    .dataframe tbody tr th {\n",
       "        vertical-align: top;\n",
       "    }\n",
       "\n",
       "    .dataframe thead th {\n",
       "        text-align: right;\n",
       "    }\n",
       "</style>\n",
       "<table border=\"1\" class=\"dataframe\">\n",
       "  <thead>\n",
       "    <tr style=\"text-align: right;\">\n",
       "      <th></th>\n",
       "      <th>MACCS_8</th>\n",
       "      <th>MACCS_13</th>\n",
       "      <th>MACCS_17</th>\n",
       "      <th>MACCS_19</th>\n",
       "      <th>MACCS_22</th>\n",
       "      <th>MACCS_23</th>\n",
       "      <th>MACCS_24</th>\n",
       "      <th>MACCS_25</th>\n",
       "      <th>MACCS_28</th>\n",
       "      <th>MACCS_32</th>\n",
       "      <th>...</th>\n",
       "      <th>MACCS_149</th>\n",
       "      <th>MACCS_150</th>\n",
       "      <th>MACCS_151</th>\n",
       "      <th>MACCS_154</th>\n",
       "      <th>MACCS_156</th>\n",
       "      <th>MACCS_158</th>\n",
       "      <th>MACCS_159</th>\n",
       "      <th>MACCS_160</th>\n",
       "      <th>MACCS_162</th>\n",
       "      <th>MACCS_164</th>\n",
       "    </tr>\n",
       "  </thead>\n",
       "  <tbody>\n",
       "    <tr>\n",
       "      <th>0</th>\n",
       "      <td>0</td>\n",
       "      <td>1</td>\n",
       "      <td>0</td>\n",
       "      <td>0</td>\n",
       "      <td>0</td>\n",
       "      <td>0</td>\n",
       "      <td>1</td>\n",
       "      <td>0</td>\n",
       "      <td>0</td>\n",
       "      <td>0</td>\n",
       "      <td>...</td>\n",
       "      <td>1</td>\n",
       "      <td>1</td>\n",
       "      <td>0</td>\n",
       "      <td>1</td>\n",
       "      <td>1</td>\n",
       "      <td>1</td>\n",
       "      <td>1</td>\n",
       "      <td>1</td>\n",
       "      <td>1</td>\n",
       "      <td>1</td>\n",
       "    </tr>\n",
       "    <tr>\n",
       "      <th>1</th>\n",
       "      <td>0</td>\n",
       "      <td>0</td>\n",
       "      <td>0</td>\n",
       "      <td>0</td>\n",
       "      <td>0</td>\n",
       "      <td>0</td>\n",
       "      <td>0</td>\n",
       "      <td>0</td>\n",
       "      <td>0</td>\n",
       "      <td>0</td>\n",
       "      <td>...</td>\n",
       "      <td>0</td>\n",
       "      <td>1</td>\n",
       "      <td>1</td>\n",
       "      <td>0</td>\n",
       "      <td>1</td>\n",
       "      <td>1</td>\n",
       "      <td>0</td>\n",
       "      <td>1</td>\n",
       "      <td>1</td>\n",
       "      <td>0</td>\n",
       "    </tr>\n",
       "    <tr>\n",
       "      <th>2</th>\n",
       "      <td>0</td>\n",
       "      <td>0</td>\n",
       "      <td>0</td>\n",
       "      <td>0</td>\n",
       "      <td>0</td>\n",
       "      <td>0</td>\n",
       "      <td>0</td>\n",
       "      <td>0</td>\n",
       "      <td>0</td>\n",
       "      <td>1</td>\n",
       "      <td>...</td>\n",
       "      <td>1</td>\n",
       "      <td>1</td>\n",
       "      <td>1</td>\n",
       "      <td>0</td>\n",
       "      <td>1</td>\n",
       "      <td>1</td>\n",
       "      <td>1</td>\n",
       "      <td>1</td>\n",
       "      <td>1</td>\n",
       "      <td>1</td>\n",
       "    </tr>\n",
       "    <tr>\n",
       "      <th>3</th>\n",
       "      <td>0</td>\n",
       "      <td>0</td>\n",
       "      <td>0</td>\n",
       "      <td>0</td>\n",
       "      <td>1</td>\n",
       "      <td>0</td>\n",
       "      <td>0</td>\n",
       "      <td>0</td>\n",
       "      <td>0</td>\n",
       "      <td>0</td>\n",
       "      <td>...</td>\n",
       "      <td>0</td>\n",
       "      <td>0</td>\n",
       "      <td>1</td>\n",
       "      <td>0</td>\n",
       "      <td>1</td>\n",
       "      <td>1</td>\n",
       "      <td>0</td>\n",
       "      <td>0</td>\n",
       "      <td>1</td>\n",
       "      <td>0</td>\n",
       "    </tr>\n",
       "    <tr>\n",
       "      <th>4</th>\n",
       "      <td>0</td>\n",
       "      <td>0</td>\n",
       "      <td>0</td>\n",
       "      <td>0</td>\n",
       "      <td>0</td>\n",
       "      <td>1</td>\n",
       "      <td>0</td>\n",
       "      <td>0</td>\n",
       "      <td>0</td>\n",
       "      <td>0</td>\n",
       "      <td>...</td>\n",
       "      <td>0</td>\n",
       "      <td>0</td>\n",
       "      <td>1</td>\n",
       "      <td>1</td>\n",
       "      <td>1</td>\n",
       "      <td>1</td>\n",
       "      <td>1</td>\n",
       "      <td>0</td>\n",
       "      <td>1</td>\n",
       "      <td>1</td>\n",
       "    </tr>\n",
       "    <tr>\n",
       "      <th>...</th>\n",
       "      <td>...</td>\n",
       "      <td>...</td>\n",
       "      <td>...</td>\n",
       "      <td>...</td>\n",
       "      <td>...</td>\n",
       "      <td>...</td>\n",
       "      <td>...</td>\n",
       "      <td>...</td>\n",
       "      <td>...</td>\n",
       "      <td>...</td>\n",
       "      <td>...</td>\n",
       "      <td>...</td>\n",
       "      <td>...</td>\n",
       "      <td>...</td>\n",
       "      <td>...</td>\n",
       "      <td>...</td>\n",
       "      <td>...</td>\n",
       "      <td>...</td>\n",
       "      <td>...</td>\n",
       "      <td>...</td>\n",
       "      <td>...</td>\n",
       "    </tr>\n",
       "    <tr>\n",
       "      <th>384</th>\n",
       "      <td>0</td>\n",
       "      <td>0</td>\n",
       "      <td>0</td>\n",
       "      <td>0</td>\n",
       "      <td>0</td>\n",
       "      <td>0</td>\n",
       "      <td>0</td>\n",
       "      <td>0</td>\n",
       "      <td>0</td>\n",
       "      <td>0</td>\n",
       "      <td>...</td>\n",
       "      <td>0</td>\n",
       "      <td>1</td>\n",
       "      <td>0</td>\n",
       "      <td>1</td>\n",
       "      <td>0</td>\n",
       "      <td>1</td>\n",
       "      <td>1</td>\n",
       "      <td>1</td>\n",
       "      <td>1</td>\n",
       "      <td>1</td>\n",
       "    </tr>\n",
       "    <tr>\n",
       "      <th>385</th>\n",
       "      <td>0</td>\n",
       "      <td>0</td>\n",
       "      <td>1</td>\n",
       "      <td>0</td>\n",
       "      <td>0</td>\n",
       "      <td>0</td>\n",
       "      <td>0</td>\n",
       "      <td>0</td>\n",
       "      <td>0</td>\n",
       "      <td>0</td>\n",
       "      <td>...</td>\n",
       "      <td>0</td>\n",
       "      <td>0</td>\n",
       "      <td>0</td>\n",
       "      <td>1</td>\n",
       "      <td>0</td>\n",
       "      <td>1</td>\n",
       "      <td>1</td>\n",
       "      <td>0</td>\n",
       "      <td>1</td>\n",
       "      <td>1</td>\n",
       "    </tr>\n",
       "    <tr>\n",
       "      <th>386</th>\n",
       "      <td>0</td>\n",
       "      <td>0</td>\n",
       "      <td>0</td>\n",
       "      <td>0</td>\n",
       "      <td>0</td>\n",
       "      <td>0</td>\n",
       "      <td>0</td>\n",
       "      <td>0</td>\n",
       "      <td>0</td>\n",
       "      <td>0</td>\n",
       "      <td>...</td>\n",
       "      <td>0</td>\n",
       "      <td>1</td>\n",
       "      <td>0</td>\n",
       "      <td>0</td>\n",
       "      <td>1</td>\n",
       "      <td>1</td>\n",
       "      <td>1</td>\n",
       "      <td>1</td>\n",
       "      <td>1</td>\n",
       "      <td>1</td>\n",
       "    </tr>\n",
       "    <tr>\n",
       "      <th>387</th>\n",
       "      <td>0</td>\n",
       "      <td>0</td>\n",
       "      <td>0</td>\n",
       "      <td>0</td>\n",
       "      <td>0</td>\n",
       "      <td>0</td>\n",
       "      <td>0</td>\n",
       "      <td>0</td>\n",
       "      <td>0</td>\n",
       "      <td>0</td>\n",
       "      <td>...</td>\n",
       "      <td>0</td>\n",
       "      <td>1</td>\n",
       "      <td>1</td>\n",
       "      <td>0</td>\n",
       "      <td>1</td>\n",
       "      <td>0</td>\n",
       "      <td>1</td>\n",
       "      <td>0</td>\n",
       "      <td>1</td>\n",
       "      <td>1</td>\n",
       "    </tr>\n",
       "    <tr>\n",
       "      <th>388</th>\n",
       "      <td>0</td>\n",
       "      <td>0</td>\n",
       "      <td>0</td>\n",
       "      <td>0</td>\n",
       "      <td>0</td>\n",
       "      <td>0</td>\n",
       "      <td>0</td>\n",
       "      <td>0</td>\n",
       "      <td>0</td>\n",
       "      <td>0</td>\n",
       "      <td>...</td>\n",
       "      <td>0</td>\n",
       "      <td>0</td>\n",
       "      <td>1</td>\n",
       "      <td>1</td>\n",
       "      <td>1</td>\n",
       "      <td>1</td>\n",
       "      <td>1</td>\n",
       "      <td>0</td>\n",
       "      <td>1</td>\n",
       "      <td>1</td>\n",
       "    </tr>\n",
       "  </tbody>\n",
       "</table>\n",
       "<p>389 rows × 88 columns</p>\n",
       "</div>"
      ],
      "text/plain": [
       "    MACCS_8 MACCS_13 MACCS_17 MACCS_19 MACCS_22 MACCS_23 MACCS_24 MACCS_25  \\\n",
       "0         0        1        0        0        0        0        1        0   \n",
       "1         0        0        0        0        0        0        0        0   \n",
       "2         0        0        0        0        0        0        0        0   \n",
       "3         0        0        0        0        1        0        0        0   \n",
       "4         0        0        0        0        0        1        0        0   \n",
       "..      ...      ...      ...      ...      ...      ...      ...      ...   \n",
       "384       0        0        0        0        0        0        0        0   \n",
       "385       0        0        1        0        0        0        0        0   \n",
       "386       0        0        0        0        0        0        0        0   \n",
       "387       0        0        0        0        0        0        0        0   \n",
       "388       0        0        0        0        0        0        0        0   \n",
       "\n",
       "    MACCS_28 MACCS_32  ... MACCS_149 MACCS_150 MACCS_151 MACCS_154 MACCS_156  \\\n",
       "0          0        0  ...         1         1         0         1         1   \n",
       "1          0        0  ...         0         1         1         0         1   \n",
       "2          0        1  ...         1         1         1         0         1   \n",
       "3          0        0  ...         0         0         1         0         1   \n",
       "4          0        0  ...         0         0         1         1         1   \n",
       "..       ...      ...  ...       ...       ...       ...       ...       ...   \n",
       "384        0        0  ...         0         1         0         1         0   \n",
       "385        0        0  ...         0         0         0         1         0   \n",
       "386        0        0  ...         0         1         0         0         1   \n",
       "387        0        0  ...         0         1         1         0         1   \n",
       "388        0        0  ...         0         0         1         1         1   \n",
       "\n",
       "    MACCS_158 MACCS_159 MACCS_160 MACCS_162 MACCS_164  \n",
       "0           1         1         1         1         1  \n",
       "1           1         0         1         1         0  \n",
       "2           1         1         1         1         1  \n",
       "3           1         0         0         1         0  \n",
       "4           1         1         0         1         1  \n",
       "..        ...       ...       ...       ...       ...  \n",
       "384         1         1         1         1         1  \n",
       "385         1         1         0         1         1  \n",
       "386         1         1         1         1         1  \n",
       "387         0         1         0         1         1  \n",
       "388         1         1         0         1         1  \n",
       "\n",
       "[389 rows x 88 columns]"
      ]
     },
     "execution_count": 51,
     "metadata": {},
     "output_type": "execute_result"
    }
   ],
   "source": [
    "subset = unseen_df[common_features]\n",
    "subset"
   ]
  },
  {
   "cell_type": "code",
   "execution_count": 52,
   "id": "ad2d3ba5-dbac-49bc-bb85-488a63b0730f",
   "metadata": {
    "tags": []
   },
   "outputs": [
    {
     "data": {
      "text/html": [
       "<div>\n",
       "<style scoped>\n",
       "    .dataframe tbody tr th:only-of-type {\n",
       "        vertical-align: middle;\n",
       "    }\n",
       "\n",
       "    .dataframe tbody tr th {\n",
       "        vertical-align: top;\n",
       "    }\n",
       "\n",
       "    .dataframe thead th {\n",
       "        text-align: right;\n",
       "    }\n",
       "</style>\n",
       "<table border=\"1\" class=\"dataframe\">\n",
       "  <thead>\n",
       "    <tr style=\"text-align: right;\">\n",
       "      <th></th>\n",
       "      <th>MACCS_8</th>\n",
       "      <th>MACCS_13</th>\n",
       "      <th>MACCS_17</th>\n",
       "      <th>MACCS_19</th>\n",
       "      <th>MACCS_22</th>\n",
       "      <th>MACCS_23</th>\n",
       "      <th>MACCS_24</th>\n",
       "      <th>MACCS_25</th>\n",
       "      <th>MACCS_28</th>\n",
       "      <th>MACCS_32</th>\n",
       "      <th>...</th>\n",
       "      <th>MACCS_149</th>\n",
       "      <th>MACCS_150</th>\n",
       "      <th>MACCS_151</th>\n",
       "      <th>MACCS_154</th>\n",
       "      <th>MACCS_156</th>\n",
       "      <th>MACCS_158</th>\n",
       "      <th>MACCS_159</th>\n",
       "      <th>MACCS_160</th>\n",
       "      <th>MACCS_162</th>\n",
       "      <th>MACCS_164</th>\n",
       "    </tr>\n",
       "  </thead>\n",
       "  <tbody>\n",
       "    <tr>\n",
       "      <th>0</th>\n",
       "      <td>0</td>\n",
       "      <td>1</td>\n",
       "      <td>0</td>\n",
       "      <td>0</td>\n",
       "      <td>0</td>\n",
       "      <td>0</td>\n",
       "      <td>1</td>\n",
       "      <td>0</td>\n",
       "      <td>0</td>\n",
       "      <td>0</td>\n",
       "      <td>...</td>\n",
       "      <td>1</td>\n",
       "      <td>1</td>\n",
       "      <td>0</td>\n",
       "      <td>1</td>\n",
       "      <td>1</td>\n",
       "      <td>1</td>\n",
       "      <td>1</td>\n",
       "      <td>1</td>\n",
       "      <td>1</td>\n",
       "      <td>1</td>\n",
       "    </tr>\n",
       "    <tr>\n",
       "      <th>1</th>\n",
       "      <td>0</td>\n",
       "      <td>0</td>\n",
       "      <td>0</td>\n",
       "      <td>0</td>\n",
       "      <td>0</td>\n",
       "      <td>0</td>\n",
       "      <td>0</td>\n",
       "      <td>0</td>\n",
       "      <td>0</td>\n",
       "      <td>0</td>\n",
       "      <td>...</td>\n",
       "      <td>0</td>\n",
       "      <td>1</td>\n",
       "      <td>1</td>\n",
       "      <td>0</td>\n",
       "      <td>1</td>\n",
       "      <td>1</td>\n",
       "      <td>0</td>\n",
       "      <td>1</td>\n",
       "      <td>1</td>\n",
       "      <td>0</td>\n",
       "    </tr>\n",
       "    <tr>\n",
       "      <th>2</th>\n",
       "      <td>0</td>\n",
       "      <td>0</td>\n",
       "      <td>0</td>\n",
       "      <td>0</td>\n",
       "      <td>0</td>\n",
       "      <td>0</td>\n",
       "      <td>0</td>\n",
       "      <td>0</td>\n",
       "      <td>0</td>\n",
       "      <td>1</td>\n",
       "      <td>...</td>\n",
       "      <td>1</td>\n",
       "      <td>1</td>\n",
       "      <td>1</td>\n",
       "      <td>0</td>\n",
       "      <td>1</td>\n",
       "      <td>1</td>\n",
       "      <td>1</td>\n",
       "      <td>1</td>\n",
       "      <td>1</td>\n",
       "      <td>1</td>\n",
       "    </tr>\n",
       "    <tr>\n",
       "      <th>3</th>\n",
       "      <td>0</td>\n",
       "      <td>0</td>\n",
       "      <td>0</td>\n",
       "      <td>0</td>\n",
       "      <td>1</td>\n",
       "      <td>0</td>\n",
       "      <td>0</td>\n",
       "      <td>0</td>\n",
       "      <td>0</td>\n",
       "      <td>0</td>\n",
       "      <td>...</td>\n",
       "      <td>0</td>\n",
       "      <td>0</td>\n",
       "      <td>1</td>\n",
       "      <td>0</td>\n",
       "      <td>1</td>\n",
       "      <td>1</td>\n",
       "      <td>0</td>\n",
       "      <td>0</td>\n",
       "      <td>1</td>\n",
       "      <td>0</td>\n",
       "    </tr>\n",
       "    <tr>\n",
       "      <th>4</th>\n",
       "      <td>0</td>\n",
       "      <td>0</td>\n",
       "      <td>0</td>\n",
       "      <td>0</td>\n",
       "      <td>0</td>\n",
       "      <td>1</td>\n",
       "      <td>0</td>\n",
       "      <td>0</td>\n",
       "      <td>0</td>\n",
       "      <td>0</td>\n",
       "      <td>...</td>\n",
       "      <td>0</td>\n",
       "      <td>0</td>\n",
       "      <td>1</td>\n",
       "      <td>1</td>\n",
       "      <td>1</td>\n",
       "      <td>1</td>\n",
       "      <td>1</td>\n",
       "      <td>0</td>\n",
       "      <td>1</td>\n",
       "      <td>1</td>\n",
       "    </tr>\n",
       "    <tr>\n",
       "      <th>...</th>\n",
       "      <td>...</td>\n",
       "      <td>...</td>\n",
       "      <td>...</td>\n",
       "      <td>...</td>\n",
       "      <td>...</td>\n",
       "      <td>...</td>\n",
       "      <td>...</td>\n",
       "      <td>...</td>\n",
       "      <td>...</td>\n",
       "      <td>...</td>\n",
       "      <td>...</td>\n",
       "      <td>...</td>\n",
       "      <td>...</td>\n",
       "      <td>...</td>\n",
       "      <td>...</td>\n",
       "      <td>...</td>\n",
       "      <td>...</td>\n",
       "      <td>...</td>\n",
       "      <td>...</td>\n",
       "      <td>...</td>\n",
       "      <td>...</td>\n",
       "    </tr>\n",
       "    <tr>\n",
       "      <th>384</th>\n",
       "      <td>0</td>\n",
       "      <td>0</td>\n",
       "      <td>0</td>\n",
       "      <td>0</td>\n",
       "      <td>0</td>\n",
       "      <td>0</td>\n",
       "      <td>0</td>\n",
       "      <td>0</td>\n",
       "      <td>0</td>\n",
       "      <td>0</td>\n",
       "      <td>...</td>\n",
       "      <td>0</td>\n",
       "      <td>1</td>\n",
       "      <td>0</td>\n",
       "      <td>1</td>\n",
       "      <td>0</td>\n",
       "      <td>1</td>\n",
       "      <td>1</td>\n",
       "      <td>1</td>\n",
       "      <td>1</td>\n",
       "      <td>1</td>\n",
       "    </tr>\n",
       "    <tr>\n",
       "      <th>385</th>\n",
       "      <td>0</td>\n",
       "      <td>0</td>\n",
       "      <td>1</td>\n",
       "      <td>0</td>\n",
       "      <td>0</td>\n",
       "      <td>0</td>\n",
       "      <td>0</td>\n",
       "      <td>0</td>\n",
       "      <td>0</td>\n",
       "      <td>0</td>\n",
       "      <td>...</td>\n",
       "      <td>0</td>\n",
       "      <td>0</td>\n",
       "      <td>0</td>\n",
       "      <td>1</td>\n",
       "      <td>0</td>\n",
       "      <td>1</td>\n",
       "      <td>1</td>\n",
       "      <td>0</td>\n",
       "      <td>1</td>\n",
       "      <td>1</td>\n",
       "    </tr>\n",
       "    <tr>\n",
       "      <th>386</th>\n",
       "      <td>0</td>\n",
       "      <td>0</td>\n",
       "      <td>0</td>\n",
       "      <td>0</td>\n",
       "      <td>0</td>\n",
       "      <td>0</td>\n",
       "      <td>0</td>\n",
       "      <td>0</td>\n",
       "      <td>0</td>\n",
       "      <td>0</td>\n",
       "      <td>...</td>\n",
       "      <td>0</td>\n",
       "      <td>1</td>\n",
       "      <td>0</td>\n",
       "      <td>0</td>\n",
       "      <td>1</td>\n",
       "      <td>1</td>\n",
       "      <td>1</td>\n",
       "      <td>1</td>\n",
       "      <td>1</td>\n",
       "      <td>1</td>\n",
       "    </tr>\n",
       "    <tr>\n",
       "      <th>387</th>\n",
       "      <td>0</td>\n",
       "      <td>0</td>\n",
       "      <td>0</td>\n",
       "      <td>0</td>\n",
       "      <td>0</td>\n",
       "      <td>0</td>\n",
       "      <td>0</td>\n",
       "      <td>0</td>\n",
       "      <td>0</td>\n",
       "      <td>0</td>\n",
       "      <td>...</td>\n",
       "      <td>0</td>\n",
       "      <td>1</td>\n",
       "      <td>1</td>\n",
       "      <td>0</td>\n",
       "      <td>1</td>\n",
       "      <td>0</td>\n",
       "      <td>1</td>\n",
       "      <td>0</td>\n",
       "      <td>1</td>\n",
       "      <td>1</td>\n",
       "    </tr>\n",
       "    <tr>\n",
       "      <th>388</th>\n",
       "      <td>0</td>\n",
       "      <td>0</td>\n",
       "      <td>0</td>\n",
       "      <td>0</td>\n",
       "      <td>0</td>\n",
       "      <td>0</td>\n",
       "      <td>0</td>\n",
       "      <td>0</td>\n",
       "      <td>0</td>\n",
       "      <td>0</td>\n",
       "      <td>...</td>\n",
       "      <td>0</td>\n",
       "      <td>0</td>\n",
       "      <td>1</td>\n",
       "      <td>1</td>\n",
       "      <td>1</td>\n",
       "      <td>1</td>\n",
       "      <td>1</td>\n",
       "      <td>0</td>\n",
       "      <td>1</td>\n",
       "      <td>1</td>\n",
       "    </tr>\n",
       "  </tbody>\n",
       "</table>\n",
       "<p>389 rows × 88 columns</p>\n",
       "</div>"
      ],
      "text/plain": [
       "    MACCS_8 MACCS_13 MACCS_17 MACCS_19 MACCS_22 MACCS_23 MACCS_24 MACCS_25  \\\n",
       "0         0        1        0        0        0        0        1        0   \n",
       "1         0        0        0        0        0        0        0        0   \n",
       "2         0        0        0        0        0        0        0        0   \n",
       "3         0        0        0        0        1        0        0        0   \n",
       "4         0        0        0        0        0        1        0        0   \n",
       "..      ...      ...      ...      ...      ...      ...      ...      ...   \n",
       "384       0        0        0        0        0        0        0        0   \n",
       "385       0        0        1        0        0        0        0        0   \n",
       "386       0        0        0        0        0        0        0        0   \n",
       "387       0        0        0        0        0        0        0        0   \n",
       "388       0        0        0        0        0        0        0        0   \n",
       "\n",
       "    MACCS_28 MACCS_32  ... MACCS_149 MACCS_150 MACCS_151 MACCS_154 MACCS_156  \\\n",
       "0          0        0  ...         1         1         0         1         1   \n",
       "1          0        0  ...         0         1         1         0         1   \n",
       "2          0        1  ...         1         1         1         0         1   \n",
       "3          0        0  ...         0         0         1         0         1   \n",
       "4          0        0  ...         0         0         1         1         1   \n",
       "..       ...      ...  ...       ...       ...       ...       ...       ...   \n",
       "384        0        0  ...         0         1         0         1         0   \n",
       "385        0        0  ...         0         0         0         1         0   \n",
       "386        0        0  ...         0         1         0         0         1   \n",
       "387        0        0  ...         0         1         1         0         1   \n",
       "388        0        0  ...         0         0         1         1         1   \n",
       "\n",
       "    MACCS_158 MACCS_159 MACCS_160 MACCS_162 MACCS_164  \n",
       "0           1         1         1         1         1  \n",
       "1           1         0         1         1         0  \n",
       "2           1         1         1         1         1  \n",
       "3           1         0         0         1         0  \n",
       "4           1         1         0         1         1  \n",
       "..        ...       ...       ...       ...       ...  \n",
       "384         1         1         1         1         1  \n",
       "385         1         1         0         1         1  \n",
       "386         1         1         1         1         1  \n",
       "387         0         1         0         1         1  \n",
       "388         1         1         0         1         1  \n",
       "\n",
       "[389 rows x 88 columns]"
      ]
     },
     "execution_count": 52,
     "metadata": {},
     "output_type": "execute_result"
    }
   ],
   "source": [
    "subset = subset.dropna()\n",
    "subset"
   ]
  },
  {
   "cell_type": "markdown",
   "id": "a828414b-3468-4c73-b776-c7e736206f63",
   "metadata": {},
   "source": [
    "**Rename the Class column**"
   ]
  },
  {
   "cell_type": "code",
   "execution_count": 53,
   "id": "86a70bd2-4fb4-452b-ad81-b617e113b73b",
   "metadata": {
    "tags": []
   },
   "outputs": [],
   "source": [
    "subset['true_class'] = unseen_df['Class'].values"
   ]
  },
  {
   "cell_type": "code",
   "execution_count": 56,
   "id": "98f45c62-64ec-4fa7-a184-c696e1a334f9",
   "metadata": {
    "tags": []
   },
   "outputs": [
    {
     "data": {
      "text/html": [],
      "text/plain": [
       "<IPython.core.display.HTML object>"
      ]
     },
     "metadata": {},
     "output_type": "display_data"
    },
    {
     "data": {
      "text/html": [],
      "text/plain": [
       "<IPython.core.display.HTML object>"
      ]
     },
     "metadata": {},
     "output_type": "display_data"
    },
    {
     "data": {
      "text/html": [],
      "text/plain": [
       "<IPython.core.display.HTML object>"
      ]
     },
     "metadata": {},
     "output_type": "display_data"
    }
   ],
   "source": [
    "from pycaret.classification import predict_model\n",
    "\n",
    "# Predict with ExtraTrees\n",
    "pred_et = predict_model(final_et, data=subset.drop(columns='true_class'))\n",
    "subset['pred_et'] = pred_et['prediction_label']\n",
    "\n",
    "# Predict with XGBoost\n",
    "pred_xgb = predict_model(final_xgboost, data=subset.drop(columns='true_class'))\n",
    "subset['pred_xgb'] = pred_xgb['prediction_label']\n",
    "\n",
    "# Predict with RandomForest\n",
    "pred_rf = predict_model(final_rf, data=subset.drop(columns='true_class'))\n",
    "subset['pred_rf'] = pred_rf['prediction_label']"
   ]
  },
  {
   "cell_type": "code",
   "execution_count": 57,
   "id": "f58f6c9c-f69a-4012-b0d1-a47cbdfbf176",
   "metadata": {
    "tags": []
   },
   "outputs": [
    {
     "name": "stdout",
     "output_type": "stream",
     "text": [
      "ExtraTrees Report:\n",
      "              precision    recall  f1-score   support\n",
      "\n",
      "           0       0.88      0.86      0.87       194\n",
      "           1       0.86      0.89      0.87       195\n",
      "\n",
      "    accuracy                           0.87       389\n",
      "   macro avg       0.87      0.87      0.87       389\n",
      "weighted avg       0.87      0.87      0.87       389\n",
      "\n",
      "XGBoost Report:\n",
      "              precision    recall  f1-score   support\n",
      "\n",
      "           0       0.88      0.84      0.86       194\n",
      "           1       0.85      0.88      0.86       195\n",
      "\n",
      "    accuracy                           0.86       389\n",
      "   macro avg       0.86      0.86      0.86       389\n",
      "weighted avg       0.86      0.86      0.86       389\n",
      "\n",
      "RandomForest Report:\n",
      "              precision    recall  f1-score   support\n",
      "\n",
      "           0       0.87      0.84      0.85       194\n",
      "           1       0.85      0.87      0.86       195\n",
      "\n",
      "    accuracy                           0.86       389\n",
      "   macro avg       0.86      0.86      0.86       389\n",
      "weighted avg       0.86      0.86      0.86       389\n",
      "\n"
     ]
    }
   ],
   "source": [
    "from sklearn.metrics import classification_report\n",
    "\n",
    "print(\"ExtraTrees Report:\")\n",
    "print(classification_report(subset['true_class'], subset['pred_et']))\n",
    "\n",
    "print(\"XGBoost Report:\")\n",
    "print(classification_report(subset['true_class'], subset['pred_xgb']))\n",
    "\n",
    "print(\"RandomForest Report:\")\n",
    "print(classification_report(subset['true_class'], subset['pred_rf']))"
   ]
  },
  {
   "cell_type": "code",
   "execution_count": 58,
   "id": "e35ed513-d4a3-4edf-a566-20f41313e0e1",
   "metadata": {
    "tags": []
   },
   "outputs": [
    {
     "data": {
      "text/html": [],
      "text/plain": [
       "<IPython.core.display.HTML object>"
      ]
     },
     "metadata": {},
     "output_type": "display_data"
    },
    {
     "data": {
      "text/html": [],
      "text/plain": [
       "<IPython.core.display.HTML object>"
      ]
     },
     "metadata": {},
     "output_type": "display_data"
    },
    {
     "data": {
      "text/html": [],
      "text/plain": [
       "<IPython.core.display.HTML object>"
      ]
     },
     "metadata": {},
     "output_type": "display_data"
    }
   ],
   "source": [
    "from pycaret.classification import predict_model\n",
    "\n",
    "# Predict with ExtraTrees\n",
    "pred_et = predict_model(et, data=subset.drop(columns='true_class'))\n",
    "subset['pred_et'] = pred_et['prediction_label']\n",
    "\n",
    "# Predict with XGBoost\n",
    "pred_xgb = predict_model(xgboost, data=subset.drop(columns='true_class'))\n",
    "subset['pred_xgb'] = pred_xgb['prediction_label']\n",
    "\n",
    "# Predict with RandomForest\n",
    "pred_rf = predict_model(rf, data=subset.drop(columns='true_class'))\n",
    "subset['pred_rf'] = pred_rf['prediction_label']"
   ]
  },
  {
   "cell_type": "code",
   "execution_count": 59,
   "id": "d3d5fcb3-1916-49de-b645-82cab41db5a0",
   "metadata": {
    "tags": []
   },
   "outputs": [
    {
     "name": "stdout",
     "output_type": "stream",
     "text": [
      "ExtraTrees Report:\n",
      "              precision    recall  f1-score   support\n",
      "\n",
      "           0       0.88      0.87      0.87       194\n",
      "           1       0.87      0.88      0.88       195\n",
      "\n",
      "    accuracy                           0.87       389\n",
      "   macro avg       0.87      0.87      0.87       389\n",
      "weighted avg       0.87      0.87      0.87       389\n",
      "\n",
      "XGBoost Report:\n",
      "              precision    recall  f1-score   support\n",
      "\n",
      "           0       0.87      0.82      0.85       194\n",
      "           1       0.83      0.88      0.86       195\n",
      "\n",
      "    accuracy                           0.85       389\n",
      "   macro avg       0.85      0.85      0.85       389\n",
      "weighted avg       0.85      0.85      0.85       389\n",
      "\n",
      "RandomForest Report:\n",
      "              precision    recall  f1-score   support\n",
      "\n",
      "           0       0.89      0.84      0.86       194\n",
      "           1       0.85      0.90      0.87       195\n",
      "\n",
      "    accuracy                           0.87       389\n",
      "   macro avg       0.87      0.87      0.87       389\n",
      "weighted avg       0.87      0.87      0.87       389\n",
      "\n"
     ]
    }
   ],
   "source": [
    "from sklearn.metrics import classification_report\n",
    "\n",
    "print(\"ExtraTrees Report:\")\n",
    "print(classification_report(subset['true_class'], subset['pred_et']))\n",
    "\n",
    "print(\"XGBoost Report:\")\n",
    "print(classification_report(subset['true_class'], subset['pred_xgb']))\n",
    "\n",
    "print(\"RandomForest Report:\")\n",
    "print(classification_report(subset['true_class'], subset['pred_rf']))"
   ]
  },
  {
   "cell_type": "code",
   "execution_count": 55,
   "id": "7fa5e3a6-3988-491d-bc91-07c937c831cb",
   "metadata": {
    "tags": []
   },
   "outputs": [
    {
     "data": {
      "text/html": [],
      "text/plain": [
       "<IPython.core.display.HTML object>"
      ]
     },
     "metadata": {},
     "output_type": "display_data"
    },
    {
     "name": "stdout",
     "output_type": "stream",
     "text": [
      "\n",
      "RandomForest Report (Before Finalization):\n",
      "              precision    recall  f1-score   support\n",
      "\n",
      "           0       0.89      0.84      0.86       194\n",
      "           1       0.85      0.90      0.87       195\n",
      "\n",
      "    accuracy                           0.87       389\n",
      "   macro avg       0.87      0.87      0.87       389\n",
      "weighted avg       0.87      0.87      0.87       389\n",
      "\n"
     ]
    },
    {
     "data": {
      "text/html": [],
      "text/plain": [
       "<IPython.core.display.HTML object>"
      ]
     },
     "metadata": {},
     "output_type": "display_data"
    },
    {
     "name": "stdout",
     "output_type": "stream",
     "text": [
      "RandomForest Report (After Finalization):\n",
      "              precision    recall  f1-score   support\n",
      "\n",
      "           0       0.87      0.84      0.85       194\n",
      "           1       0.85      0.87      0.86       195\n",
      "\n",
      "    accuracy                           0.86       389\n",
      "   macro avg       0.86      0.86      0.86       389\n",
      "weighted avg       0.86      0.86      0.86       389\n",
      "\n"
     ]
    },
    {
     "data": {
      "text/html": [],
      "text/plain": [
       "<IPython.core.display.HTML object>"
      ]
     },
     "metadata": {},
     "output_type": "display_data"
    },
    {
     "name": "stdout",
     "output_type": "stream",
     "text": [
      "\n",
      "ExtraTrees Report (Before Finalization):\n",
      "              precision    recall  f1-score   support\n",
      "\n",
      "           0       0.88      0.87      0.87       194\n",
      "           1       0.87      0.88      0.88       195\n",
      "\n",
      "    accuracy                           0.87       389\n",
      "   macro avg       0.87      0.87      0.87       389\n",
      "weighted avg       0.87      0.87      0.87       389\n",
      "\n"
     ]
    },
    {
     "data": {
      "text/html": [],
      "text/plain": [
       "<IPython.core.display.HTML object>"
      ]
     },
     "metadata": {},
     "output_type": "display_data"
    },
    {
     "name": "stdout",
     "output_type": "stream",
     "text": [
      "ExtraTrees Report (After Finalization):\n",
      "              precision    recall  f1-score   support\n",
      "\n",
      "           0       0.88      0.86      0.87       194\n",
      "           1       0.86      0.89      0.87       195\n",
      "\n",
      "    accuracy                           0.87       389\n",
      "   macro avg       0.87      0.87      0.87       389\n",
      "weighted avg       0.87      0.87      0.87       389\n",
      "\n"
     ]
    },
    {
     "data": {
      "text/html": [],
      "text/plain": [
       "<IPython.core.display.HTML object>"
      ]
     },
     "metadata": {},
     "output_type": "display_data"
    },
    {
     "name": "stdout",
     "output_type": "stream",
     "text": [
      "\n",
      "XGBoost Report (Before Finalization):\n",
      "              precision    recall  f1-score   support\n",
      "\n",
      "           0       0.87      0.82      0.85       194\n",
      "           1       0.83      0.88      0.86       195\n",
      "\n",
      "    accuracy                           0.85       389\n",
      "   macro avg       0.85      0.85      0.85       389\n",
      "weighted avg       0.85      0.85      0.85       389\n",
      "\n"
     ]
    },
    {
     "data": {
      "text/html": [],
      "text/plain": [
       "<IPython.core.display.HTML object>"
      ]
     },
     "metadata": {},
     "output_type": "display_data"
    },
    {
     "name": "stdout",
     "output_type": "stream",
     "text": [
      "XGBoost Report (After Finalization):\n",
      "              precision    recall  f1-score   support\n",
      "\n",
      "           0       0.88      0.84      0.86       194\n",
      "           1       0.85      0.88      0.86       195\n",
      "\n",
      "    accuracy                           0.86       389\n",
      "   macro avg       0.86      0.86      0.86       389\n",
      "weighted avg       0.86      0.86      0.86       389\n",
      "\n"
     ]
    }
   ],
   "source": [
    "from pycaret.classification import predict_model\n",
    "from sklearn.metrics import classification_report\n",
    "\n",
    "# Work on a copy of the data\n",
    "eval_df = subset.copy()\n",
    "X_eval = eval_df.drop(columns='true_class')\n",
    "\n",
    "# Dictionary of models: (non-finalized, finalized)\n",
    "models = {\n",
    "    'RandomForest': (rf, final_rf),\n",
    "    'ExtraTrees': (et, final_et),\n",
    "    'XGBoost': (xgboost, final_xgboost)\n",
    "}\n",
    "\n",
    "# Predict and report\n",
    "for name, (raw_model, final_model) in models.items():\n",
    "    # Non-finalized model\n",
    "    pred_raw = predict_model(raw_model, data=X_eval)\n",
    "    pred_col_raw = f'pred_{name.lower()}'\n",
    "    eval_df[pred_col_raw] = pred_raw['prediction_label']\n",
    "\n",
    "    print(f\"\\n{name} Report (Before Finalization):\")\n",
    "    print(classification_report(eval_df['true_class'], eval_df[pred_col_raw]))\n",
    "\n",
    "    # Finalized model\n",
    "    pred_final = predict_model(final_model, data=X_eval)\n",
    "    pred_col_final = f'final_pred_{name.lower()}'\n",
    "    eval_df[pred_col_final] = pred_final['prediction_label']\n",
    "\n",
    "    print(f\"{name} Report (After Finalization):\")\n",
    "    print(classification_report(eval_df['true_class'], eval_df[pred_col_final]))"
   ]
  },
  {
   "cell_type": "code",
   "execution_count": 61,
   "id": "1fb06ae2-e14d-41b3-a59a-dc65c58f1f9b",
   "metadata": {
    "tags": []
   },
   "outputs": [
    {
     "name": "stdout",
     "output_type": "stream",
     "text": [
      "AUC - Random Forest:   0.9261\n",
      "AUC - Extra Trees:     0.9143\n",
      "AUC - XGBoost:         0.9187\n"
     ]
    }
   ],
   "source": [
    "# Remove any label column from the feature names if it exists\n",
    "features_rf = [f for f in final_rf.feature_names_in_ if f != 'target']\n",
    "features_et = [f for f in final_et.feature_names_in_ if f != 'target']\n",
    "features_xgb = [f for f in final_xgboost.feature_names_in_ if f != 'target']\n",
    "\n",
    "# Subset the unseen data\n",
    "X_unseen_rf = subset[features_rf]\n",
    "X_unseen_et = subset[features_et]\n",
    "X_unseen_xgb = subset[features_xgb]\n",
    "\n",
    "# Predict probabilities for class 1\n",
    "proba_rf = final_rf.predict_proba(X_unseen_rf)[:, 1]\n",
    "proba_et = final_et.predict_proba(X_unseen_et)[:, 1]\n",
    "proba_xgb = final_xgboost.predict_proba(X_unseen_xgb)[:, 1]\n",
    "\n",
    "# Compute AUCs\n",
    "from sklearn.metrics import roc_auc_score\n",
    "\n",
    "y_true = subset['true_class']\n",
    "\n",
    "auc_rf = roc_auc_score(y_true, proba_rf)\n",
    "auc_et = roc_auc_score(y_true, proba_et)\n",
    "auc_xgb = roc_auc_score(y_true, proba_xgb)\n",
    "\n",
    "print(f\"AUC - Random Forest:   {auc_rf:.4f}\")\n",
    "print(f\"AUC - Extra Trees:     {auc_et:.4f}\")\n",
    "print(f\"AUC - XGBoost:         {auc_xgb:.4f}\")"
   ]
  },
  {
   "cell_type": "code",
   "execution_count": 62,
   "id": "209fcfb4-14c7-469e-8ce0-c11d06059899",
   "metadata": {
    "tags": []
   },
   "outputs": [
    {
     "name": "stdout",
     "output_type": "stream",
     "text": [
      "     Model  Accuracy     AUC  Recall  Precision      F1   Kappa     MCC\n",
      "0       rf    0.8560  0.9261  0.8718     0.8458  0.8586  0.7121  0.7124\n",
      "1       et    0.8715  0.9143  0.8872     0.8607  0.8737  0.7429  0.7433\n",
      "2  xgboost    0.8612  0.9187  0.8821     0.8473  0.8643  0.7223  0.7229\n"
     ]
    }
   ],
   "source": [
    "import pandas as pd\n",
    "from sklearn.metrics import accuracy_score, precision_score, recall_score, f1_score, cohen_kappa_score, matthews_corrcoef\n",
    "\n",
    "# Helper to compute metrics\n",
    "def evaluate_model(y_true, y_pred, y_proba):\n",
    "    return {\n",
    "        'Accuracy': accuracy_score(y_true, y_pred),\n",
    "        'AUC': roc_auc_score(y_true, y_proba),\n",
    "        'Recall': recall_score(y_true, y_pred),\n",
    "        'Precision': precision_score(y_true, y_pred),\n",
    "        'F1': f1_score(y_true, y_pred),\n",
    "        'Kappa': cohen_kappa_score(y_true, y_pred),\n",
    "        'MCC': matthews_corrcoef(y_true, y_pred),\n",
    "    }\n",
    "\n",
    "# Predictions\n",
    "pred_rf = final_rf.predict(X_unseen_rf)\n",
    "pred_et = final_et.predict(X_unseen_et)\n",
    "pred_xgb = final_xgboost.predict(X_unseen_xgb)\n",
    "\n",
    "# Gather results\n",
    "results = [\n",
    "    ['rf'] + list(evaluate_model(y_true, pred_rf, proba_rf).values()),\n",
    "    ['et'] + list(evaluate_model(y_true, pred_et, proba_et).values()),\n",
    "    ['xgboost'] + list(evaluate_model(y_true, pred_xgb, proba_xgb).values()),\n",
    "]\n",
    "\n",
    "# DataFrame\n",
    "metrics_df = pd.DataFrame(results, columns=['Model', 'Accuracy', 'AUC', 'Recall', 'Precision', 'F1', 'Kappa', 'MCC'])\n",
    "metrics_df = metrics_df.round(4)\n",
    "print(metrics_df)"
   ]
  },
  {
   "cell_type": "code",
   "execution_count": 63,
   "id": "d1402e69-d59a-4851-8704-958de537da9d",
   "metadata": {
    "tags": []
   },
   "outputs": [],
   "source": [
    "from pycaret.classification import get_config\n",
    "\n",
    "X_test = get_config('X_test')\n",
    "y_test = get_config('y_test')"
   ]
  },
  {
   "cell_type": "code",
   "execution_count": 68,
   "id": "6b71766f-8b54-4e8d-971e-48d2d38d3d2d",
   "metadata": {
    "tags": []
   },
   "outputs": [
    {
     "data": {
      "image/png": "[encoded data removed]",
      "text/plain": [
       "<Figure size 1400x600 with 2 Axes>"
      ]
     },
     "metadata": {},
     "output_type": "display_data"
    }
   ],
   "source": [
    "import matplotlib.pyplot as plt\n",
    "from sklearn.metrics import roc_curve, roc_auc_score\n",
    "\n",
    "# 1. Prepare feature subsets for test and unseen data for each model\n",
    "# (Assuming you have test data features in `test_data` DataFrame and true labels in `y_test`)\n",
    "\n",
    "features_rf = [f for f in final_rf.feature_names_in_ if f != 'target']\n",
    "features_et = [f for f in final_et.feature_names_in_ if f != 'target']\n",
    "features_xgb = [f for f in final_xgboost.feature_names_in_ if f != 'target']\n",
    "\n",
    "X_test_rf = X_test[features_rf]\n",
    "X_test_et = X_test[features_et]\n",
    "X_test_xgb = X_test[features_xgb]\n",
    "\n",
    "X_unseen_rf = subset[features_rf]\n",
    "X_unseen_et = subset[features_et]\n",
    "X_unseen_xgb = subset[features_xgb]\n",
    "\n",
    "# 2. Get true labels for test and unseen datasets\n",
    "# y_test - actual labels for test data\n",
    "# y_true - actual labels for unseen data (subset['true_class'])\n",
    "\n",
    "# 3. Predict probabilities for class 1\n",
    "proba_test_rf = final_rf.predict_proba(X_test_rf)[:, 1]\n",
    "proba_test_et = final_et.predict_proba(X_test_et)[:, 1]\n",
    "proba_test_xgb = final_xgboost.predict_proba(X_test_xgb)[:, 1]\n",
    "\n",
    "proba_unseen_rf = final_rf.predict_proba(X_unseen_rf)[:, 1]\n",
    "proba_unseen_et = final_et.predict_proba(X_unseen_et)[:, 1]\n",
    "proba_unseen_xgb = final_xgboost.predict_proba(X_unseen_xgb)[:, 1]\n",
    "\n",
    "# 4. Calculate ROC curve and AUC for each\n",
    "def plot_roc(ax, y_true, probs, model_names, title):\n",
    "    for name, prob in zip(model_names, probs):\n",
    "        fpr, tpr, _ = roc_curve(y_true, prob)\n",
    "        auc = roc_auc_score(y_true, prob)\n",
    "        ax.plot(fpr, tpr, label=f'{name} (AUC = {auc:.3f})')\n",
    "    ax.plot([0, 1], [0, 1], 'k--')\n",
    "    ax.set_title(title)\n",
    "    ax.set_xlabel('False Positive Rate')\n",
    "    ax.set_ylabel('True Positive Rate')\n",
    "    ax.legend(loc='lower right')\n",
    "\n",
    "model_names = ['Random Forest', 'Extra Trees', 'XGBoost']\n",
    "\n",
    "# 5. Plot ROC curves\n",
    "fig, axs = plt.subplots(1, 2, figsize=(14, 6))\n",
    "\n",
    "plot_roc(axs[0], y_test, [proba_test_rf, proba_test_et, proba_test_xgb], model_names, 'ROC Curve - Test Data')\n",
    "plot_roc(axs[1], y_true, [proba_unseen_rf, proba_unseen_et, proba_unseen_xgb], model_names, 'ROC Curve - Unseen Data')\n",
    "\n",
    "plt.tight_layout()\n",
    "plt.show()"
   ]
  },
  {
   "cell_type": "code",
   "execution_count": 77,
   "id": "533a552f-fdc9-48be-8af5-6fb6f0bfc8a9",
   "metadata": {
    "tags": []
   },
   "outputs": [
    {
     "name": "stdout",
     "output_type": "stream",
     "text": [
      "\n",
      "Confusion Matrix for RandomForest (Final Model):\n",
      "[[163  31]\n",
      " [ 25 170]]\n",
      "\n",
      "Confusion Matrix for ExtraTrees (Final Model):\n",
      "[[166  28]\n",
      " [ 22 173]]\n",
      "\n",
      "Confusion Matrix for XGBoost (Final Model):\n",
      "[[163  31]\n",
      " [ 23 172]]\n"
     ]
    }
   ],
   "source": [
    "from sklearn.metrics import confusion_matrix\n",
    "\n",
    "# Finalized model prediction columns\n",
    "final_pred_cols = {\n",
    "    'RandomForest': 'final_pred_randomforest',\n",
    "    'ExtraTrees': 'final_pred_extratrees',\n",
    "    'XGBoost': 'final_pred_xgboost'\n",
    "}\n",
    "\n",
    "# Compute and print confusion matrices\n",
    "for model_name, pred_col in final_pred_cols.items():\n",
    "    cm = confusion_matrix(eval_df['true_class'], eval_df[pred_col])\n",
    "    print(f\"\\nConfusion Matrix for {model_name} (Final Model):\")\n",
    "    print(cm)"
   ]
  },
  {
   "cell_type": "code",
   "execution_count": 81,
   "id": "0c94a2b8-d844-477d-802d-73c8432f43fd",
   "metadata": {
    "tags": []
   },
   "outputs": [
    {
     "data": {
      "image/png": "[encoded data removed]",
      "text/plain": [
       "<Figure size 1800x500 with 3 Axes>"
      ]
     },
     "metadata": {},
     "output_type": "display_data"
    }
   ],
   "source": [
    "import matplotlib.pyplot as plt\n",
    "import seaborn as sns\n",
    "from sklearn.metrics import confusion_matrix\n",
    "\n",
    "# Model name and corresponding prediction column\n",
    "final_pred_cols = {\n",
    "    'RandomForest': 'final_pred_randomforest',\n",
    "    'ExtraTrees': 'final_pred_extratrees',\n",
    "    'XGBoost': 'final_pred_xgboost'\n",
    "}\n",
    "\n",
    "# Create 1x3 subplot\n",
    "fig, axes = plt.subplots(1, 3, figsize=(18, 5))\n",
    "\n",
    "for ax, (model_name, pred_col) in zip(axes, final_pred_cols.items()):\n",
    "    cm = confusion_matrix(eval_df['true_class'], eval_df[pred_col])\n",
    "    sns.heatmap(cm, annot=True, fmt='d', cmap='Blues', ax=ax, cbar=False,\n",
    "                xticklabels=[0, 1], yticklabels=[0, 1])\n",
    "    ax.set_title(f'{model_name} Confusion Matrix', fontsize=22, fontweight=5)\n",
    "    ax.set_xlabel('Predicted', fontsize=18)\n",
    "    ax.set_ylabel('Actual', fontsize=18)\n",
    "\n",
    "plt.tight_layout()\n",
    "plt.show()"
   ]
  },
  {
   "cell_type": "code",
   "execution_count": 83,
   "id": "131a65e2-29b2-4731-83ec-76d5f2ce59fe",
   "metadata": {
    "tags": []
   },
   "outputs": [
    {
     "data": {
      "image/png": "[encoded data removed]",
      "text/plain": [
       "<Figure size 2000x600 with 3 Axes>"
      ]
     },
     "metadata": {},
     "output_type": "display_data"
    }
   ],
   "source": [
    "import numpy as np\n",
    "import pandas as pd\n",
    "import matplotlib.pyplot as plt\n",
    "import seaborn as sns\n",
    "\n",
    "# Get feature names (excluding the target column)\n",
    "feature_names = X.columns.tolist()\n",
    "\n",
    "# Model name to finalized model mapping\n",
    "final_models = {\n",
    "    'RandomForest': final_rf,\n",
    "    'ExtraTrees': final_et,\n",
    "    'XGBoost': final_xgboost\n",
    "}\n",
    "\n",
    "# Plot top 15 features for each model\n",
    "fig, axes = plt.subplots(1, 3, figsize=(20, 6))\n",
    "\n",
    "for ax, (model_name, model) in zip(axes, final_models.items()):\n",
    "    # Get feature importances\n",
    "    importances = model.feature_importances_\n",
    "    importance_df = pd.DataFrame({\n",
    "        'Feature': feature_names,\n",
    "        'Importance': importances\n",
    "    }).sort_values(by='Importance', ascending=False).head(15)\n",
    "\n",
    "    sns.barplot(data=importance_df, x='Importance', y='Feature', ax=ax, palette='viridis')\n",
    "    ax.set_title(f'{model_name} Feature Importance', fontsize=22)\n",
    "    ax.set_xlabel('Importance', fontsize=18)\n",
    "    ax.set_ylabel('')\n",
    "\n",
    "plt.tight_layout()\n",
    "plt.show()"
   ]
  },
  {
   "cell_type": "code",
   "execution_count": null,
   "id": "a36674fe-ff15-493c-8ad3-673aaee32155",
   "metadata": {},
   "outputs": [],
   "source": []
  }
 ],
 "metadata": {
  "kernelspec": {
   "display_name": "Python 3 (ipykernel)",
   "language": "python",
   "name": "python3"
  },
  "language_info": {
   "codemirror_mode": {
    "name": "ipython",
    "version": 3
   },
   "file_extension": ".py",
   "mimetype": "text/x-python",
   "name": "python",
   "nbconvert_exporter": "python",
   "pygments_lexer": "ipython3",
   "version": "3.8.20"
  }
 },
 "nbformat": 4,
 "nbformat_minor": 5
}
